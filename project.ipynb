{
 "cells": [
  {
   "attachments": {},
   "cell_type": "markdown",
   "metadata": {},
   "source": [
    "## Data preparation"
   ]
  },
  {
   "cell_type": "code",
   "execution_count": 39,
   "metadata": {
    "vscode": {
     "languageId": "shellscript"
    }
   },
   "outputs": [],
   "source": [
    "import pandas as pd\n",
    "import numpy as np\n",
    "import matplotlib.pyplot as plt\n",
    "import seaborn as sns\n",
    "import plotly.express as px\n",
    "from scipy.stats import shapiro"
   ]
  },
  {
   "cell_type": "code",
   "execution_count": 40,
   "metadata": {
    "vscode": {
     "languageId": "shellscript"
    }
   },
   "outputs": [],
   "source": [
    "data_f = pd.read_csv('data/femtodos.csv', on_bad_lines='skip', sep=\";\", decimal=\",\")\n",
    "data_m = pd.read_csv('data/masctodos.csv', on_bad_lines='skip', sep=\";\", decimal=\",\")"
   ]
  },
  {
   "cell_type": "code",
   "execution_count": 41,
   "metadata": {
    "vscode": {
     "languageId": "shellscript"
    }
   },
   "outputs": [],
   "source": [
    "data_f['Is.Obese'] = data_f['Is.Obese'].map({'YES': 1, 'NO': 0})\n",
    "data_f['preh'] = data_f['preh'].map({'REGULAR': 0, 'PRE': 1})\n",
    "data_m['Is.Obese'] = data_m['Is.Obese'].map({'YES': 1, 'NO': 0})\n",
    "data_m['hyper'] = data_m['hyper'].map({'REGULAR': 0, 'HYPER': 1})"
   ]
  },
  {
   "cell_type": "code",
   "execution_count": 42,
   "metadata": {
    "vscode": {
     "languageId": "shellscript"
    }
   },
   "outputs": [
    {
     "data": {
      "text/html": [
       "<div>\n",
       "<style scoped>\n",
       "    .dataframe tbody tr th:only-of-type {\n",
       "        vertical-align: middle;\n",
       "    }\n",
       "\n",
       "    .dataframe tbody tr th {\n",
       "        vertical-align: top;\n",
       "    }\n",
       "\n",
       "    .dataframe thead th {\n",
       "        text-align: right;\n",
       "    }\n",
       "</style>\n",
       "<table border=\"1\" class=\"dataframe\">\n",
       "  <thead>\n",
       "    <tr style=\"text-align: right;\">\n",
       "      <th></th>\n",
       "      <th>id</th>\n",
       "      <th>Age</th>\n",
       "      <th>Is.Obese</th>\n",
       "      <th>bmi</th>\n",
       "      <th>wc</th>\n",
       "      <th>hc</th>\n",
       "      <th>whr</th>\n",
       "      <th>SBP</th>\n",
       "      <th>DBP</th>\n",
       "      <th>preh</th>\n",
       "    </tr>\n",
       "  </thead>\n",
       "  <tbody>\n",
       "    <tr>\n",
       "      <th>0</th>\n",
       "      <td>1</td>\n",
       "      <td>31</td>\n",
       "      <td>0</td>\n",
       "      <td>28.76</td>\n",
       "      <td>88</td>\n",
       "      <td>101</td>\n",
       "      <td>87</td>\n",
       "      <td>128.00</td>\n",
       "      <td>74.33</td>\n",
       "      <td>1</td>\n",
       "    </tr>\n",
       "    <tr>\n",
       "      <th>1</th>\n",
       "      <td>7</td>\n",
       "      <td>21</td>\n",
       "      <td>0</td>\n",
       "      <td>27.59</td>\n",
       "      <td>86</td>\n",
       "      <td>110</td>\n",
       "      <td>78</td>\n",
       "      <td>123.33</td>\n",
       "      <td>70.00</td>\n",
       "      <td>1</td>\n",
       "    </tr>\n",
       "    <tr>\n",
       "      <th>2</th>\n",
       "      <td>8</td>\n",
       "      <td>23</td>\n",
       "      <td>0</td>\n",
       "      <td>22.45</td>\n",
       "      <td>72</td>\n",
       "      <td>104</td>\n",
       "      <td>69</td>\n",
       "      <td>90.00</td>\n",
       "      <td>56.67</td>\n",
       "      <td>0</td>\n",
       "    </tr>\n",
       "    <tr>\n",
       "      <th>3</th>\n",
       "      <td>13</td>\n",
       "      <td>24</td>\n",
       "      <td>0</td>\n",
       "      <td>28.16</td>\n",
       "      <td>89</td>\n",
       "      <td>108</td>\n",
       "      <td>82</td>\n",
       "      <td>126.67</td>\n",
       "      <td>90.00</td>\n",
       "      <td>1</td>\n",
       "    </tr>\n",
       "    <tr>\n",
       "      <th>4</th>\n",
       "      <td>15</td>\n",
       "      <td>20</td>\n",
       "      <td>0</td>\n",
       "      <td>25.05</td>\n",
       "      <td>81</td>\n",
       "      <td>108</td>\n",
       "      <td>75</td>\n",
       "      <td>120.00</td>\n",
       "      <td>69.00</td>\n",
       "      <td>0</td>\n",
       "    </tr>\n",
       "    <tr>\n",
       "      <th>5</th>\n",
       "      <td>17</td>\n",
       "      <td>28</td>\n",
       "      <td>0</td>\n",
       "      <td>22.60</td>\n",
       "      <td>78</td>\n",
       "      <td>106</td>\n",
       "      <td>74</td>\n",
       "      <td>120.00</td>\n",
       "      <td>76.67</td>\n",
       "      <td>0</td>\n",
       "    </tr>\n",
       "    <tr>\n",
       "      <th>6</th>\n",
       "      <td>18</td>\n",
       "      <td>17</td>\n",
       "      <td>0</td>\n",
       "      <td>22.68</td>\n",
       "      <td>90</td>\n",
       "      <td>105</td>\n",
       "      <td>86</td>\n",
       "      <td>111.33</td>\n",
       "      <td>78.00</td>\n",
       "      <td>0</td>\n",
       "    </tr>\n",
       "    <tr>\n",
       "      <th>7</th>\n",
       "      <td>19</td>\n",
       "      <td>29</td>\n",
       "      <td>0</td>\n",
       "      <td>21.49</td>\n",
       "      <td>83</td>\n",
       "      <td>99</td>\n",
       "      <td>84</td>\n",
       "      <td>116.67</td>\n",
       "      <td>79.00</td>\n",
       "      <td>0</td>\n",
       "    </tr>\n",
       "    <tr>\n",
       "      <th>8</th>\n",
       "      <td>20</td>\n",
       "      <td>18</td>\n",
       "      <td>0</td>\n",
       "      <td>24.24</td>\n",
       "      <td>79</td>\n",
       "      <td>101</td>\n",
       "      <td>78</td>\n",
       "      <td>120.67</td>\n",
       "      <td>82.67</td>\n",
       "      <td>1</td>\n",
       "    </tr>\n",
       "    <tr>\n",
       "      <th>9</th>\n",
       "      <td>21</td>\n",
       "      <td>17</td>\n",
       "      <td>0</td>\n",
       "      <td>22.79</td>\n",
       "      <td>79</td>\n",
       "      <td>99</td>\n",
       "      <td>80</td>\n",
       "      <td>115.00</td>\n",
       "      <td>74.00</td>\n",
       "      <td>0</td>\n",
       "    </tr>\n",
       "  </tbody>\n",
       "</table>\n",
       "</div>"
      ],
      "text/plain": [
       "   id  Age  Is.Obese    bmi  wc   hc  whr     SBP    DBP  preh\n",
       "0   1   31         0  28.76  88  101   87  128.00  74.33     1\n",
       "1   7   21         0  27.59  86  110   78  123.33  70.00     1\n",
       "2   8   23         0  22.45  72  104   69   90.00  56.67     0\n",
       "3  13   24         0  28.16  89  108   82  126.67  90.00     1\n",
       "4  15   20         0  25.05  81  108   75  120.00  69.00     0\n",
       "5  17   28         0  22.60  78  106   74  120.00  76.67     0\n",
       "6  18   17         0  22.68  90  105   86  111.33  78.00     0\n",
       "7  19   29         0  21.49  83   99   84  116.67  79.00     0\n",
       "8  20   18         0  24.24  79  101   78  120.67  82.67     1\n",
       "9  21   17         0  22.79  79   99   80  115.00  74.00     0"
      ]
     },
     "execution_count": 42,
     "metadata": {},
     "output_type": "execute_result"
    }
   ],
   "source": [
    "data_f.head(10)"
   ]
  },
  {
   "cell_type": "code",
   "execution_count": 43,
   "metadata": {
    "vscode": {
     "languageId": "shellscript"
    }
   },
   "outputs": [
    {
     "data": {
      "text/html": [
       "<div>\n",
       "<style scoped>\n",
       "    .dataframe tbody tr th:only-of-type {\n",
       "        vertical-align: middle;\n",
       "    }\n",
       "\n",
       "    .dataframe tbody tr th {\n",
       "        vertical-align: top;\n",
       "    }\n",
       "\n",
       "    .dataframe thead th {\n",
       "        text-align: right;\n",
       "    }\n",
       "</style>\n",
       "<table border=\"1\" class=\"dataframe\">\n",
       "  <thead>\n",
       "    <tr style=\"text-align: right;\">\n",
       "      <th></th>\n",
       "      <th>id</th>\n",
       "      <th>Age</th>\n",
       "      <th>Is.Obese</th>\n",
       "      <th>bmi</th>\n",
       "      <th>wc</th>\n",
       "      <th>hc</th>\n",
       "      <th>whr</th>\n",
       "      <th>SBP</th>\n",
       "      <th>DBP</th>\n",
       "      <th>hyper</th>\n",
       "    </tr>\n",
       "  </thead>\n",
       "  <tbody>\n",
       "    <tr>\n",
       "      <th>0</th>\n",
       "      <td>1</td>\n",
       "      <td>20</td>\n",
       "      <td>0</td>\n",
       "      <td>27.94</td>\n",
       "      <td>95</td>\n",
       "      <td>112</td>\n",
       "      <td>85</td>\n",
       "      <td>120.00</td>\n",
       "      <td>80.00</td>\n",
       "      <td>0</td>\n",
       "    </tr>\n",
       "    <tr>\n",
       "      <th>1</th>\n",
       "      <td>7</td>\n",
       "      <td>19</td>\n",
       "      <td>0</td>\n",
       "      <td>18.65</td>\n",
       "      <td>69</td>\n",
       "      <td>85</td>\n",
       "      <td>81</td>\n",
       "      <td>100.00</td>\n",
       "      <td>63.33</td>\n",
       "      <td>0</td>\n",
       "    </tr>\n",
       "    <tr>\n",
       "      <th>2</th>\n",
       "      <td>8</td>\n",
       "      <td>31</td>\n",
       "      <td>0</td>\n",
       "      <td>27.62</td>\n",
       "      <td>102</td>\n",
       "      <td>107</td>\n",
       "      <td>95</td>\n",
       "      <td>106.67</td>\n",
       "      <td>70.00</td>\n",
       "      <td>0</td>\n",
       "    </tr>\n",
       "    <tr>\n",
       "      <th>3</th>\n",
       "      <td>13</td>\n",
       "      <td>22</td>\n",
       "      <td>0</td>\n",
       "      <td>24.96</td>\n",
       "      <td>86</td>\n",
       "      <td>107</td>\n",
       "      <td>80</td>\n",
       "      <td>120.00</td>\n",
       "      <td>80.00</td>\n",
       "      <td>0</td>\n",
       "    </tr>\n",
       "    <tr>\n",
       "      <th>4</th>\n",
       "      <td>15</td>\n",
       "      <td>19</td>\n",
       "      <td>0</td>\n",
       "      <td>25.15</td>\n",
       "      <td>82</td>\n",
       "      <td>99</td>\n",
       "      <td>83</td>\n",
       "      <td>126.67</td>\n",
       "      <td>80.00</td>\n",
       "      <td>0</td>\n",
       "    </tr>\n",
       "    <tr>\n",
       "      <th>5</th>\n",
       "      <td>17</td>\n",
       "      <td>31</td>\n",
       "      <td>0</td>\n",
       "      <td>22.50</td>\n",
       "      <td>79</td>\n",
       "      <td>97</td>\n",
       "      <td>81</td>\n",
       "      <td>170.00</td>\n",
       "      <td>103.33</td>\n",
       "      <td>1</td>\n",
       "    </tr>\n",
       "    <tr>\n",
       "      <th>6</th>\n",
       "      <td>20</td>\n",
       "      <td>21</td>\n",
       "      <td>0</td>\n",
       "      <td>25.31</td>\n",
       "      <td>92</td>\n",
       "      <td>104</td>\n",
       "      <td>88</td>\n",
       "      <td>130.00</td>\n",
       "      <td>90.00</td>\n",
       "      <td>0</td>\n",
       "    </tr>\n",
       "    <tr>\n",
       "      <th>7</th>\n",
       "      <td>21</td>\n",
       "      <td>20</td>\n",
       "      <td>0</td>\n",
       "      <td>25.73</td>\n",
       "      <td>90</td>\n",
       "      <td>94</td>\n",
       "      <td>96</td>\n",
       "      <td>130.00</td>\n",
       "      <td>80.00</td>\n",
       "      <td>0</td>\n",
       "    </tr>\n",
       "    <tr>\n",
       "      <th>8</th>\n",
       "      <td>22</td>\n",
       "      <td>17</td>\n",
       "      <td>0</td>\n",
       "      <td>25.16</td>\n",
       "      <td>84</td>\n",
       "      <td>99</td>\n",
       "      <td>85</td>\n",
       "      <td>142.00</td>\n",
       "      <td>82.67</td>\n",
       "      <td>1</td>\n",
       "    </tr>\n",
       "    <tr>\n",
       "      <th>9</th>\n",
       "      <td>23</td>\n",
       "      <td>25</td>\n",
       "      <td>0</td>\n",
       "      <td>25.12</td>\n",
       "      <td>84</td>\n",
       "      <td>104</td>\n",
       "      <td>81</td>\n",
       "      <td>166.67</td>\n",
       "      <td>106.67</td>\n",
       "      <td>1</td>\n",
       "    </tr>\n",
       "  </tbody>\n",
       "</table>\n",
       "</div>"
      ],
      "text/plain": [
       "   id  Age  Is.Obese    bmi   wc   hc  whr     SBP     DBP  hyper\n",
       "0   1   20         0  27.94   95  112   85  120.00   80.00      0\n",
       "1   7   19         0  18.65   69   85   81  100.00   63.33      0\n",
       "2   8   31         0  27.62  102  107   95  106.67   70.00      0\n",
       "3  13   22         0  24.96   86  107   80  120.00   80.00      0\n",
       "4  15   19         0  25.15   82   99   83  126.67   80.00      0\n",
       "5  17   31         0  22.50   79   97   81  170.00  103.33      1\n",
       "6  20   21         0  25.31   92  104   88  130.00   90.00      0\n",
       "7  21   20         0  25.73   90   94   96  130.00   80.00      0\n",
       "8  22   17         0  25.16   84   99   85  142.00   82.67      1\n",
       "9  23   25         0  25.12   84  104   81  166.67  106.67      1"
      ]
     },
     "execution_count": 43,
     "metadata": {},
     "output_type": "execute_result"
    }
   ],
   "source": [
    "data_m.head(10)"
   ]
  },
  {
   "attachments": {},
   "cell_type": "markdown",
   "metadata": {},
   "source": [
    "The predictive variables included in the models were BMI, WC, HC, and WHR. In women we are investigating prehypertension (because only 8% of women had SBP above 140) and in men hypertension."
   ]
  },
  {
   "attachments": {},
   "cell_type": "markdown",
   "metadata": {},
   "source": [
    "## Data visualisation"
   ]
  },
  {
   "cell_type": "code",
   "execution_count": 44,
   "metadata": {
    "vscode": {
     "languageId": "shellscript"
    }
   },
   "outputs": [
    {
     "data": {
      "image/png": "[encoded data removed]",
      "text/plain": [
       "<Figure size 640x480 with 1 Axes>"
      ]
     },
     "metadata": {},
     "output_type": "display_data"
    },
    {
     "data": {
      "image/png": "[encoded data removed]",
      "text/plain": [
       "<Figure size 640x480 with 1 Axes>"
      ]
     },
     "metadata": {},
     "output_type": "display_data"
    },
    {
     "data": {
      "image/png": "[encoded data removed]",
      "text/plain": [
       "<Figure size 640x480 with 1 Axes>"
      ]
     },
     "metadata": {},
     "output_type": "display_data"
    },
    {
     "data": {
      "image/png": "[encoded data removed]",
      "text/plain": [
       "<Figure size 640x480 with 1 Axes>"
      ]
     },
     "metadata": {},
     "output_type": "display_data"
    },
    {
     "data": {
      "image/png": "[encoded data removed]",
      "text/plain": [
       "<Figure size 640x480 with 1 Axes>"
      ]
     },
     "metadata": {},
     "output_type": "display_data"
    }
   ],
   "source": [
    "column_combinations = [['bmi','hc'], ['bmi','whr'], ['bmi','wc'], ['wc','hc'], ['wc','whr']]\n",
    "\n",
    "for combination in column_combinations:\n",
    "    x_col, y_col = combination\n",
    "\n",
    "    plt.scatter(data_f[x_col], data_f[y_col], c = data_f['preh'])\n",
    "    plt.xlabel(x_col)\n",
    "    plt.ylabel(y_col)\n",
    "    plt.title(f'{x_col} vs {y_col}')\n",
    "    plt.show()"
   ]
  },
  {
   "cell_type": "code",
   "execution_count": 45,
   "metadata": {
    "vscode": {
     "languageId": "shellscript"
    }
   },
   "outputs": [
    {
     "data": {
      "application/vnd.plotly.v1+json": {
       "config": {
        "plotlyServerURL": "https://plot.ly"
       },
       "data": [
        {
         "hovertemplate": "bmi=%{x}<br>wc=%{y}<br>hc=%{z}<br>preh=%{marker.color}<extra></extra>",
         "legendgroup": "",
         "marker": {
          "color": [
           1,
           1,
           0,
           1,
           0,
           0,
           0,
           0,
           1,
           0,
           1,
           1,
           1,
           0,
           1,
           1,
           0,
           1,
           1,
           0,
           1,
           0,
           0,
           0,
           0,
           1,
           0,
           1,
           1,
           0,
           0,
           0,
           0,
           1,
           0,
           0,
           0,
           0,
           0,
           0,
           1,
           0,
           0,
           0,
           0,
           0,
           1,
           1,
           1,
           0,
           1,
           1,
           0,
           1,
           1,
           0,
           0,
           0,
           1,
           0,
           0,
           1,
           0,
           0,
           0,
           1,
           0,
           0,
           0,
           0,
           0,
           1,
           0,
           1,
           0,
           1,
           0,
           1,
           1,
           0,
           1,
           0,
           1,
           0,
           0,
           1,
           0,
           1,
           1,
           1,
           0,
           0,
           1,
           0,
           0,
           1,
           1,
           1,
           1,
           0,
           1,
           1,
           0,
           0,
           1,
           0,
           1,
           0,
           1,
           0,
           1,
           0,
           0,
           1,
           0,
           0,
           0,
           0,
           0,
           0,
           1,
           1,
           1,
           0,
           0,
           0,
           1,
           1,
           0,
           1,
           0,
           1,
           0,
           1,
           0,
           0,
           0,
           1,
           0,
           1,
           0,
           0,
           1,
           1,
           0,
           0,
           1,
           0,
           1,
           1,
           1,
           1,
           1,
           1,
           1,
           1,
           0,
           0,
           0,
           0,
           0,
           1,
           0,
           0,
           0,
           0,
           0,
           0,
           0,
           0,
           1,
           0,
           0,
           0,
           0,
           0,
           1,
           1,
           0,
           0,
           0,
           1,
           0,
           0,
           1,
           0,
           1,
           1,
           0,
           0,
           1,
           1,
           1,
           1,
           0,
           0,
           1,
           0,
           0,
           1,
           0,
           0,
           1,
           1,
           0,
           0,
           0,
           0,
           1,
           1,
           0,
           1,
           0,
           0,
           0,
           0,
           0,
           1,
           1,
           1,
           1,
           1,
           0,
           0
          ],
          "coloraxis": "coloraxis",
          "symbol": "circle"
         },
         "mode": "markers",
         "name": "",
         "scene": "scene",
         "showlegend": false,
         "type": "scatter3d",
         "x": [
          28.76,
          27.59,
          22.45,
          28.16,
          25.05,
          22.6,
          22.68,
          21.49,
          24.24,
          22.79,
          22.04,
          19.2,
          29.83,
          18.63,
          28.04,
          20.11,
          21.93,
          20,
          19.21,
          23.93,
          24.02,
          16.23,
          16.6,
          18.05,
          24.35,
          27.3,
          24.64,
          21.13,
          21.29,
          21.72,
          19.45,
          23.53,
          22.79,
          26.1,
          19.8,
          17.57,
          25.77,
          26.37,
          21.09,
          25.77,
          29.42,
          20.76,
          17.18,
          20.37,
          16.42,
          19.55,
          19.14,
          24.76,
          21.39,
          24.91,
          22.27,
          19.18,
          21.42,
          19.75,
          23.31,
          28.69,
          17.91,
          20.35,
          26.14,
          23.86,
          22.48,
          17.44,
          21.23,
          24.72,
          21.87,
          23.36,
          20.61,
          19.1,
          20.44,
          21.48,
          23.23,
          17.6,
          22.31,
          24.13,
          23.28,
          20.87,
          19.47,
          24.78,
          22.41,
          20.97,
          25.92,
          24.76,
          24.66,
          25.63,
          25.65,
          25.65,
          23.46,
          19.6,
          27.83,
          18.31,
          22.43,
          23.35,
          22.98,
          27.25,
          25.56,
          23.77,
          20.12,
          21.97,
          21.08,
          22.59,
          19.66,
          27.47,
          26.27,
          29.81,
          20.1,
          25.93,
          32.71,
          30.64,
          32.8,
          31.45,
          31.35,
          31.03,
          18.8,
          28.48,
          19.29,
          20.4,
          21.79,
          23.16,
          21.9,
          21.95,
          23.58,
          25.63,
          24.41,
          17.99,
          18.9,
          18.82,
          24.22,
          20.11,
          20.45,
          25.6,
          19.17,
          19.94,
          20.77,
          22.93,
          20.81,
          25.38,
          19,
          21.19,
          20.2,
          23.53,
          19.07,
          27.09,
          24.44,
          24.39,
          25.49,
          21.15,
          19.6,
          22.02,
          24.48,
          17.2,
          22.23,
          21.82,
          18.98,
          21.91,
          23.4,
          26.89,
          21.15,
          26.5,
          19.97,
          20.08,
          19.68,
          20.87,
          22.1,
          20.37,
          26.74,
          18.98,
          16.77,
          22.47,
          21.25,
          24.03,
          26.23,
          22.45,
          22.15,
          26.35,
          19.99,
          20.14,
          21.6,
          22.47,
          23.95,
          20.96,
          22.48,
          17.78,
          19,
          23.32,
          24.86,
          22.28,
          26.43,
          27.41,
          20.81,
          19.95,
          22.17,
          29.24,
          18.8,
          22.88,
          22.06,
          25.58,
          26.77,
          25.03,
          27.25,
          21.79,
          22.75,
          26.75,
          24.22,
          25.04,
          23.06,
          26.43,
          24.72,
          25.49,
          23.52,
          27.78,
          19.16,
          28.67,
          21.59,
          24.13,
          22.4,
          22.04,
          17.78,
          31,
          31.5,
          45.15,
          37.89,
          33.24,
          35.68,
          36.24
         ],
         "y": [
          88,
          86,
          72,
          89,
          81,
          78,
          90,
          83,
          79,
          79,
          74,
          71,
          93,
          61,
          97,
          80,
          74,
          70,
          65,
          70,
          78,
          67,
          63,
          73,
          81,
          85,
          72,
          71,
          72,
          72,
          72,
          76,
          75,
          83,
          67,
          64,
          81,
          79,
          83,
          78,
          92,
          76,
          65,
          78,
          66,
          69,
          64,
          75,
          74,
          85,
          67,
          75,
          76,
          67,
          69,
          91,
          69,
          73,
          80,
          76,
          75,
          72,
          75,
          77,
          68,
          68,
          69,
          68,
          65,
          75,
          72,
          63,
          76,
          75,
          64,
          71,
          68,
          75,
          76,
          71,
          82,
          79,
          81,
          81,
          87,
          80,
          74,
          73,
          88,
          65,
          76,
          77,
          80,
          92,
          80,
          78,
          66,
          73,
          72,
          77,
          65,
          81,
          79,
          93,
          66,
          72,
          101,
          84,
          95,
          90,
          102,
          86,
          78,
          87,
          73,
          63,
          85,
          80,
          74,
          70,
          78,
          77,
          75,
          62,
          66,
          68,
          79,
          65,
          66,
          81,
          63,
          77,
          72,
          68,
          66,
          76,
          62,
          77,
          68,
          72,
          68,
          94,
          86,
          79,
          83,
          73,
          66,
          79,
          89,
          69,
          80,
          72,
          67,
          73,
          83,
          85,
          63,
          75,
          69,
          78,
          66,
          75,
          74,
          69,
          85,
          65,
          68,
          66,
          72,
          76,
          81,
          80,
          75,
          83,
          71,
          70,
          79,
          67,
          74,
          73,
          81,
          63,
          65,
          77,
          94,
          73,
          78,
          83,
          74,
          68,
          75,
          87,
          67,
          80,
          77,
          82,
          87,
          76,
          86,
          75,
          78,
          82,
          78,
          71,
          76,
          81,
          77,
          87,
          78,
          97,
          77,
          98,
          79,
          80,
          79,
          80,
          70,
          95,
          98,
          112,
          96,
          104,
          103,
          113
         ],
         "z": [
          101,
          110,
          104,
          108,
          108,
          106,
          105,
          99,
          101,
          99,
          94,
          90,
          120,
          90,
          106,
          105,
          101,
          89,
          95,
          100,
          107,
          88,
          86,
          94,
          100,
          109,
          102,
          98,
          94,
          97,
          95,
          92,
          99,
          105,
          92,
          93,
          109,
          106,
          93,
          115,
          118,
          101,
          83,
          98,
          91,
          93,
          87,
          106,
          110,
          106,
          99,
          102,
          97,
          93,
          94,
          118,
          89,
          97,
          105,
          106,
          103,
          99,
          103,
          101,
          95,
          95,
          94,
          93,
          94,
          99,
          103,
          79,
          98,
          92,
          95,
          99,
          93,
          91,
          113,
          94,
          103,
          107,
          100,
          102,
          107,
          106,
          99,
          102,
          107,
          95,
          97,
          108,
          108,
          112,
          98,
          102,
          92,
          93,
          94,
          104,
          94,
          108,
          97,
          120,
          98,
          104,
          122,
          122,
          112,
          115,
          122,
          110,
          95,
          111,
          95,
          96,
          101,
          100,
          94,
          94,
          100,
          103,
          101,
          94,
          89,
          95,
          98,
          93,
          98,
          103,
          98,
          86,
          97,
          96,
          90,
          103,
          88,
          99,
          101,
          105,
          89,
          102,
          110,
          103,
          98,
          97,
          89,
          101,
          110,
          94,
          100,
          99,
          88,
          98,
          99,
          109,
          97,
          105,
          88,
          102,
          92,
          94,
          102,
          93,
          102,
          94,
          87,
          102,
          98,
          105,
          106,
          104,
          97,
          103,
          89,
          97,
          101,
          98,
          103,
          99,
          108,
          93,
          92,
          101,
          90,
          111,
          105,
          108,
          93,
          93,
          89,
          107,
          94,
          103,
          105,
          105,
          106,
          105,
          107,
          100,
          102,
          107,
          110,
          99,
          102,
          104,
          106,
          107,
          106,
          114,
          90,
          108,
          94,
          101,
          102,
          99,
          110,
          113,
          121,
          132,
          124,
          108,
          130,
          128
         ]
        }
       ],
       "layout": {
        "coloraxis": {
         "colorbar": {
          "title": {
           "text": "preh"
          }
         },
         "colorscale": [
          [
           0,
           "#0d0887"
          ],
          [
           0.1111111111111111,
           "#46039f"
          ],
          [
           0.2222222222222222,
           "#7201a8"
          ],
          [
           0.3333333333333333,
           "#9c179e"
          ],
          [
           0.4444444444444444,
           "#bd3786"
          ],
          [
           0.5555555555555556,
           "#d8576b"
          ],
          [
           0.6666666666666666,
           "#ed7953"
          ],
          [
           0.7777777777777778,
           "#fb9f3a"
          ],
          [
           0.8888888888888888,
           "#fdca26"
          ],
          [
           1,
           "#f0f921"
          ]
         ]
        },
        "legend": {
         "tracegroupgap": 0
        },
        "margin": {
         "t": 60
        },
        "scene": {
         "domain": {
          "x": [
           0,
           1
          ],
          "y": [
           0,
           1
          ]
         },
         "xaxis": {
          "title": {
           "text": "bmi"
          }
         },
         "yaxis": {
          "title": {
           "text": "wc"
          }
         },
         "zaxis": {
          "title": {
           "text": "hc"
          }
         }
        },
        "template": {
         "data": {
          "bar": [
           {
            "error_x": {
             "color": "#2a3f5f"
            },
            "error_y": {
             "color": "#2a3f5f"
            },
            "marker": {
             "line": {
              "color": "#E5ECF6",
              "width": 0.5
             },
             "pattern": {
              "fillmode": "overlay",
              "size": 10,
              "solidity": 0.2
             }
            },
            "type": "bar"
           }
          ],
          "barpolar": [
           {
            "marker": {
             "line": {
              "color": "#E5ECF6",
              "width": 0.5
             },
             "pattern": {
              "fillmode": "overlay",
              "size": 10,
              "solidity": 0.2
             }
            },
            "type": "barpolar"
           }
          ],
          "carpet": [
           {
            "aaxis": {
             "endlinecolor": "#2a3f5f",
             "gridcolor": "white",
             "linecolor": "white",
             "minorgridcolor": "white",
             "startlinecolor": "#2a3f5f"
            },
            "baxis": {
             "endlinecolor": "#2a3f5f",
             "gridcolor": "white",
             "linecolor": "white",
             "minorgridcolor": "white",
             "startlinecolor": "#2a3f5f"
            },
            "type": "carpet"
           }
          ],
          "choropleth": [
           {
            "colorbar": {
             "outlinewidth": 0,
             "ticks": ""
            },
            "type": "choropleth"
           }
          ],
          "contour": [
           {
            "colorbar": {
             "outlinewidth": 0,
             "ticks": ""
            },
            "colorscale": [
             [
              0,
              "#0d0887"
             ],
             [
              0.1111111111111111,
              "#46039f"
             ],
             [
              0.2222222222222222,
              "#7201a8"
             ],
             [
              0.3333333333333333,
              "#9c179e"
             ],
             [
              0.4444444444444444,
              "#bd3786"
             ],
             [
              0.5555555555555556,
              "#d8576b"
             ],
             [
              0.6666666666666666,
              "#ed7953"
             ],
             [
              0.7777777777777778,
              "#fb9f3a"
             ],
             [
              0.8888888888888888,
              "#fdca26"
             ],
             [
              1,
              "#f0f921"
             ]
            ],
            "type": "contour"
           }
          ],
          "contourcarpet": [
           {
            "colorbar": {
             "outlinewidth": 0,
             "ticks": ""
            },
            "type": "contourcarpet"
           }
          ],
          "heatmap": [
           {
            "colorbar": {
             "outlinewidth": 0,
             "ticks": ""
            },
            "colorscale": [
             [
              0,
              "#0d0887"
             ],
             [
              0.1111111111111111,
              "#46039f"
             ],
             [
              0.2222222222222222,
              "#7201a8"
             ],
             [
              0.3333333333333333,
              "#9c179e"
             ],
             [
              0.4444444444444444,
              "#bd3786"
             ],
             [
              0.5555555555555556,
              "#d8576b"
             ],
             [
              0.6666666666666666,
              "#ed7953"
             ],
             [
              0.7777777777777778,
              "#fb9f3a"
             ],
             [
              0.8888888888888888,
              "#fdca26"
             ],
             [
              1,
              "#f0f921"
             ]
            ],
            "type": "heatmap"
           }
          ],
          "heatmapgl": [
           {
            "colorbar": {
             "outlinewidth": 0,
             "ticks": ""
            },
            "colorscale": [
             [
              0,
              "#0d0887"
             ],
             [
              0.1111111111111111,
              "#46039f"
             ],
             [
              0.2222222222222222,
              "#7201a8"
             ],
             [
              0.3333333333333333,
              "#9c179e"
             ],
             [
              0.4444444444444444,
              "#bd3786"
             ],
             [
              0.5555555555555556,
              "#d8576b"
             ],
             [
              0.6666666666666666,
              "#ed7953"
             ],
             [
              0.7777777777777778,
              "#fb9f3a"
             ],
             [
              0.8888888888888888,
              "#fdca26"
             ],
             [
              1,
              "#f0f921"
             ]
            ],
            "type": "heatmapgl"
           }
          ],
          "histogram": [
           {
            "marker": {
             "pattern": {
              "fillmode": "overlay",
              "size": 10,
              "solidity": 0.2
             }
            },
            "type": "histogram"
           }
          ],
          "histogram2d": [
           {
            "colorbar": {
             "outlinewidth": 0,
             "ticks": ""
            },
            "colorscale": [
             [
              0,
              "#0d0887"
             ],
             [
              0.1111111111111111,
              "#46039f"
             ],
             [
              0.2222222222222222,
              "#7201a8"
             ],
             [
              0.3333333333333333,
              "#9c179e"
             ],
             [
              0.4444444444444444,
              "#bd3786"
             ],
             [
              0.5555555555555556,
              "#d8576b"
             ],
             [
              0.6666666666666666,
              "#ed7953"
             ],
             [
              0.7777777777777778,
              "#fb9f3a"
             ],
             [
              0.8888888888888888,
              "#fdca26"
             ],
             [
              1,
              "#f0f921"
             ]
            ],
            "type": "histogram2d"
           }
          ],
          "histogram2dcontour": [
           {
            "colorbar": {
             "outlinewidth": 0,
             "ticks": ""
            },
            "colorscale": [
             [
              0,
              "#0d0887"
             ],
             [
              0.1111111111111111,
              "#46039f"
             ],
             [
              0.2222222222222222,
              "#7201a8"
             ],
             [
              0.3333333333333333,
              "#9c179e"
             ],
             [
              0.4444444444444444,
              "#bd3786"
             ],
             [
              0.5555555555555556,
              "#d8576b"
             ],
             [
              0.6666666666666666,
              "#ed7953"
             ],
             [
              0.7777777777777778,
              "#fb9f3a"
             ],
             [
              0.8888888888888888,
              "#fdca26"
             ],
             [
              1,
              "#f0f921"
             ]
            ],
            "type": "histogram2dcontour"
           }
          ],
          "mesh3d": [
           {
            "colorbar": {
             "outlinewidth": 0,
             "ticks": ""
            },
            "type": "mesh3d"
           }
          ],
          "parcoords": [
           {
            "line": {
             "colorbar": {
              "outlinewidth": 0,
              "ticks": ""
             }
            },
            "type": "parcoords"
           }
          ],
          "pie": [
           {
            "automargin": true,
            "type": "pie"
           }
          ],
          "scatter": [
           {
            "fillpattern": {
             "fillmode": "overlay",
             "size": 10,
             "solidity": 0.2
            },
            "type": "scatter"
           }
          ],
          "scatter3d": [
           {
            "line": {
             "colorbar": {
              "outlinewidth": 0,
              "ticks": ""
             }
            },
            "marker": {
             "colorbar": {
              "outlinewidth": 0,
              "ticks": ""
             }
            },
            "type": "scatter3d"
           }
          ],
          "scattercarpet": [
           {
            "marker": {
             "colorbar": {
              "outlinewidth": 0,
              "ticks": ""
             }
            },
            "type": "scattercarpet"
           }
          ],
          "scattergeo": [
           {
            "marker": {
             "colorbar": {
              "outlinewidth": 0,
              "ticks": ""
             }
            },
            "type": "scattergeo"
           }
          ],
          "scattergl": [
           {
            "marker": {
             "colorbar": {
              "outlinewidth": 0,
              "ticks": ""
             }
            },
            "type": "scattergl"
           }
          ],
          "scattermapbox": [
           {
            "marker": {
             "colorbar": {
              "outlinewidth": 0,
              "ticks": ""
             }
            },
            "type": "scattermapbox"
           }
          ],
          "scatterpolar": [
           {
            "marker": {
             "colorbar": {
              "outlinewidth": 0,
              "ticks": ""
             }
            },
            "type": "scatterpolar"
           }
          ],
          "scatterpolargl": [
           {
            "marker": {
             "colorbar": {
              "outlinewidth": 0,
              "ticks": ""
             }
            },
            "type": "scatterpolargl"
           }
          ],
          "scatterternary": [
           {
            "marker": {
             "colorbar": {
              "outlinewidth": 0,
              "ticks": ""
             }
            },
            "type": "scatterternary"
           }
          ],
          "surface": [
           {
            "colorbar": {
             "outlinewidth": 0,
             "ticks": ""
            },
            "colorscale": [
             [
              0,
              "#0d0887"
             ],
             [
              0.1111111111111111,
              "#46039f"
             ],
             [
              0.2222222222222222,
              "#7201a8"
             ],
             [
              0.3333333333333333,
              "#9c179e"
             ],
             [
              0.4444444444444444,
              "#bd3786"
             ],
             [
              0.5555555555555556,
              "#d8576b"
             ],
             [
              0.6666666666666666,
              "#ed7953"
             ],
             [
              0.7777777777777778,
              "#fb9f3a"
             ],
             [
              0.8888888888888888,
              "#fdca26"
             ],
             [
              1,
              "#f0f921"
             ]
            ],
            "type": "surface"
           }
          ],
          "table": [
           {
            "cells": {
             "fill": {
              "color": "#EBF0F8"
             },
             "line": {
              "color": "white"
             }
            },
            "header": {
             "fill": {
              "color": "#C8D4E3"
             },
             "line": {
              "color": "white"
             }
            },
            "type": "table"
           }
          ]
         },
         "layout": {
          "annotationdefaults": {
           "arrowcolor": "#2a3f5f",
           "arrowhead": 0,
           "arrowwidth": 1
          },
          "autotypenumbers": "strict",
          "coloraxis": {
           "colorbar": {
            "outlinewidth": 0,
            "ticks": ""
           }
          },
          "colorscale": {
           "diverging": [
            [
             0,
             "#8e0152"
            ],
            [
             0.1,
             "#c51b7d"
            ],
            [
             0.2,
             "#de77ae"
            ],
            [
             0.3,
             "#f1b6da"
            ],
            [
             0.4,
             "#fde0ef"
            ],
            [
             0.5,
             "#f7f7f7"
            ],
            [
             0.6,
             "#e6f5d0"
            ],
            [
             0.7,
             "#b8e186"
            ],
            [
             0.8,
             "#7fbc41"
            ],
            [
             0.9,
             "#4d9221"
            ],
            [
             1,
             "#276419"
            ]
           ],
           "sequential": [
            [
             0,
             "#0d0887"
            ],
            [
             0.1111111111111111,
             "#46039f"
            ],
            [
             0.2222222222222222,
             "#7201a8"
            ],
            [
             0.3333333333333333,
             "#9c179e"
            ],
            [
             0.4444444444444444,
             "#bd3786"
            ],
            [
             0.5555555555555556,
             "#d8576b"
            ],
            [
             0.6666666666666666,
             "#ed7953"
            ],
            [
             0.7777777777777778,
             "#fb9f3a"
            ],
            [
             0.8888888888888888,
             "#fdca26"
            ],
            [
             1,
             "#f0f921"
            ]
           ],
           "sequentialminus": [
            [
             0,
             "#0d0887"
            ],
            [
             0.1111111111111111,
             "#46039f"
            ],
            [
             0.2222222222222222,
             "#7201a8"
            ],
            [
             0.3333333333333333,
             "#9c179e"
            ],
            [
             0.4444444444444444,
             "#bd3786"
            ],
            [
             0.5555555555555556,
             "#d8576b"
            ],
            [
             0.6666666666666666,
             "#ed7953"
            ],
            [
             0.7777777777777778,
             "#fb9f3a"
            ],
            [
             0.8888888888888888,
             "#fdca26"
            ],
            [
             1,
             "#f0f921"
            ]
           ]
          },
          "colorway": [
           "#636efa",
           "#EF553B",
           "#00cc96",
           "#ab63fa",
           "#FFA15A",
           "#19d3f3",
           "#FF6692",
           "#B6E880",
           "#FF97FF",
           "#FECB52"
          ],
          "font": {
           "color": "#2a3f5f"
          },
          "geo": {
           "bgcolor": "white",
           "lakecolor": "white",
           "landcolor": "#E5ECF6",
           "showlakes": true,
           "showland": true,
           "subunitcolor": "white"
          },
          "hoverlabel": {
           "align": "left"
          },
          "hovermode": "closest",
          "mapbox": {
           "style": "light"
          },
          "paper_bgcolor": "white",
          "plot_bgcolor": "#E5ECF6",
          "polar": {
           "angularaxis": {
            "gridcolor": "white",
            "linecolor": "white",
            "ticks": ""
           },
           "bgcolor": "#E5ECF6",
           "radialaxis": {
            "gridcolor": "white",
            "linecolor": "white",
            "ticks": ""
           }
          },
          "scene": {
           "xaxis": {
            "backgroundcolor": "#E5ECF6",
            "gridcolor": "white",
            "gridwidth": 2,
            "linecolor": "white",
            "showbackground": true,
            "ticks": "",
            "zerolinecolor": "white"
           },
           "yaxis": {
            "backgroundcolor": "#E5ECF6",
            "gridcolor": "white",
            "gridwidth": 2,
            "linecolor": "white",
            "showbackground": true,
            "ticks": "",
            "zerolinecolor": "white"
           },
           "zaxis": {
            "backgroundcolor": "#E5ECF6",
            "gridcolor": "white",
            "gridwidth": 2,
            "linecolor": "white",
            "showbackground": true,
            "ticks": "",
            "zerolinecolor": "white"
           }
          },
          "shapedefaults": {
           "line": {
            "color": "#2a3f5f"
           }
          },
          "ternary": {
           "aaxis": {
            "gridcolor": "white",
            "linecolor": "white",
            "ticks": ""
           },
           "baxis": {
            "gridcolor": "white",
            "linecolor": "white",
            "ticks": ""
           },
           "bgcolor": "#E5ECF6",
           "caxis": {
            "gridcolor": "white",
            "linecolor": "white",
            "ticks": ""
           }
          },
          "title": {
           "x": 0.05
          },
          "xaxis": {
           "automargin": true,
           "gridcolor": "white",
           "linecolor": "white",
           "ticks": "",
           "title": {
            "standoff": 15
           },
           "zerolinecolor": "white",
           "zerolinewidth": 2
          },
          "yaxis": {
           "automargin": true,
           "gridcolor": "white",
           "linecolor": "white",
           "ticks": "",
           "title": {
            "standoff": 15
           },
           "zerolinecolor": "white",
           "zerolinewidth": 2
          }
         }
        }
       }
      }
     },
     "metadata": {},
     "output_type": "display_data"
    },
    {
     "data": {
      "application/vnd.plotly.v1+json": {
       "config": {
        "plotlyServerURL": "https://plot.ly"
       },
       "data": [
        {
         "hovertemplate": "wc=%{x}<br>hc=%{y}<br>whr=%{z}<br>preh=%{marker.color}<extra></extra>",
         "legendgroup": "",
         "marker": {
          "color": [
           1,
           1,
           0,
           1,
           0,
           0,
           0,
           0,
           1,
           0,
           1,
           1,
           1,
           0,
           1,
           1,
           0,
           1,
           1,
           0,
           1,
           0,
           0,
           0,
           0,
           1,
           0,
           1,
           1,
           0,
           0,
           0,
           0,
           1,
           0,
           0,
           0,
           0,
           0,
           0,
           1,
           0,
           0,
           0,
           0,
           0,
           1,
           1,
           1,
           0,
           1,
           1,
           0,
           1,
           1,
           0,
           0,
           0,
           1,
           0,
           0,
           1,
           0,
           0,
           0,
           1,
           0,
           0,
           0,
           0,
           0,
           1,
           0,
           1,
           0,
           1,
           0,
           1,
           1,
           0,
           1,
           0,
           1,
           0,
           0,
           1,
           0,
           1,
           1,
           1,
           0,
           0,
           1,
           0,
           0,
           1,
           1,
           1,
           1,
           0,
           1,
           1,
           0,
           0,
           1,
           0,
           1,
           0,
           1,
           0,
           1,
           0,
           0,
           1,
           0,
           0,
           0,
           0,
           0,
           0,
           1,
           1,
           1,
           0,
           0,
           0,
           1,
           1,
           0,
           1,
           0,
           1,
           0,
           1,
           0,
           0,
           0,
           1,
           0,
           1,
           0,
           0,
           1,
           1,
           0,
           0,
           1,
           0,
           1,
           1,
           1,
           1,
           1,
           1,
           1,
           1,
           0,
           0,
           0,
           0,
           0,
           1,
           0,
           0,
           0,
           0,
           0,
           0,
           0,
           0,
           1,
           0,
           0,
           0,
           0,
           0,
           1,
           1,
           0,
           0,
           0,
           1,
           0,
           0,
           1,
           0,
           1,
           1,
           0,
           0,
           1,
           1,
           1,
           1,
           0,
           0,
           1,
           0,
           0,
           1,
           0,
           0,
           1,
           1,
           0,
           0,
           0,
           0,
           1,
           1,
           0,
           1,
           0,
           0,
           0,
           0,
           0,
           1,
           1,
           1,
           1,
           1,
           0,
           0
          ],
          "coloraxis": "coloraxis",
          "symbol": "circle"
         },
         "mode": "markers",
         "name": "",
         "scene": "scene",
         "showlegend": false,
         "type": "scatter3d",
         "x": [
          88,
          86,
          72,
          89,
          81,
          78,
          90,
          83,
          79,
          79,
          74,
          71,
          93,
          61,
          97,
          80,
          74,
          70,
          65,
          70,
          78,
          67,
          63,
          73,
          81,
          85,
          72,
          71,
          72,
          72,
          72,
          76,
          75,
          83,
          67,
          64,
          81,
          79,
          83,
          78,
          92,
          76,
          65,
          78,
          66,
          69,
          64,
          75,
          74,
          85,
          67,
          75,
          76,
          67,
          69,
          91,
          69,
          73,
          80,
          76,
          75,
          72,
          75,
          77,
          68,
          68,
          69,
          68,
          65,
          75,
          72,
          63,
          76,
          75,
          64,
          71,
          68,
          75,
          76,
          71,
          82,
          79,
          81,
          81,
          87,
          80,
          74,
          73,
          88,
          65,
          76,
          77,
          80,
          92,
          80,
          78,
          66,
          73,
          72,
          77,
          65,
          81,
          79,
          93,
          66,
          72,
          101,
          84,
          95,
          90,
          102,
          86,
          78,
          87,
          73,
          63,
          85,
          80,
          74,
          70,
          78,
          77,
          75,
          62,
          66,
          68,
          79,
          65,
          66,
          81,
          63,
          77,
          72,
          68,
          66,
          76,
          62,
          77,
          68,
          72,
          68,
          94,
          86,
          79,
          83,
          73,
          66,
          79,
          89,
          69,
          80,
          72,
          67,
          73,
          83,
          85,
          63,
          75,
          69,
          78,
          66,
          75,
          74,
          69,
          85,
          65,
          68,
          66,
          72,
          76,
          81,
          80,
          75,
          83,
          71,
          70,
          79,
          67,
          74,
          73,
          81,
          63,
          65,
          77,
          94,
          73,
          78,
          83,
          74,
          68,
          75,
          87,
          67,
          80,
          77,
          82,
          87,
          76,
          86,
          75,
          78,
          82,
          78,
          71,
          76,
          81,
          77,
          87,
          78,
          97,
          77,
          98,
          79,
          80,
          79,
          80,
          70,
          95,
          98,
          112,
          96,
          104,
          103,
          113
         ],
         "y": [
          101,
          110,
          104,
          108,
          108,
          106,
          105,
          99,
          101,
          99,
          94,
          90,
          120,
          90,
          106,
          105,
          101,
          89,
          95,
          100,
          107,
          88,
          86,
          94,
          100,
          109,
          102,
          98,
          94,
          97,
          95,
          92,
          99,
          105,
          92,
          93,
          109,
          106,
          93,
          115,
          118,
          101,
          83,
          98,
          91,
          93,
          87,
          106,
          110,
          106,
          99,
          102,
          97,
          93,
          94,
          118,
          89,
          97,
          105,
          106,
          103,
          99,
          103,
          101,
          95,
          95,
          94,
          93,
          94,
          99,
          103,
          79,
          98,
          92,
          95,
          99,
          93,
          91,
          113,
          94,
          103,
          107,
          100,
          102,
          107,
          106,
          99,
          102,
          107,
          95,
          97,
          108,
          108,
          112,
          98,
          102,
          92,
          93,
          94,
          104,
          94,
          108,
          97,
          120,
          98,
          104,
          122,
          122,
          112,
          115,
          122,
          110,
          95,
          111,
          95,
          96,
          101,
          100,
          94,
          94,
          100,
          103,
          101,
          94,
          89,
          95,
          98,
          93,
          98,
          103,
          98,
          86,
          97,
          96,
          90,
          103,
          88,
          99,
          101,
          105,
          89,
          102,
          110,
          103,
          98,
          97,
          89,
          101,
          110,
          94,
          100,
          99,
          88,
          98,
          99,
          109,
          97,
          105,
          88,
          102,
          92,
          94,
          102,
          93,
          102,
          94,
          87,
          102,
          98,
          105,
          106,
          104,
          97,
          103,
          89,
          97,
          101,
          98,
          103,
          99,
          108,
          93,
          92,
          101,
          90,
          111,
          105,
          108,
          93,
          93,
          89,
          107,
          94,
          103,
          105,
          105,
          106,
          105,
          107,
          100,
          102,
          107,
          110,
          99,
          102,
          104,
          106,
          107,
          106,
          114,
          90,
          108,
          94,
          101,
          102,
          99,
          110,
          113,
          121,
          132,
          124,
          108,
          130,
          128
         ],
         "z": [
          87,
          78,
          69,
          82,
          75,
          74,
          86,
          84,
          78,
          80,
          79,
          79,
          78,
          68,
          92,
          76,
          73,
          79,
          68,
          70,
          73,
          76,
          73,
          78,
          81,
          78,
          71,
          72,
          77,
          74,
          76,
          83,
          76,
          79,
          73,
          69,
          74,
          75,
          89,
          68,
          78,
          75,
          78,
          80,
          73,
          74,
          74,
          71,
          67,
          80,
          68,
          74,
          78,
          72,
          73,
          77,
          78,
          75,
          76,
          72,
          73,
          73,
          73,
          76,
          72,
          72,
          73,
          73,
          69,
          76,
          70,
          80,
          78,
          82,
          67,
          72,
          73,
          82,
          67,
          76,
          80,
          74,
          81,
          79,
          81,
          75,
          75,
          72,
          82,
          68,
          78,
          71,
          74,
          82,
          82,
          76,
          72,
          78,
          77,
          74,
          69,
          75,
          81,
          78,
          67,
          69,
          83,
          69,
          85,
          78,
          84,
          78,
          82,
          78,
          77,
          66,
          84,
          80,
          79,
          74,
          78,
          75,
          74,
          66,
          74,
          72,
          81,
          70,
          67,
          79,
          64,
          90,
          74,
          71,
          73,
          74,
          70,
          78,
          67,
          69,
          76,
          92,
          78,
          77,
          85,
          75,
          74,
          78,
          81,
          73,
          80,
          73,
          76,
          74,
          84,
          78,
          65,
          71,
          78,
          76,
          72,
          80,
          73,
          74,
          83,
          69,
          78,
          65,
          73,
          72,
          76,
          77,
          77,
          81,
          80,
          72,
          78,
          68,
          72,
          74,
          75,
          68,
          71,
          76,
          104,
          66,
          74,
          77,
          80,
          73,
          84,
          81,
          71,
          78,
          73,
          78,
          82,
          72,
          80,
          75,
          76,
          77,
          71,
          72,
          75,
          78,
          73,
          81,
          74,
          85,
          86,
          91,
          84,
          79,
          77,
          81,
          64,
          84,
          81,
          85,
          77,
          96,
          79,
          88
         ]
        }
       ],
       "layout": {
        "coloraxis": {
         "colorbar": {
          "title": {
           "text": "preh"
          }
         },
         "colorscale": [
          [
           0,
           "#0d0887"
          ],
          [
           0.1111111111111111,
           "#46039f"
          ],
          [
           0.2222222222222222,
           "#7201a8"
          ],
          [
           0.3333333333333333,
           "#9c179e"
          ],
          [
           0.4444444444444444,
           "#bd3786"
          ],
          [
           0.5555555555555556,
           "#d8576b"
          ],
          [
           0.6666666666666666,
           "#ed7953"
          ],
          [
           0.7777777777777778,
           "#fb9f3a"
          ],
          [
           0.8888888888888888,
           "#fdca26"
          ],
          [
           1,
           "#f0f921"
          ]
         ]
        },
        "legend": {
         "tracegroupgap": 0
        },
        "margin": {
         "t": 60
        },
        "scene": {
         "domain": {
          "x": [
           0,
           1
          ],
          "y": [
           0,
           1
          ]
         },
         "xaxis": {
          "title": {
           "text": "wc"
          }
         },
         "yaxis": {
          "title": {
           "text": "hc"
          }
         },
         "zaxis": {
          "title": {
           "text": "whr"
          }
         }
        },
        "template": {
         "data": {
          "bar": [
           {
            "error_x": {
             "color": "#2a3f5f"
            },
            "error_y": {
             "color": "#2a3f5f"
            },
            "marker": {
             "line": {
              "color": "#E5ECF6",
              "width": 0.5
             },
             "pattern": {
              "fillmode": "overlay",
              "size": 10,
              "solidity": 0.2
             }
            },
            "type": "bar"
           }
          ],
          "barpolar": [
           {
            "marker": {
             "line": {
              "color": "#E5ECF6",
              "width": 0.5
             },
             "pattern": {
              "fillmode": "overlay",
              "size": 10,
              "solidity": 0.2
             }
            },
            "type": "barpolar"
           }
          ],
          "carpet": [
           {
            "aaxis": {
             "endlinecolor": "#2a3f5f",
             "gridcolor": "white",
             "linecolor": "white",
             "minorgridcolor": "white",
             "startlinecolor": "#2a3f5f"
            },
            "baxis": {
             "endlinecolor": "#2a3f5f",
             "gridcolor": "white",
             "linecolor": "white",
             "minorgridcolor": "white",
             "startlinecolor": "#2a3f5f"
            },
            "type": "carpet"
           }
          ],
          "choropleth": [
           {
            "colorbar": {
             "outlinewidth": 0,
             "ticks": ""
            },
            "type": "choropleth"
           }
          ],
          "contour": [
           {
            "colorbar": {
             "outlinewidth": 0,
             "ticks": ""
            },
            "colorscale": [
             [
              0,
              "#0d0887"
             ],
             [
              0.1111111111111111,
              "#46039f"
             ],
             [
              0.2222222222222222,
              "#7201a8"
             ],
             [
              0.3333333333333333,
              "#9c179e"
             ],
             [
              0.4444444444444444,
              "#bd3786"
             ],
             [
              0.5555555555555556,
              "#d8576b"
             ],
             [
              0.6666666666666666,
              "#ed7953"
             ],
             [
              0.7777777777777778,
              "#fb9f3a"
             ],
             [
              0.8888888888888888,
              "#fdca26"
             ],
             [
              1,
              "#f0f921"
             ]
            ],
            "type": "contour"
           }
          ],
          "contourcarpet": [
           {
            "colorbar": {
             "outlinewidth": 0,
             "ticks": ""
            },
            "type": "contourcarpet"
           }
          ],
          "heatmap": [
           {
            "colorbar": {
             "outlinewidth": 0,
             "ticks": ""
            },
            "colorscale": [
             [
              0,
              "#0d0887"
             ],
             [
              0.1111111111111111,
              "#46039f"
             ],
             [
              0.2222222222222222,
              "#7201a8"
             ],
             [
              0.3333333333333333,
              "#9c179e"
             ],
             [
              0.4444444444444444,
              "#bd3786"
             ],
             [
              0.5555555555555556,
              "#d8576b"
             ],
             [
              0.6666666666666666,
              "#ed7953"
             ],
             [
              0.7777777777777778,
              "#fb9f3a"
             ],
             [
              0.8888888888888888,
              "#fdca26"
             ],
             [
              1,
              "#f0f921"
             ]
            ],
            "type": "heatmap"
           }
          ],
          "heatmapgl": [
           {
            "colorbar": {
             "outlinewidth": 0,
             "ticks": ""
            },
            "colorscale": [
             [
              0,
              "#0d0887"
             ],
             [
              0.1111111111111111,
              "#46039f"
             ],
             [
              0.2222222222222222,
              "#7201a8"
             ],
             [
              0.3333333333333333,
              "#9c179e"
             ],
             [
              0.4444444444444444,
              "#bd3786"
             ],
             [
              0.5555555555555556,
              "#d8576b"
             ],
             [
              0.6666666666666666,
              "#ed7953"
             ],
             [
              0.7777777777777778,
              "#fb9f3a"
             ],
             [
              0.8888888888888888,
              "#fdca26"
             ],
             [
              1,
              "#f0f921"
             ]
            ],
            "type": "heatmapgl"
           }
          ],
          "histogram": [
           {
            "marker": {
             "pattern": {
              "fillmode": "overlay",
              "size": 10,
              "solidity": 0.2
             }
            },
            "type": "histogram"
           }
          ],
          "histogram2d": [
           {
            "colorbar": {
             "outlinewidth": 0,
             "ticks": ""
            },
            "colorscale": [
             [
              0,
              "#0d0887"
             ],
             [
              0.1111111111111111,
              "#46039f"
             ],
             [
              0.2222222222222222,
              "#7201a8"
             ],
             [
              0.3333333333333333,
              "#9c179e"
             ],
             [
              0.4444444444444444,
              "#bd3786"
             ],
             [
              0.5555555555555556,
              "#d8576b"
             ],
             [
              0.6666666666666666,
              "#ed7953"
             ],
             [
              0.7777777777777778,
              "#fb9f3a"
             ],
             [
              0.8888888888888888,
              "#fdca26"
             ],
             [
              1,
              "#f0f921"
             ]
            ],
            "type": "histogram2d"
           }
          ],
          "histogram2dcontour": [
           {
            "colorbar": {
             "outlinewidth": 0,
             "ticks": ""
            },
            "colorscale": [
             [
              0,
              "#0d0887"
             ],
             [
              0.1111111111111111,
              "#46039f"
             ],
             [
              0.2222222222222222,
              "#7201a8"
             ],
             [
              0.3333333333333333,
              "#9c179e"
             ],
             [
              0.4444444444444444,
              "#bd3786"
             ],
             [
              0.5555555555555556,
              "#d8576b"
             ],
             [
              0.6666666666666666,
              "#ed7953"
             ],
             [
              0.7777777777777778,
              "#fb9f3a"
             ],
             [
              0.8888888888888888,
              "#fdca26"
             ],
             [
              1,
              "#f0f921"
             ]
            ],
            "type": "histogram2dcontour"
           }
          ],
          "mesh3d": [
           {
            "colorbar": {
             "outlinewidth": 0,
             "ticks": ""
            },
            "type": "mesh3d"
           }
          ],
          "parcoords": [
           {
            "line": {
             "colorbar": {
              "outlinewidth": 0,
              "ticks": ""
             }
            },
            "type": "parcoords"
           }
          ],
          "pie": [
           {
            "automargin": true,
            "type": "pie"
           }
          ],
          "scatter": [
           {
            "fillpattern": {
             "fillmode": "overlay",
             "size": 10,
             "solidity": 0.2
            },
            "type": "scatter"
           }
          ],
          "scatter3d": [
           {
            "line": {
             "colorbar": {
              "outlinewidth": 0,
              "ticks": ""
             }
            },
            "marker": {
             "colorbar": {
              "outlinewidth": 0,
              "ticks": ""
             }
            },
            "type": "scatter3d"
           }
          ],
          "scattercarpet": [
           {
            "marker": {
             "colorbar": {
              "outlinewidth": 0,
              "ticks": ""
             }
            },
            "type": "scattercarpet"
           }
          ],
          "scattergeo": [
           {
            "marker": {
             "colorbar": {
              "outlinewidth": 0,
              "ticks": ""
             }
            },
            "type": "scattergeo"
           }
          ],
          "scattergl": [
           {
            "marker": {
             "colorbar": {
              "outlinewidth": 0,
              "ticks": ""
             }
            },
            "type": "scattergl"
           }
          ],
          "scattermapbox": [
           {
            "marker": {
             "colorbar": {
              "outlinewidth": 0,
              "ticks": ""
             }
            },
            "type": "scattermapbox"
           }
          ],
          "scatterpolar": [
           {
            "marker": {
             "colorbar": {
              "outlinewidth": 0,
              "ticks": ""
             }
            },
            "type": "scatterpolar"
           }
          ],
          "scatterpolargl": [
           {
            "marker": {
             "colorbar": {
              "outlinewidth": 0,
              "ticks": ""
             }
            },
            "type": "scatterpolargl"
           }
          ],
          "scatterternary": [
           {
            "marker": {
             "colorbar": {
              "outlinewidth": 0,
              "ticks": ""
             }
            },
            "type": "scatterternary"
           }
          ],
          "surface": [
           {
            "colorbar": {
             "outlinewidth": 0,
             "ticks": ""
            },
            "colorscale": [
             [
              0,
              "#0d0887"
             ],
             [
              0.1111111111111111,
              "#46039f"
             ],
             [
              0.2222222222222222,
              "#7201a8"
             ],
             [
              0.3333333333333333,
              "#9c179e"
             ],
             [
              0.4444444444444444,
              "#bd3786"
             ],
             [
              0.5555555555555556,
              "#d8576b"
             ],
             [
              0.6666666666666666,
              "#ed7953"
             ],
             [
              0.7777777777777778,
              "#fb9f3a"
             ],
             [
              0.8888888888888888,
              "#fdca26"
             ],
             [
              1,
              "#f0f921"
             ]
            ],
            "type": "surface"
           }
          ],
          "table": [
           {
            "cells": {
             "fill": {
              "color": "#EBF0F8"
             },
             "line": {
              "color": "white"
             }
            },
            "header": {
             "fill": {
              "color": "#C8D4E3"
             },
             "line": {
              "color": "white"
             }
            },
            "type": "table"
           }
          ]
         },
         "layout": {
          "annotationdefaults": {
           "arrowcolor": "#2a3f5f",
           "arrowhead": 0,
           "arrowwidth": 1
          },
          "autotypenumbers": "strict",
          "coloraxis": {
           "colorbar": {
            "outlinewidth": 0,
            "ticks": ""
           }
          },
          "colorscale": {
           "diverging": [
            [
             0,
             "#8e0152"
            ],
            [
             0.1,
             "#c51b7d"
            ],
            [
             0.2,
             "#de77ae"
            ],
            [
             0.3,
             "#f1b6da"
            ],
            [
             0.4,
             "#fde0ef"
            ],
            [
             0.5,
             "#f7f7f7"
            ],
            [
             0.6,
             "#e6f5d0"
            ],
            [
             0.7,
             "#b8e186"
            ],
            [
             0.8,
             "#7fbc41"
            ],
            [
             0.9,
             "#4d9221"
            ],
            [
             1,
             "#276419"
            ]
           ],
           "sequential": [
            [
             0,
             "#0d0887"
            ],
            [
             0.1111111111111111,
             "#46039f"
            ],
            [
             0.2222222222222222,
             "#7201a8"
            ],
            [
             0.3333333333333333,
             "#9c179e"
            ],
            [
             0.4444444444444444,
             "#bd3786"
            ],
            [
             0.5555555555555556,
             "#d8576b"
            ],
            [
             0.6666666666666666,
             "#ed7953"
            ],
            [
             0.7777777777777778,
             "#fb9f3a"
            ],
            [
             0.8888888888888888,
             "#fdca26"
            ],
            [
             1,
             "#f0f921"
            ]
           ],
           "sequentialminus": [
            [
             0,
             "#0d0887"
            ],
            [
             0.1111111111111111,
             "#46039f"
            ],
            [
             0.2222222222222222,
             "#7201a8"
            ],
            [
             0.3333333333333333,
             "#9c179e"
            ],
            [
             0.4444444444444444,
             "#bd3786"
            ],
            [
             0.5555555555555556,
             "#d8576b"
            ],
            [
             0.6666666666666666,
             "#ed7953"
            ],
            [
             0.7777777777777778,
             "#fb9f3a"
            ],
            [
             0.8888888888888888,
             "#fdca26"
            ],
            [
             1,
             "#f0f921"
            ]
           ]
          },
          "colorway": [
           "#636efa",
           "#EF553B",
           "#00cc96",
           "#ab63fa",
           "#FFA15A",
           "#19d3f3",
           "#FF6692",
           "#B6E880",
           "#FF97FF",
           "#FECB52"
          ],
          "font": {
           "color": "#2a3f5f"
          },
          "geo": {
           "bgcolor": "white",
           "lakecolor": "white",
           "landcolor": "#E5ECF6",
           "showlakes": true,
           "showland": true,
           "subunitcolor": "white"
          },
          "hoverlabel": {
           "align": "left"
          },
          "hovermode": "closest",
          "mapbox": {
           "style": "light"
          },
          "paper_bgcolor": "white",
          "plot_bgcolor": "#E5ECF6",
          "polar": {
           "angularaxis": {
            "gridcolor": "white",
            "linecolor": "white",
            "ticks": ""
           },
           "bgcolor": "#E5ECF6",
           "radialaxis": {
            "gridcolor": "white",
            "linecolor": "white",
            "ticks": ""
           }
          },
          "scene": {
           "xaxis": {
            "backgroundcolor": "#E5ECF6",
            "gridcolor": "white",
            "gridwidth": 2,
            "linecolor": "white",
            "showbackground": true,
            "ticks": "",
            "zerolinecolor": "white"
           },
           "yaxis": {
            "backgroundcolor": "#E5ECF6",
            "gridcolor": "white",
            "gridwidth": 2,
            "linecolor": "white",
            "showbackground": true,
            "ticks": "",
            "zerolinecolor": "white"
           },
           "zaxis": {
            "backgroundcolor": "#E5ECF6",
            "gridcolor": "white",
            "gridwidth": 2,
            "linecolor": "white",
            "showbackground": true,
            "ticks": "",
            "zerolinecolor": "white"
           }
          },
          "shapedefaults": {
           "line": {
            "color": "#2a3f5f"
           }
          },
          "ternary": {
           "aaxis": {
            "gridcolor": "white",
            "linecolor": "white",
            "ticks": ""
           },
           "baxis": {
            "gridcolor": "white",
            "linecolor": "white",
            "ticks": ""
           },
           "bgcolor": "#E5ECF6",
           "caxis": {
            "gridcolor": "white",
            "linecolor": "white",
            "ticks": ""
           }
          },
          "title": {
           "x": 0.05
          },
          "xaxis": {
           "automargin": true,
           "gridcolor": "white",
           "linecolor": "white",
           "ticks": "",
           "title": {
            "standoff": 15
           },
           "zerolinecolor": "white",
           "zerolinewidth": 2
          },
          "yaxis": {
           "automargin": true,
           "gridcolor": "white",
           "linecolor": "white",
           "ticks": "",
           "title": {
            "standoff": 15
           },
           "zerolinecolor": "white",
           "zerolinewidth": 2
          }
         }
        }
       }
      }
     },
     "metadata": {},
     "output_type": "display_data"
    },
    {
     "data": {
      "application/vnd.plotly.v1+json": {
       "config": {
        "plotlyServerURL": "https://plot.ly"
       },
       "data": [
        {
         "hovertemplate": "bmi=%{x}<br>wc=%{y}<br>whr=%{z}<br>preh=%{marker.color}<extra></extra>",
         "legendgroup": "",
         "marker": {
          "color": [
           1,
           1,
           0,
           1,
           0,
           0,
           0,
           0,
           1,
           0,
           1,
           1,
           1,
           0,
           1,
           1,
           0,
           1,
           1,
           0,
           1,
           0,
           0,
           0,
           0,
           1,
           0,
           1,
           1,
           0,
           0,
           0,
           0,
           1,
           0,
           0,
           0,
           0,
           0,
           0,
           1,
           0,
           0,
           0,
           0,
           0,
           1,
           1,
           1,
           0,
           1,
           1,
           0,
           1,
           1,
           0,
           0,
           0,
           1,
           0,
           0,
           1,
           0,
           0,
           0,
           1,
           0,
           0,
           0,
           0,
           0,
           1,
           0,
           1,
           0,
           1,
           0,
           1,
           1,
           0,
           1,
           0,
           1,
           0,
           0,
           1,
           0,
           1,
           1,
           1,
           0,
           0,
           1,
           0,
           0,
           1,
           1,
           1,
           1,
           0,
           1,
           1,
           0,
           0,
           1,
           0,
           1,
           0,
           1,
           0,
           1,
           0,
           0,
           1,
           0,
           0,
           0,
           0,
           0,
           0,
           1,
           1,
           1,
           0,
           0,
           0,
           1,
           1,
           0,
           1,
           0,
           1,
           0,
           1,
           0,
           0,
           0,
           1,
           0,
           1,
           0,
           0,
           1,
           1,
           0,
           0,
           1,
           0,
           1,
           1,
           1,
           1,
           1,
           1,
           1,
           1,
           0,
           0,
           0,
           0,
           0,
           1,
           0,
           0,
           0,
           0,
           0,
           0,
           0,
           0,
           1,
           0,
           0,
           0,
           0,
           0,
           1,
           1,
           0,
           0,
           0,
           1,
           0,
           0,
           1,
           0,
           1,
           1,
           0,
           0,
           1,
           1,
           1,
           1,
           0,
           0,
           1,
           0,
           0,
           1,
           0,
           0,
           1,
           1,
           0,
           0,
           0,
           0,
           1,
           1,
           0,
           1,
           0,
           0,
           0,
           0,
           0,
           1,
           1,
           1,
           1,
           1,
           0,
           0
          ],
          "coloraxis": "coloraxis",
          "symbol": "circle"
         },
         "mode": "markers",
         "name": "",
         "scene": "scene",
         "showlegend": false,
         "type": "scatter3d",
         "x": [
          28.76,
          27.59,
          22.45,
          28.16,
          25.05,
          22.6,
          22.68,
          21.49,
          24.24,
          22.79,
          22.04,
          19.2,
          29.83,
          18.63,
          28.04,
          20.11,
          21.93,
          20,
          19.21,
          23.93,
          24.02,
          16.23,
          16.6,
          18.05,
          24.35,
          27.3,
          24.64,
          21.13,
          21.29,
          21.72,
          19.45,
          23.53,
          22.79,
          26.1,
          19.8,
          17.57,
          25.77,
          26.37,
          21.09,
          25.77,
          29.42,
          20.76,
          17.18,
          20.37,
          16.42,
          19.55,
          19.14,
          24.76,
          21.39,
          24.91,
          22.27,
          19.18,
          21.42,
          19.75,
          23.31,
          28.69,
          17.91,
          20.35,
          26.14,
          23.86,
          22.48,
          17.44,
          21.23,
          24.72,
          21.87,
          23.36,
          20.61,
          19.1,
          20.44,
          21.48,
          23.23,
          17.6,
          22.31,
          24.13,
          23.28,
          20.87,
          19.47,
          24.78,
          22.41,
          20.97,
          25.92,
          24.76,
          24.66,
          25.63,
          25.65,
          25.65,
          23.46,
          19.6,
          27.83,
          18.31,
          22.43,
          23.35,
          22.98,
          27.25,
          25.56,
          23.77,
          20.12,
          21.97,
          21.08,
          22.59,
          19.66,
          27.47,
          26.27,
          29.81,
          20.1,
          25.93,
          32.71,
          30.64,
          32.8,
          31.45,
          31.35,
          31.03,
          18.8,
          28.48,
          19.29,
          20.4,
          21.79,
          23.16,
          21.9,
          21.95,
          23.58,
          25.63,
          24.41,
          17.99,
          18.9,
          18.82,
          24.22,
          20.11,
          20.45,
          25.6,
          19.17,
          19.94,
          20.77,
          22.93,
          20.81,
          25.38,
          19,
          21.19,
          20.2,
          23.53,
          19.07,
          27.09,
          24.44,
          24.39,
          25.49,
          21.15,
          19.6,
          22.02,
          24.48,
          17.2,
          22.23,
          21.82,
          18.98,
          21.91,
          23.4,
          26.89,
          21.15,
          26.5,
          19.97,
          20.08,
          19.68,
          20.87,
          22.1,
          20.37,
          26.74,
          18.98,
          16.77,
          22.47,
          21.25,
          24.03,
          26.23,
          22.45,
          22.15,
          26.35,
          19.99,
          20.14,
          21.6,
          22.47,
          23.95,
          20.96,
          22.48,
          17.78,
          19,
          23.32,
          24.86,
          22.28,
          26.43,
          27.41,
          20.81,
          19.95,
          22.17,
          29.24,
          18.8,
          22.88,
          22.06,
          25.58,
          26.77,
          25.03,
          27.25,
          21.79,
          22.75,
          26.75,
          24.22,
          25.04,
          23.06,
          26.43,
          24.72,
          25.49,
          23.52,
          27.78,
          19.16,
          28.67,
          21.59,
          24.13,
          22.4,
          22.04,
          17.78,
          31,
          31.5,
          45.15,
          37.89,
          33.24,
          35.68,
          36.24
         ],
         "y": [
          88,
          86,
          72,
          89,
          81,
          78,
          90,
          83,
          79,
          79,
          74,
          71,
          93,
          61,
          97,
          80,
          74,
          70,
          65,
          70,
          78,
          67,
          63,
          73,
          81,
          85,
          72,
          71,
          72,
          72,
          72,
          76,
          75,
          83,
          67,
          64,
          81,
          79,
          83,
          78,
          92,
          76,
          65,
          78,
          66,
          69,
          64,
          75,
          74,
          85,
          67,
          75,
          76,
          67,
          69,
          91,
          69,
          73,
          80,
          76,
          75,
          72,
          75,
          77,
          68,
          68,
          69,
          68,
          65,
          75,
          72,
          63,
          76,
          75,
          64,
          71,
          68,
          75,
          76,
          71,
          82,
          79,
          81,
          81,
          87,
          80,
          74,
          73,
          88,
          65,
          76,
          77,
          80,
          92,
          80,
          78,
          66,
          73,
          72,
          77,
          65,
          81,
          79,
          93,
          66,
          72,
          101,
          84,
          95,
          90,
          102,
          86,
          78,
          87,
          73,
          63,
          85,
          80,
          74,
          70,
          78,
          77,
          75,
          62,
          66,
          68,
          79,
          65,
          66,
          81,
          63,
          77,
          72,
          68,
          66,
          76,
          62,
          77,
          68,
          72,
          68,
          94,
          86,
          79,
          83,
          73,
          66,
          79,
          89,
          69,
          80,
          72,
          67,
          73,
          83,
          85,
          63,
          75,
          69,
          78,
          66,
          75,
          74,
          69,
          85,
          65,
          68,
          66,
          72,
          76,
          81,
          80,
          75,
          83,
          71,
          70,
          79,
          67,
          74,
          73,
          81,
          63,
          65,
          77,
          94,
          73,
          78,
          83,
          74,
          68,
          75,
          87,
          67,
          80,
          77,
          82,
          87,
          76,
          86,
          75,
          78,
          82,
          78,
          71,
          76,
          81,
          77,
          87,
          78,
          97,
          77,
          98,
          79,
          80,
          79,
          80,
          70,
          95,
          98,
          112,
          96,
          104,
          103,
          113
         ],
         "z": [
          87,
          78,
          69,
          82,
          75,
          74,
          86,
          84,
          78,
          80,
          79,
          79,
          78,
          68,
          92,
          76,
          73,
          79,
          68,
          70,
          73,
          76,
          73,
          78,
          81,
          78,
          71,
          72,
          77,
          74,
          76,
          83,
          76,
          79,
          73,
          69,
          74,
          75,
          89,
          68,
          78,
          75,
          78,
          80,
          73,
          74,
          74,
          71,
          67,
          80,
          68,
          74,
          78,
          72,
          73,
          77,
          78,
          75,
          76,
          72,
          73,
          73,
          73,
          76,
          72,
          72,
          73,
          73,
          69,
          76,
          70,
          80,
          78,
          82,
          67,
          72,
          73,
          82,
          67,
          76,
          80,
          74,
          81,
          79,
          81,
          75,
          75,
          72,
          82,
          68,
          78,
          71,
          74,
          82,
          82,
          76,
          72,
          78,
          77,
          74,
          69,
          75,
          81,
          78,
          67,
          69,
          83,
          69,
          85,
          78,
          84,
          78,
          82,
          78,
          77,
          66,
          84,
          80,
          79,
          74,
          78,
          75,
          74,
          66,
          74,
          72,
          81,
          70,
          67,
          79,
          64,
          90,
          74,
          71,
          73,
          74,
          70,
          78,
          67,
          69,
          76,
          92,
          78,
          77,
          85,
          75,
          74,
          78,
          81,
          73,
          80,
          73,
          76,
          74,
          84,
          78,
          65,
          71,
          78,
          76,
          72,
          80,
          73,
          74,
          83,
          69,
          78,
          65,
          73,
          72,
          76,
          77,
          77,
          81,
          80,
          72,
          78,
          68,
          72,
          74,
          75,
          68,
          71,
          76,
          104,
          66,
          74,
          77,
          80,
          73,
          84,
          81,
          71,
          78,
          73,
          78,
          82,
          72,
          80,
          75,
          76,
          77,
          71,
          72,
          75,
          78,
          73,
          81,
          74,
          85,
          86,
          91,
          84,
          79,
          77,
          81,
          64,
          84,
          81,
          85,
          77,
          96,
          79,
          88
         ]
        }
       ],
       "layout": {
        "coloraxis": {
         "colorbar": {
          "title": {
           "text": "preh"
          }
         },
         "colorscale": [
          [
           0,
           "#0d0887"
          ],
          [
           0.1111111111111111,
           "#46039f"
          ],
          [
           0.2222222222222222,
           "#7201a8"
          ],
          [
           0.3333333333333333,
           "#9c179e"
          ],
          [
           0.4444444444444444,
           "#bd3786"
          ],
          [
           0.5555555555555556,
           "#d8576b"
          ],
          [
           0.6666666666666666,
           "#ed7953"
          ],
          [
           0.7777777777777778,
           "#fb9f3a"
          ],
          [
           0.8888888888888888,
           "#fdca26"
          ],
          [
           1,
           "#f0f921"
          ]
         ]
        },
        "legend": {
         "tracegroupgap": 0
        },
        "margin": {
         "t": 60
        },
        "scene": {
         "domain": {
          "x": [
           0,
           1
          ],
          "y": [
           0,
           1
          ]
         },
         "xaxis": {
          "title": {
           "text": "bmi"
          }
         },
         "yaxis": {
          "title": {
           "text": "wc"
          }
         },
         "zaxis": {
          "title": {
           "text": "whr"
          }
         }
        },
        "template": {
         "data": {
          "bar": [
           {
            "error_x": {
             "color": "#2a3f5f"
            },
            "error_y": {
             "color": "#2a3f5f"
            },
            "marker": {
             "line": {
              "color": "#E5ECF6",
              "width": 0.5
             },
             "pattern": {
              "fillmode": "overlay",
              "size": 10,
              "solidity": 0.2
             }
            },
            "type": "bar"
           }
          ],
          "barpolar": [
           {
            "marker": {
             "line": {
              "color": "#E5ECF6",
              "width": 0.5
             },
             "pattern": {
              "fillmode": "overlay",
              "size": 10,
              "solidity": 0.2
             }
            },
            "type": "barpolar"
           }
          ],
          "carpet": [
           {
            "aaxis": {
             "endlinecolor": "#2a3f5f",
             "gridcolor": "white",
             "linecolor": "white",
             "minorgridcolor": "white",
             "startlinecolor": "#2a3f5f"
            },
            "baxis": {
             "endlinecolor": "#2a3f5f",
             "gridcolor": "white",
             "linecolor": "white",
             "minorgridcolor": "white",
             "startlinecolor": "#2a3f5f"
            },
            "type": "carpet"
           }
          ],
          "choropleth": [
           {
            "colorbar": {
             "outlinewidth": 0,
             "ticks": ""
            },
            "type": "choropleth"
           }
          ],
          "contour": [
           {
            "colorbar": {
             "outlinewidth": 0,
             "ticks": ""
            },
            "colorscale": [
             [
              0,
              "#0d0887"
             ],
             [
              0.1111111111111111,
              "#46039f"
             ],
             [
              0.2222222222222222,
              "#7201a8"
             ],
             [
              0.3333333333333333,
              "#9c179e"
             ],
             [
              0.4444444444444444,
              "#bd3786"
             ],
             [
              0.5555555555555556,
              "#d8576b"
             ],
             [
              0.6666666666666666,
              "#ed7953"
             ],
             [
              0.7777777777777778,
              "#fb9f3a"
             ],
             [
              0.8888888888888888,
              "#fdca26"
             ],
             [
              1,
              "#f0f921"
             ]
            ],
            "type": "contour"
           }
          ],
          "contourcarpet": [
           {
            "colorbar": {
             "outlinewidth": 0,
             "ticks": ""
            },
            "type": "contourcarpet"
           }
          ],
          "heatmap": [
           {
            "colorbar": {
             "outlinewidth": 0,
             "ticks": ""
            },
            "colorscale": [
             [
              0,
              "#0d0887"
             ],
             [
              0.1111111111111111,
              "#46039f"
             ],
             [
              0.2222222222222222,
              "#7201a8"
             ],
             [
              0.3333333333333333,
              "#9c179e"
             ],
             [
              0.4444444444444444,
              "#bd3786"
             ],
             [
              0.5555555555555556,
              "#d8576b"
             ],
             [
              0.6666666666666666,
              "#ed7953"
             ],
             [
              0.7777777777777778,
              "#fb9f3a"
             ],
             [
              0.8888888888888888,
              "#fdca26"
             ],
             [
              1,
              "#f0f921"
             ]
            ],
            "type": "heatmap"
           }
          ],
          "heatmapgl": [
           {
            "colorbar": {
             "outlinewidth": 0,
             "ticks": ""
            },
            "colorscale": [
             [
              0,
              "#0d0887"
             ],
             [
              0.1111111111111111,
              "#46039f"
             ],
             [
              0.2222222222222222,
              "#7201a8"
             ],
             [
              0.3333333333333333,
              "#9c179e"
             ],
             [
              0.4444444444444444,
              "#bd3786"
             ],
             [
              0.5555555555555556,
              "#d8576b"
             ],
             [
              0.6666666666666666,
              "#ed7953"
             ],
             [
              0.7777777777777778,
              "#fb9f3a"
             ],
             [
              0.8888888888888888,
              "#fdca26"
             ],
             [
              1,
              "#f0f921"
             ]
            ],
            "type": "heatmapgl"
           }
          ],
          "histogram": [
           {
            "marker": {
             "pattern": {
              "fillmode": "overlay",
              "size": 10,
              "solidity": 0.2
             }
            },
            "type": "histogram"
           }
          ],
          "histogram2d": [
           {
            "colorbar": {
             "outlinewidth": 0,
             "ticks": ""
            },
            "colorscale": [
             [
              0,
              "#0d0887"
             ],
             [
              0.1111111111111111,
              "#46039f"
             ],
             [
              0.2222222222222222,
              "#7201a8"
             ],
             [
              0.3333333333333333,
              "#9c179e"
             ],
             [
              0.4444444444444444,
              "#bd3786"
             ],
             [
              0.5555555555555556,
              "#d8576b"
             ],
             [
              0.6666666666666666,
              "#ed7953"
             ],
             [
              0.7777777777777778,
              "#fb9f3a"
             ],
             [
              0.8888888888888888,
              "#fdca26"
             ],
             [
              1,
              "#f0f921"
             ]
            ],
            "type": "histogram2d"
           }
          ],
          "histogram2dcontour": [
           {
            "colorbar": {
             "outlinewidth": 0,
             "ticks": ""
            },
            "colorscale": [
             [
              0,
              "#0d0887"
             ],
             [
              0.1111111111111111,
              "#46039f"
             ],
             [
              0.2222222222222222,
              "#7201a8"
             ],
             [
              0.3333333333333333,
              "#9c179e"
             ],
             [
              0.4444444444444444,
              "#bd3786"
             ],
             [
              0.5555555555555556,
              "#d8576b"
             ],
             [
              0.6666666666666666,
              "#ed7953"
             ],
             [
              0.7777777777777778,
              "#fb9f3a"
             ],
             [
              0.8888888888888888,
              "#fdca26"
             ],
             [
              1,
              "#f0f921"
             ]
            ],
            "type": "histogram2dcontour"
           }
          ],
          "mesh3d": [
           {
            "colorbar": {
             "outlinewidth": 0,
             "ticks": ""
            },
            "type": "mesh3d"
           }
          ],
          "parcoords": [
           {
            "line": {
             "colorbar": {
              "outlinewidth": 0,
              "ticks": ""
             }
            },
            "type": "parcoords"
           }
          ],
          "pie": [
           {
            "automargin": true,
            "type": "pie"
           }
          ],
          "scatter": [
           {
            "fillpattern": {
             "fillmode": "overlay",
             "size": 10,
             "solidity": 0.2
            },
            "type": "scatter"
           }
          ],
          "scatter3d": [
           {
            "line": {
             "colorbar": {
              "outlinewidth": 0,
              "ticks": ""
             }
            },
            "marker": {
             "colorbar": {
              "outlinewidth": 0,
              "ticks": ""
             }
            },
            "type": "scatter3d"
           }
          ],
          "scattercarpet": [
           {
            "marker": {
             "colorbar": {
              "outlinewidth": 0,
              "ticks": ""
             }
            },
            "type": "scattercarpet"
           }
          ],
          "scattergeo": [
           {
            "marker": {
             "colorbar": {
              "outlinewidth": 0,
              "ticks": ""
             }
            },
            "type": "scattergeo"
           }
          ],
          "scattergl": [
           {
            "marker": {
             "colorbar": {
              "outlinewidth": 0,
              "ticks": ""
             }
            },
            "type": "scattergl"
           }
          ],
          "scattermapbox": [
           {
            "marker": {
             "colorbar": {
              "outlinewidth": 0,
              "ticks": ""
             }
            },
            "type": "scattermapbox"
           }
          ],
          "scatterpolar": [
           {
            "marker": {
             "colorbar": {
              "outlinewidth": 0,
              "ticks": ""
             }
            },
            "type": "scatterpolar"
           }
          ],
          "scatterpolargl": [
           {
            "marker": {
             "colorbar": {
              "outlinewidth": 0,
              "ticks": ""
             }
            },
            "type": "scatterpolargl"
           }
          ],
          "scatterternary": [
           {
            "marker": {
             "colorbar": {
              "outlinewidth": 0,
              "ticks": ""
             }
            },
            "type": "scatterternary"
           }
          ],
          "surface": [
           {
            "colorbar": {
             "outlinewidth": 0,
             "ticks": ""
            },
            "colorscale": [
             [
              0,
              "#0d0887"
             ],
             [
              0.1111111111111111,
              "#46039f"
             ],
             [
              0.2222222222222222,
              "#7201a8"
             ],
             [
              0.3333333333333333,
              "#9c179e"
             ],
             [
              0.4444444444444444,
              "#bd3786"
             ],
             [
              0.5555555555555556,
              "#d8576b"
             ],
             [
              0.6666666666666666,
              "#ed7953"
             ],
             [
              0.7777777777777778,
              "#fb9f3a"
             ],
             [
              0.8888888888888888,
              "#fdca26"
             ],
             [
              1,
              "#f0f921"
             ]
            ],
            "type": "surface"
           }
          ],
          "table": [
           {
            "cells": {
             "fill": {
              "color": "#EBF0F8"
             },
             "line": {
              "color": "white"
             }
            },
            "header": {
             "fill": {
              "color": "#C8D4E3"
             },
             "line": {
              "color": "white"
             }
            },
            "type": "table"
           }
          ]
         },
         "layout": {
          "annotationdefaults": {
           "arrowcolor": "#2a3f5f",
           "arrowhead": 0,
           "arrowwidth": 1
          },
          "autotypenumbers": "strict",
          "coloraxis": {
           "colorbar": {
            "outlinewidth": 0,
            "ticks": ""
           }
          },
          "colorscale": {
           "diverging": [
            [
             0,
             "#8e0152"
            ],
            [
             0.1,
             "#c51b7d"
            ],
            [
             0.2,
             "#de77ae"
            ],
            [
             0.3,
             "#f1b6da"
            ],
            [
             0.4,
             "#fde0ef"
            ],
            [
             0.5,
             "#f7f7f7"
            ],
            [
             0.6,
             "#e6f5d0"
            ],
            [
             0.7,
             "#b8e186"
            ],
            [
             0.8,
             "#7fbc41"
            ],
            [
             0.9,
             "#4d9221"
            ],
            [
             1,
             "#276419"
            ]
           ],
           "sequential": [
            [
             0,
             "#0d0887"
            ],
            [
             0.1111111111111111,
             "#46039f"
            ],
            [
             0.2222222222222222,
             "#7201a8"
            ],
            [
             0.3333333333333333,
             "#9c179e"
            ],
            [
             0.4444444444444444,
             "#bd3786"
            ],
            [
             0.5555555555555556,
             "#d8576b"
            ],
            [
             0.6666666666666666,
             "#ed7953"
            ],
            [
             0.7777777777777778,
             "#fb9f3a"
            ],
            [
             0.8888888888888888,
             "#fdca26"
            ],
            [
             1,
             "#f0f921"
            ]
           ],
           "sequentialminus": [
            [
             0,
             "#0d0887"
            ],
            [
             0.1111111111111111,
             "#46039f"
            ],
            [
             0.2222222222222222,
             "#7201a8"
            ],
            [
             0.3333333333333333,
             "#9c179e"
            ],
            [
             0.4444444444444444,
             "#bd3786"
            ],
            [
             0.5555555555555556,
             "#d8576b"
            ],
            [
             0.6666666666666666,
             "#ed7953"
            ],
            [
             0.7777777777777778,
             "#fb9f3a"
            ],
            [
             0.8888888888888888,
             "#fdca26"
            ],
            [
             1,
             "#f0f921"
            ]
           ]
          },
          "colorway": [
           "#636efa",
           "#EF553B",
           "#00cc96",
           "#ab63fa",
           "#FFA15A",
           "#19d3f3",
           "#FF6692",
           "#B6E880",
           "#FF97FF",
           "#FECB52"
          ],
          "font": {
           "color": "#2a3f5f"
          },
          "geo": {
           "bgcolor": "white",
           "lakecolor": "white",
           "landcolor": "#E5ECF6",
           "showlakes": true,
           "showland": true,
           "subunitcolor": "white"
          },
          "hoverlabel": {
           "align": "left"
          },
          "hovermode": "closest",
          "mapbox": {
           "style": "light"
          },
          "paper_bgcolor": "white",
          "plot_bgcolor": "#E5ECF6",
          "polar": {
           "angularaxis": {
            "gridcolor": "white",
            "linecolor": "white",
            "ticks": ""
           },
           "bgcolor": "#E5ECF6",
           "radialaxis": {
            "gridcolor": "white",
            "linecolor": "white",
            "ticks": ""
           }
          },
          "scene": {
           "xaxis": {
            "backgroundcolor": "#E5ECF6",
            "gridcolor": "white",
            "gridwidth": 2,
            "linecolor": "white",
            "showbackground": true,
            "ticks": "",
            "zerolinecolor": "white"
           },
           "yaxis": {
            "backgroundcolor": "#E5ECF6",
            "gridcolor": "white",
            "gridwidth": 2,
            "linecolor": "white",
            "showbackground": true,
            "ticks": "",
            "zerolinecolor": "white"
           },
           "zaxis": {
            "backgroundcolor": "#E5ECF6",
            "gridcolor": "white",
            "gridwidth": 2,
            "linecolor": "white",
            "showbackground": true,
            "ticks": "",
            "zerolinecolor": "white"
           }
          },
          "shapedefaults": {
           "line": {
            "color": "#2a3f5f"
           }
          },
          "ternary": {
           "aaxis": {
            "gridcolor": "white",
            "linecolor": "white",
            "ticks": ""
           },
           "baxis": {
            "gridcolor": "white",
            "linecolor": "white",
            "ticks": ""
           },
           "bgcolor": "#E5ECF6",
           "caxis": {
            "gridcolor": "white",
            "linecolor": "white",
            "ticks": ""
           }
          },
          "title": {
           "x": 0.05
          },
          "xaxis": {
           "automargin": true,
           "gridcolor": "white",
           "linecolor": "white",
           "ticks": "",
           "title": {
            "standoff": 15
           },
           "zerolinecolor": "white",
           "zerolinewidth": 2
          },
          "yaxis": {
           "automargin": true,
           "gridcolor": "white",
           "linecolor": "white",
           "ticks": "",
           "title": {
            "standoff": 15
           },
           "zerolinecolor": "white",
           "zerolinewidth": 2
          }
         }
        }
       }
      }
     },
     "metadata": {},
     "output_type": "display_data"
    },
    {
     "data": {
      "application/vnd.plotly.v1+json": {
       "config": {
        "plotlyServerURL": "https://plot.ly"
       },
       "data": [
        {
         "hovertemplate": "bmi=%{x}<br>hc=%{y}<br>whr=%{z}<br>preh=%{marker.color}<extra></extra>",
         "legendgroup": "",
         "marker": {
          "color": [
           1,
           1,
           0,
           1,
           0,
           0,
           0,
           0,
           1,
           0,
           1,
           1,
           1,
           0,
           1,
           1,
           0,
           1,
           1,
           0,
           1,
           0,
           0,
           0,
           0,
           1,
           0,
           1,
           1,
           0,
           0,
           0,
           0,
           1,
           0,
           0,
           0,
           0,
           0,
           0,
           1,
           0,
           0,
           0,
           0,
           0,
           1,
           1,
           1,
           0,
           1,
           1,
           0,
           1,
           1,
           0,
           0,
           0,
           1,
           0,
           0,
           1,
           0,
           0,
           0,
           1,
           0,
           0,
           0,
           0,
           0,
           1,
           0,
           1,
           0,
           1,
           0,
           1,
           1,
           0,
           1,
           0,
           1,
           0,
           0,
           1,
           0,
           1,
           1,
           1,
           0,
           0,
           1,
           0,
           0,
           1,
           1,
           1,
           1,
           0,
           1,
           1,
           0,
           0,
           1,
           0,
           1,
           0,
           1,
           0,
           1,
           0,
           0,
           1,
           0,
           0,
           0,
           0,
           0,
           0,
           1,
           1,
           1,
           0,
           0,
           0,
           1,
           1,
           0,
           1,
           0,
           1,
           0,
           1,
           0,
           0,
           0,
           1,
           0,
           1,
           0,
           0,
           1,
           1,
           0,
           0,
           1,
           0,
           1,
           1,
           1,
           1,
           1,
           1,
           1,
           1,
           0,
           0,
           0,
           0,
           0,
           1,
           0,
           0,
           0,
           0,
           0,
           0,
           0,
           0,
           1,
           0,
           0,
           0,
           0,
           0,
           1,
           1,
           0,
           0,
           0,
           1,
           0,
           0,
           1,
           0,
           1,
           1,
           0,
           0,
           1,
           1,
           1,
           1,
           0,
           0,
           1,
           0,
           0,
           1,
           0,
           0,
           1,
           1,
           0,
           0,
           0,
           0,
           1,
           1,
           0,
           1,
           0,
           0,
           0,
           0,
           0,
           1,
           1,
           1,
           1,
           1,
           0,
           0
          ],
          "coloraxis": "coloraxis",
          "symbol": "circle"
         },
         "mode": "markers",
         "name": "",
         "scene": "scene",
         "showlegend": false,
         "type": "scatter3d",
         "x": [
          28.76,
          27.59,
          22.45,
          28.16,
          25.05,
          22.6,
          22.68,
          21.49,
          24.24,
          22.79,
          22.04,
          19.2,
          29.83,
          18.63,
          28.04,
          20.11,
          21.93,
          20,
          19.21,
          23.93,
          24.02,
          16.23,
          16.6,
          18.05,
          24.35,
          27.3,
          24.64,
          21.13,
          21.29,
          21.72,
          19.45,
          23.53,
          22.79,
          26.1,
          19.8,
          17.57,
          25.77,
          26.37,
          21.09,
          25.77,
          29.42,
          20.76,
          17.18,
          20.37,
          16.42,
          19.55,
          19.14,
          24.76,
          21.39,
          24.91,
          22.27,
          19.18,
          21.42,
          19.75,
          23.31,
          28.69,
          17.91,
          20.35,
          26.14,
          23.86,
          22.48,
          17.44,
          21.23,
          24.72,
          21.87,
          23.36,
          20.61,
          19.1,
          20.44,
          21.48,
          23.23,
          17.6,
          22.31,
          24.13,
          23.28,
          20.87,
          19.47,
          24.78,
          22.41,
          20.97,
          25.92,
          24.76,
          24.66,
          25.63,
          25.65,
          25.65,
          23.46,
          19.6,
          27.83,
          18.31,
          22.43,
          23.35,
          22.98,
          27.25,
          25.56,
          23.77,
          20.12,
          21.97,
          21.08,
          22.59,
          19.66,
          27.47,
          26.27,
          29.81,
          20.1,
          25.93,
          32.71,
          30.64,
          32.8,
          31.45,
          31.35,
          31.03,
          18.8,
          28.48,
          19.29,
          20.4,
          21.79,
          23.16,
          21.9,
          21.95,
          23.58,
          25.63,
          24.41,
          17.99,
          18.9,
          18.82,
          24.22,
          20.11,
          20.45,
          25.6,
          19.17,
          19.94,
          20.77,
          22.93,
          20.81,
          25.38,
          19,
          21.19,
          20.2,
          23.53,
          19.07,
          27.09,
          24.44,
          24.39,
          25.49,
          21.15,
          19.6,
          22.02,
          24.48,
          17.2,
          22.23,
          21.82,
          18.98,
          21.91,
          23.4,
          26.89,
          21.15,
          26.5,
          19.97,
          20.08,
          19.68,
          20.87,
          22.1,
          20.37,
          26.74,
          18.98,
          16.77,
          22.47,
          21.25,
          24.03,
          26.23,
          22.45,
          22.15,
          26.35,
          19.99,
          20.14,
          21.6,
          22.47,
          23.95,
          20.96,
          22.48,
          17.78,
          19,
          23.32,
          24.86,
          22.28,
          26.43,
          27.41,
          20.81,
          19.95,
          22.17,
          29.24,
          18.8,
          22.88,
          22.06,
          25.58,
          26.77,
          25.03,
          27.25,
          21.79,
          22.75,
          26.75,
          24.22,
          25.04,
          23.06,
          26.43,
          24.72,
          25.49,
          23.52,
          27.78,
          19.16,
          28.67,
          21.59,
          24.13,
          22.4,
          22.04,
          17.78,
          31,
          31.5,
          45.15,
          37.89,
          33.24,
          35.68,
          36.24
         ],
         "y": [
          101,
          110,
          104,
          108,
          108,
          106,
          105,
          99,
          101,
          99,
          94,
          90,
          120,
          90,
          106,
          105,
          101,
          89,
          95,
          100,
          107,
          88,
          86,
          94,
          100,
          109,
          102,
          98,
          94,
          97,
          95,
          92,
          99,
          105,
          92,
          93,
          109,
          106,
          93,
          115,
          118,
          101,
          83,
          98,
          91,
          93,
          87,
          106,
          110,
          106,
          99,
          102,
          97,
          93,
          94,
          118,
          89,
          97,
          105,
          106,
          103,
          99,
          103,
          101,
          95,
          95,
          94,
          93,
          94,
          99,
          103,
          79,
          98,
          92,
          95,
          99,
          93,
          91,
          113,
          94,
          103,
          107,
          100,
          102,
          107,
          106,
          99,
          102,
          107,
          95,
          97,
          108,
          108,
          112,
          98,
          102,
          92,
          93,
          94,
          104,
          94,
          108,
          97,
          120,
          98,
          104,
          122,
          122,
          112,
          115,
          122,
          110,
          95,
          111,
          95,
          96,
          101,
          100,
          94,
          94,
          100,
          103,
          101,
          94,
          89,
          95,
          98,
          93,
          98,
          103,
          98,
          86,
          97,
          96,
          90,
          103,
          88,
          99,
          101,
          105,
          89,
          102,
          110,
          103,
          98,
          97,
          89,
          101,
          110,
          94,
          100,
          99,
          88,
          98,
          99,
          109,
          97,
          105,
          88,
          102,
          92,
          94,
          102,
          93,
          102,
          94,
          87,
          102,
          98,
          105,
          106,
          104,
          97,
          103,
          89,
          97,
          101,
          98,
          103,
          99,
          108,
          93,
          92,
          101,
          90,
          111,
          105,
          108,
          93,
          93,
          89,
          107,
          94,
          103,
          105,
          105,
          106,
          105,
          107,
          100,
          102,
          107,
          110,
          99,
          102,
          104,
          106,
          107,
          106,
          114,
          90,
          108,
          94,
          101,
          102,
          99,
          110,
          113,
          121,
          132,
          124,
          108,
          130,
          128
         ],
         "z": [
          87,
          78,
          69,
          82,
          75,
          74,
          86,
          84,
          78,
          80,
          79,
          79,
          78,
          68,
          92,
          76,
          73,
          79,
          68,
          70,
          73,
          76,
          73,
          78,
          81,
          78,
          71,
          72,
          77,
          74,
          76,
          83,
          76,
          79,
          73,
          69,
          74,
          75,
          89,
          68,
          78,
          75,
          78,
          80,
          73,
          74,
          74,
          71,
          67,
          80,
          68,
          74,
          78,
          72,
          73,
          77,
          78,
          75,
          76,
          72,
          73,
          73,
          73,
          76,
          72,
          72,
          73,
          73,
          69,
          76,
          70,
          80,
          78,
          82,
          67,
          72,
          73,
          82,
          67,
          76,
          80,
          74,
          81,
          79,
          81,
          75,
          75,
          72,
          82,
          68,
          78,
          71,
          74,
          82,
          82,
          76,
          72,
          78,
          77,
          74,
          69,
          75,
          81,
          78,
          67,
          69,
          83,
          69,
          85,
          78,
          84,
          78,
          82,
          78,
          77,
          66,
          84,
          80,
          79,
          74,
          78,
          75,
          74,
          66,
          74,
          72,
          81,
          70,
          67,
          79,
          64,
          90,
          74,
          71,
          73,
          74,
          70,
          78,
          67,
          69,
          76,
          92,
          78,
          77,
          85,
          75,
          74,
          78,
          81,
          73,
          80,
          73,
          76,
          74,
          84,
          78,
          65,
          71,
          78,
          76,
          72,
          80,
          73,
          74,
          83,
          69,
          78,
          65,
          73,
          72,
          76,
          77,
          77,
          81,
          80,
          72,
          78,
          68,
          72,
          74,
          75,
          68,
          71,
          76,
          104,
          66,
          74,
          77,
          80,
          73,
          84,
          81,
          71,
          78,
          73,
          78,
          82,
          72,
          80,
          75,
          76,
          77,
          71,
          72,
          75,
          78,
          73,
          81,
          74,
          85,
          86,
          91,
          84,
          79,
          77,
          81,
          64,
          84,
          81,
          85,
          77,
          96,
          79,
          88
         ]
        }
       ],
       "layout": {
        "coloraxis": {
         "colorbar": {
          "title": {
           "text": "preh"
          }
         },
         "colorscale": [
          [
           0,
           "#0d0887"
          ],
          [
           0.1111111111111111,
           "#46039f"
          ],
          [
           0.2222222222222222,
           "#7201a8"
          ],
          [
           0.3333333333333333,
           "#9c179e"
          ],
          [
           0.4444444444444444,
           "#bd3786"
          ],
          [
           0.5555555555555556,
           "#d8576b"
          ],
          [
           0.6666666666666666,
           "#ed7953"
          ],
          [
           0.7777777777777778,
           "#fb9f3a"
          ],
          [
           0.8888888888888888,
           "#fdca26"
          ],
          [
           1,
           "#f0f921"
          ]
         ]
        },
        "legend": {
         "tracegroupgap": 0
        },
        "margin": {
         "t": 60
        },
        "scene": {
         "domain": {
          "x": [
           0,
           1
          ],
          "y": [
           0,
           1
          ]
         },
         "xaxis": {
          "title": {
           "text": "bmi"
          }
         },
         "yaxis": {
          "title": {
           "text": "hc"
          }
         },
         "zaxis": {
          "title": {
           "text": "whr"
          }
         }
        },
        "template": {
         "data": {
          "bar": [
           {
            "error_x": {
             "color": "#2a3f5f"
            },
            "error_y": {
             "color": "#2a3f5f"
            },
            "marker": {
             "line": {
              "color": "#E5ECF6",
              "width": 0.5
             },
             "pattern": {
              "fillmode": "overlay",
              "size": 10,
              "solidity": 0.2
             }
            },
            "type": "bar"
           }
          ],
          "barpolar": [
           {
            "marker": {
             "line": {
              "color": "#E5ECF6",
              "width": 0.5
             },
             "pattern": {
              "fillmode": "overlay",
              "size": 10,
              "solidity": 0.2
             }
            },
            "type": "barpolar"
           }
          ],
          "carpet": [
           {
            "aaxis": {
             "endlinecolor": "#2a3f5f",
             "gridcolor": "white",
             "linecolor": "white",
             "minorgridcolor": "white",
             "startlinecolor": "#2a3f5f"
            },
            "baxis": {
             "endlinecolor": "#2a3f5f",
             "gridcolor": "white",
             "linecolor": "white",
             "minorgridcolor": "white",
             "startlinecolor": "#2a3f5f"
            },
            "type": "carpet"
           }
          ],
          "choropleth": [
           {
            "colorbar": {
             "outlinewidth": 0,
             "ticks": ""
            },
            "type": "choropleth"
           }
          ],
          "contour": [
           {
            "colorbar": {
             "outlinewidth": 0,
             "ticks": ""
            },
            "colorscale": [
             [
              0,
              "#0d0887"
             ],
             [
              0.1111111111111111,
              "#46039f"
             ],
             [
              0.2222222222222222,
              "#7201a8"
             ],
             [
              0.3333333333333333,
              "#9c179e"
             ],
             [
              0.4444444444444444,
              "#bd3786"
             ],
             [
              0.5555555555555556,
              "#d8576b"
             ],
             [
              0.6666666666666666,
              "#ed7953"
             ],
             [
              0.7777777777777778,
              "#fb9f3a"
             ],
             [
              0.8888888888888888,
              "#fdca26"
             ],
             [
              1,
              "#f0f921"
             ]
            ],
            "type": "contour"
           }
          ],
          "contourcarpet": [
           {
            "colorbar": {
             "outlinewidth": 0,
             "ticks": ""
            },
            "type": "contourcarpet"
           }
          ],
          "heatmap": [
           {
            "colorbar": {
             "outlinewidth": 0,
             "ticks": ""
            },
            "colorscale": [
             [
              0,
              "#0d0887"
             ],
             [
              0.1111111111111111,
              "#46039f"
             ],
             [
              0.2222222222222222,
              "#7201a8"
             ],
             [
              0.3333333333333333,
              "#9c179e"
             ],
             [
              0.4444444444444444,
              "#bd3786"
             ],
             [
              0.5555555555555556,
              "#d8576b"
             ],
             [
              0.6666666666666666,
              "#ed7953"
             ],
             [
              0.7777777777777778,
              "#fb9f3a"
             ],
             [
              0.8888888888888888,
              "#fdca26"
             ],
             [
              1,
              "#f0f921"
             ]
            ],
            "type": "heatmap"
           }
          ],
          "heatmapgl": [
           {
            "colorbar": {
             "outlinewidth": 0,
             "ticks": ""
            },
            "colorscale": [
             [
              0,
              "#0d0887"
             ],
             [
              0.1111111111111111,
              "#46039f"
             ],
             [
              0.2222222222222222,
              "#7201a8"
             ],
             [
              0.3333333333333333,
              "#9c179e"
             ],
             [
              0.4444444444444444,
              "#bd3786"
             ],
             [
              0.5555555555555556,
              "#d8576b"
             ],
             [
              0.6666666666666666,
              "#ed7953"
             ],
             [
              0.7777777777777778,
              "#fb9f3a"
             ],
             [
              0.8888888888888888,
              "#fdca26"
             ],
             [
              1,
              "#f0f921"
             ]
            ],
            "type": "heatmapgl"
           }
          ],
          "histogram": [
           {
            "marker": {
             "pattern": {
              "fillmode": "overlay",
              "size": 10,
              "solidity": 0.2
             }
            },
            "type": "histogram"
           }
          ],
          "histogram2d": [
           {
            "colorbar": {
             "outlinewidth": 0,
             "ticks": ""
            },
            "colorscale": [
             [
              0,
              "#0d0887"
             ],
             [
              0.1111111111111111,
              "#46039f"
             ],
             [
              0.2222222222222222,
              "#7201a8"
             ],
             [
              0.3333333333333333,
              "#9c179e"
             ],
             [
              0.4444444444444444,
              "#bd3786"
             ],
             [
              0.5555555555555556,
              "#d8576b"
             ],
             [
              0.6666666666666666,
              "#ed7953"
             ],
             [
              0.7777777777777778,
              "#fb9f3a"
             ],
             [
              0.8888888888888888,
              "#fdca26"
             ],
             [
              1,
              "#f0f921"
             ]
            ],
            "type": "histogram2d"
           }
          ],
          "histogram2dcontour": [
           {
            "colorbar": {
             "outlinewidth": 0,
             "ticks": ""
            },
            "colorscale": [
             [
              0,
              "#0d0887"
             ],
             [
              0.1111111111111111,
              "#46039f"
             ],
             [
              0.2222222222222222,
              "#7201a8"
             ],
             [
              0.3333333333333333,
              "#9c179e"
             ],
             [
              0.4444444444444444,
              "#bd3786"
             ],
             [
              0.5555555555555556,
              "#d8576b"
             ],
             [
              0.6666666666666666,
              "#ed7953"
             ],
             [
              0.7777777777777778,
              "#fb9f3a"
             ],
             [
              0.8888888888888888,
              "#fdca26"
             ],
             [
              1,
              "#f0f921"
             ]
            ],
            "type": "histogram2dcontour"
           }
          ],
          "mesh3d": [
           {
            "colorbar": {
             "outlinewidth": 0,
             "ticks": ""
            },
            "type": "mesh3d"
           }
          ],
          "parcoords": [
           {
            "line": {
             "colorbar": {
              "outlinewidth": 0,
              "ticks": ""
             }
            },
            "type": "parcoords"
           }
          ],
          "pie": [
           {
            "automargin": true,
            "type": "pie"
           }
          ],
          "scatter": [
           {
            "fillpattern": {
             "fillmode": "overlay",
             "size": 10,
             "solidity": 0.2
            },
            "type": "scatter"
           }
          ],
          "scatter3d": [
           {
            "line": {
             "colorbar": {
              "outlinewidth": 0,
              "ticks": ""
             }
            },
            "marker": {
             "colorbar": {
              "outlinewidth": 0,
              "ticks": ""
             }
            },
            "type": "scatter3d"
           }
          ],
          "scattercarpet": [
           {
            "marker": {
             "colorbar": {
              "outlinewidth": 0,
              "ticks": ""
             }
            },
            "type": "scattercarpet"
           }
          ],
          "scattergeo": [
           {
            "marker": {
             "colorbar": {
              "outlinewidth": 0,
              "ticks": ""
             }
            },
            "type": "scattergeo"
           }
          ],
          "scattergl": [
           {
            "marker": {
             "colorbar": {
              "outlinewidth": 0,
              "ticks": ""
             }
            },
            "type": "scattergl"
           }
          ],
          "scattermapbox": [
           {
            "marker": {
             "colorbar": {
              "outlinewidth": 0,
              "ticks": ""
             }
            },
            "type": "scattermapbox"
           }
          ],
          "scatterpolar": [
           {
            "marker": {
             "colorbar": {
              "outlinewidth": 0,
              "ticks": ""
             }
            },
            "type": "scatterpolar"
           }
          ],
          "scatterpolargl": [
           {
            "marker": {
             "colorbar": {
              "outlinewidth": 0,
              "ticks": ""
             }
            },
            "type": "scatterpolargl"
           }
          ],
          "scatterternary": [
           {
            "marker": {
             "colorbar": {
              "outlinewidth": 0,
              "ticks": ""
             }
            },
            "type": "scatterternary"
           }
          ],
          "surface": [
           {
            "colorbar": {
             "outlinewidth": 0,
             "ticks": ""
            },
            "colorscale": [
             [
              0,
              "#0d0887"
             ],
             [
              0.1111111111111111,
              "#46039f"
             ],
             [
              0.2222222222222222,
              "#7201a8"
             ],
             [
              0.3333333333333333,
              "#9c179e"
             ],
             [
              0.4444444444444444,
              "#bd3786"
             ],
             [
              0.5555555555555556,
              "#d8576b"
             ],
             [
              0.6666666666666666,
              "#ed7953"
             ],
             [
              0.7777777777777778,
              "#fb9f3a"
             ],
             [
              0.8888888888888888,
              "#fdca26"
             ],
             [
              1,
              "#f0f921"
             ]
            ],
            "type": "surface"
           }
          ],
          "table": [
           {
            "cells": {
             "fill": {
              "color": "#EBF0F8"
             },
             "line": {
              "color": "white"
             }
            },
            "header": {
             "fill": {
              "color": "#C8D4E3"
             },
             "line": {
              "color": "white"
             }
            },
            "type": "table"
           }
          ]
         },
         "layout": {
          "annotationdefaults": {
           "arrowcolor": "#2a3f5f",
           "arrowhead": 0,
           "arrowwidth": 1
          },
          "autotypenumbers": "strict",
          "coloraxis": {
           "colorbar": {
            "outlinewidth": 0,
            "ticks": ""
           }
          },
          "colorscale": {
           "diverging": [
            [
             0,
             "#8e0152"
            ],
            [
             0.1,
             "#c51b7d"
            ],
            [
             0.2,
             "#de77ae"
            ],
            [
             0.3,
             "#f1b6da"
            ],
            [
             0.4,
             "#fde0ef"
            ],
            [
             0.5,
             "#f7f7f7"
            ],
            [
             0.6,
             "#e6f5d0"
            ],
            [
             0.7,
             "#b8e186"
            ],
            [
             0.8,
             "#7fbc41"
            ],
            [
             0.9,
             "#4d9221"
            ],
            [
             1,
             "#276419"
            ]
           ],
           "sequential": [
            [
             0,
             "#0d0887"
            ],
            [
             0.1111111111111111,
             "#46039f"
            ],
            [
             0.2222222222222222,
             "#7201a8"
            ],
            [
             0.3333333333333333,
             "#9c179e"
            ],
            [
             0.4444444444444444,
             "#bd3786"
            ],
            [
             0.5555555555555556,
             "#d8576b"
            ],
            [
             0.6666666666666666,
             "#ed7953"
            ],
            [
             0.7777777777777778,
             "#fb9f3a"
            ],
            [
             0.8888888888888888,
             "#fdca26"
            ],
            [
             1,
             "#f0f921"
            ]
           ],
           "sequentialminus": [
            [
             0,
             "#0d0887"
            ],
            [
             0.1111111111111111,
             "#46039f"
            ],
            [
             0.2222222222222222,
             "#7201a8"
            ],
            [
             0.3333333333333333,
             "#9c179e"
            ],
            [
             0.4444444444444444,
             "#bd3786"
            ],
            [
             0.5555555555555556,
             "#d8576b"
            ],
            [
             0.6666666666666666,
             "#ed7953"
            ],
            [
             0.7777777777777778,
             "#fb9f3a"
            ],
            [
             0.8888888888888888,
             "#fdca26"
            ],
            [
             1,
             "#f0f921"
            ]
           ]
          },
          "colorway": [
           "#636efa",
           "#EF553B",
           "#00cc96",
           "#ab63fa",
           "#FFA15A",
           "#19d3f3",
           "#FF6692",
           "#B6E880",
           "#FF97FF",
           "#FECB52"
          ],
          "font": {
           "color": "#2a3f5f"
          },
          "geo": {
           "bgcolor": "white",
           "lakecolor": "white",
           "landcolor": "#E5ECF6",
           "showlakes": true,
           "showland": true,
           "subunitcolor": "white"
          },
          "hoverlabel": {
           "align": "left"
          },
          "hovermode": "closest",
          "mapbox": {
           "style": "light"
          },
          "paper_bgcolor": "white",
          "plot_bgcolor": "#E5ECF6",
          "polar": {
           "angularaxis": {
            "gridcolor": "white",
            "linecolor": "white",
            "ticks": ""
           },
           "bgcolor": "#E5ECF6",
           "radialaxis": {
            "gridcolor": "white",
            "linecolor": "white",
            "ticks": ""
           }
          },
          "scene": {
           "xaxis": {
            "backgroundcolor": "#E5ECF6",
            "gridcolor": "white",
            "gridwidth": 2,
            "linecolor": "white",
            "showbackground": true,
            "ticks": "",
            "zerolinecolor": "white"
           },
           "yaxis": {
            "backgroundcolor": "#E5ECF6",
            "gridcolor": "white",
            "gridwidth": 2,
            "linecolor": "white",
            "showbackground": true,
            "ticks": "",
            "zerolinecolor": "white"
           },
           "zaxis": {
            "backgroundcolor": "#E5ECF6",
            "gridcolor": "white",
            "gridwidth": 2,
            "linecolor": "white",
            "showbackground": true,
            "ticks": "",
            "zerolinecolor": "white"
           }
          },
          "shapedefaults": {
           "line": {
            "color": "#2a3f5f"
           }
          },
          "ternary": {
           "aaxis": {
            "gridcolor": "white",
            "linecolor": "white",
            "ticks": ""
           },
           "baxis": {
            "gridcolor": "white",
            "linecolor": "white",
            "ticks": ""
           },
           "bgcolor": "#E5ECF6",
           "caxis": {
            "gridcolor": "white",
            "linecolor": "white",
            "ticks": ""
           }
          },
          "title": {
           "x": 0.05
          },
          "xaxis": {
           "automargin": true,
           "gridcolor": "white",
           "linecolor": "white",
           "ticks": "",
           "title": {
            "standoff": 15
           },
           "zerolinecolor": "white",
           "zerolinewidth": 2
          },
          "yaxis": {
           "automargin": true,
           "gridcolor": "white",
           "linecolor": "white",
           "ticks": "",
           "title": {
            "standoff": 15
           },
           "zerolinecolor": "white",
           "zerolinewidth": 2
          }
         }
        }
       }
      }
     },
     "metadata": {},
     "output_type": "display_data"
    }
   ],
   "source": [
    "column_combinations = [['bmi', 'wc', 'hc'], ['wc', 'hc', 'whr'], ['bmi', 'wc', 'whr'], ['bmi', 'hc', 'whr']]\n",
    "\n",
    "for combination in column_combinations:\n",
    "    x_col, y_col, z_col = combination\n",
    "\n",
    "    fig = px.scatter_3d(data_f,x=x_col, y=y_col, z=z_col, color = data_f['preh'])\n",
    "    fig.show()"
   ]
  },
  {
   "cell_type": "code",
   "execution_count": 46,
   "metadata": {
    "vscode": {
     "languageId": "shellscript"
    }
   },
   "outputs": [
    {
     "data": {
      "image/png": "[encoded data removed]",
      "text/plain": [
       "<Figure size 640x480 with 1 Axes>"
      ]
     },
     "metadata": {},
     "output_type": "display_data"
    },
    {
     "data": {
      "image/png": "[encoded data removed]",
      "text/plain": [
       "<Figure size 640x480 with 1 Axes>"
      ]
     },
     "metadata": {},
     "output_type": "display_data"
    },
    {
     "data": {
      "image/png": "[encoded data removed]",
      "text/plain": [
       "<Figure size 640x480 with 1 Axes>"
      ]
     },
     "metadata": {},
     "output_type": "display_data"
    },
    {
     "data": {
      "image/png": "[encoded data removed]",
      "text/plain": [
       "<Figure size 640x480 with 1 Axes>"
      ]
     },
     "metadata": {},
     "output_type": "display_data"
    },
    {
     "data": {
      "image/png": "[encoded data removed]",
      "text/plain": [
       "<Figure size 640x480 with 1 Axes>"
      ]
     },
     "metadata": {},
     "output_type": "display_data"
    }
   ],
   "source": [
    "column_combinations = [['bmi','hc'], ['bmi','whr'], ['bmi','wc'], ['wc','hc'], ['wc','whr']]\n",
    "\n",
    "for combination in column_combinations:\n",
    "    x_col, y_col = combination\n",
    "\n",
    "    plt.scatter(data_m[x_col], data_m[y_col], c = data_m['hyper'])\n",
    "    plt.xlabel(x_col)\n",
    "    plt.ylabel(y_col)\n",
    "    plt.title(f'{x_col} vs {y_col}')\n",
    "    plt.show()"
   ]
  },
  {
   "cell_type": "code",
   "execution_count": 47,
   "metadata": {
    "vscode": {
     "languageId": "shellscript"
    }
   },
   "outputs": [
    {
     "data": {
      "application/vnd.plotly.v1+json": {
       "config": {
        "plotlyServerURL": "https://plot.ly"
       },
       "data": [
        {
         "hovertemplate": "bmi=%{x}<br>wc=%{y}<br>hc=%{z}<br>hyper=%{marker.color}<extra></extra>",
         "legendgroup": "",
         "marker": {
          "color": [
           0,
           0,
           0,
           0,
           0,
           1,
           0,
           0,
           1,
           1,
           1,
           0,
           0,
           0,
           0,
           1,
           1,
           0,
           0,
           1,
           0,
           1,
           0,
           0,
           0,
           1,
           1,
           1,
           0,
           0,
           1,
           1,
           0,
           0,
           0,
           0,
           1,
           0,
           0,
           0,
           0,
           1,
           0,
           0,
           0,
           1,
           0,
           0,
           0,
           0,
           0,
           0,
           1,
           0,
           0,
           0,
           0,
           0,
           1,
           0,
           0,
           1,
           0,
           0,
           0,
           0,
           0,
           0,
           0,
           0,
           0,
           0,
           0,
           0,
           0,
           0,
           0,
           1,
           1,
           1,
           0,
           0,
           1,
           0,
           0,
           1,
           1,
           1,
           0,
           0,
           0,
           0,
           0,
           0,
           0,
           0,
           0,
           0,
           0,
           0,
           0,
           1,
           0,
           0,
           0,
           0,
           0,
           0,
           0,
           0,
           0,
           0,
           0,
           0,
           1,
           0,
           0,
           0,
           1,
           0,
           0,
           0,
           0,
           0,
           0,
           0,
           1,
           1,
           0,
           0,
           0,
           0,
           1,
           0,
           0,
           1,
           0,
           0,
           0,
           0,
           1,
           1,
           0,
           0,
           0,
           1,
           0,
           0,
           0,
           0,
           0,
           0,
           1,
           1,
           0,
           1,
           1,
           0,
           1,
           0,
           0,
           1,
           0,
           0,
           1,
           0,
           1,
           0,
           1,
           1,
           1,
           0,
           0,
           0,
           0
          ],
          "coloraxis": "coloraxis",
          "symbol": "circle"
         },
         "mode": "markers",
         "name": "",
         "scene": "scene",
         "showlegend": false,
         "type": "scatter3d",
         "x": [
          27.94,
          18.65,
          27.62,
          24.96,
          25.15,
          22.5,
          25.31,
          25.73,
          25.16,
          25.12,
          25.56,
          27.56,
          19.69,
          17.26,
          26.78,
          19.62,
          26.45,
          21.44,
          27.46,
          29.49,
          23.1,
          19.15,
          28.58,
          24.69,
          23.99,
          25.23,
          26.37,
          25.02,
          22.38,
          27.92,
          29.63,
          26.78,
          23.67,
          21.45,
          23.14,
          22.68,
          22,
          22.62,
          22.49,
          22.28,
          21.31,
          22.86,
          17.32,
          28.28,
          21.86,
          27.84,
          22.75,
          23.93,
          23.44,
          17.09,
          26.34,
          25.36,
          20.41,
          21.9,
          25.21,
          24.87,
          20.55,
          21.73,
          23.83,
          25.44,
          20.45,
          22.76,
          27.82,
          22.6,
          26.2,
          28.23,
          26.91,
          19.82,
          26.72,
          28.28,
          28.3,
          22.3,
          28.26,
          23.02,
          25.17,
          25.1,
          25.15,
          27.04,
          23.16,
          34.42,
          32.99,
          30.71,
          31.83,
          40.4,
          30.79,
          43.6,
          32.82,
          32.11,
          25.35,
          20.73,
          24.54,
          24.66,
          20.61,
          27.17,
          25.06,
          28.52,
          20.64,
          23.32,
          23.11,
          20.51,
          21.03,
          27.48,
          29.64,
          24.82,
          20.73,
          21.43,
          21.59,
          24.57,
          28.2,
          27.13,
          29.8,
          17.67,
          22.1,
          25.62,
          28.93,
          27,
          26.23,
          21.49,
          21.45,
          18.5,
          24.21,
          25.33,
          22.97,
          28.08,
          23.49,
          26.01,
          25.49,
          23.11,
          20.85,
          23.78,
          22.23,
          20.75,
          20.13,
          19.75,
          24.88,
          23.33,
          23.63,
          24.42,
          20.2,
          22.82,
          26.19,
          27,
          19.85,
          19.61,
          28.57,
          17.64,
          22.95,
          23.56,
          24.95,
          20.36,
          26.27,
          26.78,
          21.22,
          25.6,
          27.18,
          25.3,
          19.84,
          22.43,
          17.67,
          22.35,
          32.08,
          33.29,
          30.2,
          37.97,
          32.07,
          37.35,
          35.81,
          33.97,
          30.86,
          24.97,
          25.78,
          22.78,
          22.43,
          21.92,
          23.15
         ],
         "y": [
          95,
          69,
          102,
          86,
          82,
          79,
          92,
          90,
          84,
          84,
          84,
          85,
          77,
          76,
          82,
          73,
          93,
          83,
          97,
          103,
          87,
          68,
          100,
          80,
          79,
          88,
          87,
          65,
          77,
          87,
          93,
          87,
          86,
          76,
          81,
          76,
          87,
          81,
          76,
          73,
          73,
          86,
          69,
          94,
          81,
          98,
          81,
          88,
          78,
          68,
          92,
          79,
          77,
          73,
          80,
          79,
          71,
          73,
          86,
          85,
          76,
          80,
          98,
          83,
          94,
          90,
          99,
          80,
          94,
          96,
          94,
          74,
          100,
          80,
          95,
          83,
          91,
          93,
          82,
          119,
          103,
          103,
          98,
          126,
          103,
          121,
          115,
          97,
          79,
          91,
          83,
          81,
          79,
          92,
          83,
          90,
          79,
          81,
          48,
          69,
          83,
          96,
          92,
          83,
          81,
          75,
          70,
          81,
          94,
          97,
          92,
          75,
          80,
          99,
          95,
          88,
          93,
          80,
          74,
          77,
          85,
          99,
          85,
          80,
          78,
          93,
          86,
          83,
          75,
          85,
          78,
          73,
          77,
          75,
          77,
          81,
          84,
          82,
          88,
          82,
          89,
          84,
          79,
          71,
          96,
          73,
          83,
          92,
          87,
          82,
          91,
          85,
          81,
          91,
          90,
          79,
          81,
          77,
          65,
          80,
          100,
          114,
          93,
          118,
          108,
          104,
          111,
          110,
          103,
          87,
          93,
          87,
          78,
          81,
          84
         ],
         "z": [
          112,
          85,
          107,
          107,
          99,
          97,
          104,
          94,
          99,
          104,
          104,
          106,
          92,
          93,
          104,
          97,
          113,
          97,
          109,
          113,
          103,
          89,
          112,
          105,
          96,
          110,
          106,
          111,
          97,
          107,
          112,
          103,
          97,
          92,
          103,
          98,
          102,
          99,
          98,
          92,
          95,
          101,
          87,
          106,
          107,
          114,
          97,
          98,
          101,
          95,
          104,
          97,
          95,
          93,
          102,
          106,
          85,
          96,
          99,
          102,
          91,
          104,
          112,
          96,
          108,
          110,
          106,
          94,
          106,
          107,
          110,
          95,
          108,
          99,
          106,
          104,
          103,
          105,
          101,
          121,
          117,
          119,
          120,
          130,
          113,
          123,
          122,
          112,
          102,
          80,
          98,
          99,
          96,
          110,
          106,
          99,
          95,
          97,
          98,
          92,
          102,
          113,
          114,
          101,
          101,
          91,
          90,
          112,
          110,
          112,
          108,
          87,
          100,
          110,
          116,
          107,
          114,
          99,
          95,
          90,
          105,
          105,
          103,
          106,
          95,
          108,
          100,
          94,
          88,
          102,
          99,
          93,
          95,
          84,
          102,
          107,
          101,
          110,
          120,
          97,
          103,
          104,
          94,
          90,
          105,
          91,
          103,
          97,
          99,
          104,
          109,
          104,
          100,
          101,
          103,
          99,
          94,
          101,
          88,
          103,
          111,
          120,
          110,
          122,
          117,
          125,
          126,
          122,
          107,
          107,
          106,
          104,
          96,
          104,
          96
         ]
        }
       ],
       "layout": {
        "coloraxis": {
         "colorbar": {
          "title": {
           "text": "hyper"
          }
         },
         "colorscale": [
          [
           0,
           "#0d0887"
          ],
          [
           0.1111111111111111,
           "#46039f"
          ],
          [
           0.2222222222222222,
           "#7201a8"
          ],
          [
           0.3333333333333333,
           "#9c179e"
          ],
          [
           0.4444444444444444,
           "#bd3786"
          ],
          [
           0.5555555555555556,
           "#d8576b"
          ],
          [
           0.6666666666666666,
           "#ed7953"
          ],
          [
           0.7777777777777778,
           "#fb9f3a"
          ],
          [
           0.8888888888888888,
           "#fdca26"
          ],
          [
           1,
           "#f0f921"
          ]
         ]
        },
        "legend": {
         "tracegroupgap": 0
        },
        "margin": {
         "t": 60
        },
        "scene": {
         "domain": {
          "x": [
           0,
           1
          ],
          "y": [
           0,
           1
          ]
         },
         "xaxis": {
          "title": {
           "text": "bmi"
          }
         },
         "yaxis": {
          "title": {
           "text": "wc"
          }
         },
         "zaxis": {
          "title": {
           "text": "hc"
          }
         }
        },
        "template": {
         "data": {
          "bar": [
           {
            "error_x": {
             "color": "#2a3f5f"
            },
            "error_y": {
             "color": "#2a3f5f"
            },
            "marker": {
             "line": {
              "color": "#E5ECF6",
              "width": 0.5
             },
             "pattern": {
              "fillmode": "overlay",
              "size": 10,
              "solidity": 0.2
             }
            },
            "type": "bar"
           }
          ],
          "barpolar": [
           {
            "marker": {
             "line": {
              "color": "#E5ECF6",
              "width": 0.5
             },
             "pattern": {
              "fillmode": "overlay",
              "size": 10,
              "solidity": 0.2
             }
            },
            "type": "barpolar"
           }
          ],
          "carpet": [
           {
            "aaxis": {
             "endlinecolor": "#2a3f5f",
             "gridcolor": "white",
             "linecolor": "white",
             "minorgridcolor": "white",
             "startlinecolor": "#2a3f5f"
            },
            "baxis": {
             "endlinecolor": "#2a3f5f",
             "gridcolor": "white",
             "linecolor": "white",
             "minorgridcolor": "white",
             "startlinecolor": "#2a3f5f"
            },
            "type": "carpet"
           }
          ],
          "choropleth": [
           {
            "colorbar": {
             "outlinewidth": 0,
             "ticks": ""
            },
            "type": "choropleth"
           }
          ],
          "contour": [
           {
            "colorbar": {
             "outlinewidth": 0,
             "ticks": ""
            },
            "colorscale": [
             [
              0,
              "#0d0887"
             ],
             [
              0.1111111111111111,
              "#46039f"
             ],
             [
              0.2222222222222222,
              "#7201a8"
             ],
             [
              0.3333333333333333,
              "#9c179e"
             ],
             [
              0.4444444444444444,
              "#bd3786"
             ],
             [
              0.5555555555555556,
              "#d8576b"
             ],
             [
              0.6666666666666666,
              "#ed7953"
             ],
             [
              0.7777777777777778,
              "#fb9f3a"
             ],
             [
              0.8888888888888888,
              "#fdca26"
             ],
             [
              1,
              "#f0f921"
             ]
            ],
            "type": "contour"
           }
          ],
          "contourcarpet": [
           {
            "colorbar": {
             "outlinewidth": 0,
             "ticks": ""
            },
            "type": "contourcarpet"
           }
          ],
          "heatmap": [
           {
            "colorbar": {
             "outlinewidth": 0,
             "ticks": ""
            },
            "colorscale": [
             [
              0,
              "#0d0887"
             ],
             [
              0.1111111111111111,
              "#46039f"
             ],
             [
              0.2222222222222222,
              "#7201a8"
             ],
             [
              0.3333333333333333,
              "#9c179e"
             ],
             [
              0.4444444444444444,
              "#bd3786"
             ],
             [
              0.5555555555555556,
              "#d8576b"
             ],
             [
              0.6666666666666666,
              "#ed7953"
             ],
             [
              0.7777777777777778,
              "#fb9f3a"
             ],
             [
              0.8888888888888888,
              "#fdca26"
             ],
             [
              1,
              "#f0f921"
             ]
            ],
            "type": "heatmap"
           }
          ],
          "heatmapgl": [
           {
            "colorbar": {
             "outlinewidth": 0,
             "ticks": ""
            },
            "colorscale": [
             [
              0,
              "#0d0887"
             ],
             [
              0.1111111111111111,
              "#46039f"
             ],
             [
              0.2222222222222222,
              "#7201a8"
             ],
             [
              0.3333333333333333,
              "#9c179e"
             ],
             [
              0.4444444444444444,
              "#bd3786"
             ],
             [
              0.5555555555555556,
              "#d8576b"
             ],
             [
              0.6666666666666666,
              "#ed7953"
             ],
             [
              0.7777777777777778,
              "#fb9f3a"
             ],
             [
              0.8888888888888888,
              "#fdca26"
             ],
             [
              1,
              "#f0f921"
             ]
            ],
            "type": "heatmapgl"
           }
          ],
          "histogram": [
           {
            "marker": {
             "pattern": {
              "fillmode": "overlay",
              "size": 10,
              "solidity": 0.2
             }
            },
            "type": "histogram"
           }
          ],
          "histogram2d": [
           {
            "colorbar": {
             "outlinewidth": 0,
             "ticks": ""
            },
            "colorscale": [
             [
              0,
              "#0d0887"
             ],
             [
              0.1111111111111111,
              "#46039f"
             ],
             [
              0.2222222222222222,
              "#7201a8"
             ],
             [
              0.3333333333333333,
              "#9c179e"
             ],
             [
              0.4444444444444444,
              "#bd3786"
             ],
             [
              0.5555555555555556,
              "#d8576b"
             ],
             [
              0.6666666666666666,
              "#ed7953"
             ],
             [
              0.7777777777777778,
              "#fb9f3a"
             ],
             [
              0.8888888888888888,
              "#fdca26"
             ],
             [
              1,
              "#f0f921"
             ]
            ],
            "type": "histogram2d"
           }
          ],
          "histogram2dcontour": [
           {
            "colorbar": {
             "outlinewidth": 0,
             "ticks": ""
            },
            "colorscale": [
             [
              0,
              "#0d0887"
             ],
             [
              0.1111111111111111,
              "#46039f"
             ],
             [
              0.2222222222222222,
              "#7201a8"
             ],
             [
              0.3333333333333333,
              "#9c179e"
             ],
             [
              0.4444444444444444,
              "#bd3786"
             ],
             [
              0.5555555555555556,
              "#d8576b"
             ],
             [
              0.6666666666666666,
              "#ed7953"
             ],
             [
              0.7777777777777778,
              "#fb9f3a"
             ],
             [
              0.8888888888888888,
              "#fdca26"
             ],
             [
              1,
              "#f0f921"
             ]
            ],
            "type": "histogram2dcontour"
           }
          ],
          "mesh3d": [
           {
            "colorbar": {
             "outlinewidth": 0,
             "ticks": ""
            },
            "type": "mesh3d"
           }
          ],
          "parcoords": [
           {
            "line": {
             "colorbar": {
              "outlinewidth": 0,
              "ticks": ""
             }
            },
            "type": "parcoords"
           }
          ],
          "pie": [
           {
            "automargin": true,
            "type": "pie"
           }
          ],
          "scatter": [
           {
            "fillpattern": {
             "fillmode": "overlay",
             "size": 10,
             "solidity": 0.2
            },
            "type": "scatter"
           }
          ],
          "scatter3d": [
           {
            "line": {
             "colorbar": {
              "outlinewidth": 0,
              "ticks": ""
             }
            },
            "marker": {
             "colorbar": {
              "outlinewidth": 0,
              "ticks": ""
             }
            },
            "type": "scatter3d"
           }
          ],
          "scattercarpet": [
           {
            "marker": {
             "colorbar": {
              "outlinewidth": 0,
              "ticks": ""
             }
            },
            "type": "scattercarpet"
           }
          ],
          "scattergeo": [
           {
            "marker": {
             "colorbar": {
              "outlinewidth": 0,
              "ticks": ""
             }
            },
            "type": "scattergeo"
           }
          ],
          "scattergl": [
           {
            "marker": {
             "colorbar": {
              "outlinewidth": 0,
              "ticks": ""
             }
            },
            "type": "scattergl"
           }
          ],
          "scattermapbox": [
           {
            "marker": {
             "colorbar": {
              "outlinewidth": 0,
              "ticks": ""
             }
            },
            "type": "scattermapbox"
           }
          ],
          "scatterpolar": [
           {
            "marker": {
             "colorbar": {
              "outlinewidth": 0,
              "ticks": ""
             }
            },
            "type": "scatterpolar"
           }
          ],
          "scatterpolargl": [
           {
            "marker": {
             "colorbar": {
              "outlinewidth": 0,
              "ticks": ""
             }
            },
            "type": "scatterpolargl"
           }
          ],
          "scatterternary": [
           {
            "marker": {
             "colorbar": {
              "outlinewidth": 0,
              "ticks": ""
             }
            },
            "type": "scatterternary"
           }
          ],
          "surface": [
           {
            "colorbar": {
             "outlinewidth": 0,
             "ticks": ""
            },
            "colorscale": [
             [
              0,
              "#0d0887"
             ],
             [
              0.1111111111111111,
              "#46039f"
             ],
             [
              0.2222222222222222,
              "#7201a8"
             ],
             [
              0.3333333333333333,
              "#9c179e"
             ],
             [
              0.4444444444444444,
              "#bd3786"
             ],
             [
              0.5555555555555556,
              "#d8576b"
             ],
             [
              0.6666666666666666,
              "#ed7953"
             ],
             [
              0.7777777777777778,
              "#fb9f3a"
             ],
             [
              0.8888888888888888,
              "#fdca26"
             ],
             [
              1,
              "#f0f921"
             ]
            ],
            "type": "surface"
           }
          ],
          "table": [
           {
            "cells": {
             "fill": {
              "color": "#EBF0F8"
             },
             "line": {
              "color": "white"
             }
            },
            "header": {
             "fill": {
              "color": "#C8D4E3"
             },
             "line": {
              "color": "white"
             }
            },
            "type": "table"
           }
          ]
         },
         "layout": {
          "annotationdefaults": {
           "arrowcolor": "#2a3f5f",
           "arrowhead": 0,
           "arrowwidth": 1
          },
          "autotypenumbers": "strict",
          "coloraxis": {
           "colorbar": {
            "outlinewidth": 0,
            "ticks": ""
           }
          },
          "colorscale": {
           "diverging": [
            [
             0,
             "#8e0152"
            ],
            [
             0.1,
             "#c51b7d"
            ],
            [
             0.2,
             "#de77ae"
            ],
            [
             0.3,
             "#f1b6da"
            ],
            [
             0.4,
             "#fde0ef"
            ],
            [
             0.5,
             "#f7f7f7"
            ],
            [
             0.6,
             "#e6f5d0"
            ],
            [
             0.7,
             "#b8e186"
            ],
            [
             0.8,
             "#7fbc41"
            ],
            [
             0.9,
             "#4d9221"
            ],
            [
             1,
             "#276419"
            ]
           ],
           "sequential": [
            [
             0,
             "#0d0887"
            ],
            [
             0.1111111111111111,
             "#46039f"
            ],
            [
             0.2222222222222222,
             "#7201a8"
            ],
            [
             0.3333333333333333,
             "#9c179e"
            ],
            [
             0.4444444444444444,
             "#bd3786"
            ],
            [
             0.5555555555555556,
             "#d8576b"
            ],
            [
             0.6666666666666666,
             "#ed7953"
            ],
            [
             0.7777777777777778,
             "#fb9f3a"
            ],
            [
             0.8888888888888888,
             "#fdca26"
            ],
            [
             1,
             "#f0f921"
            ]
           ],
           "sequentialminus": [
            [
             0,
             "#0d0887"
            ],
            [
             0.1111111111111111,
             "#46039f"
            ],
            [
             0.2222222222222222,
             "#7201a8"
            ],
            [
             0.3333333333333333,
             "#9c179e"
            ],
            [
             0.4444444444444444,
             "#bd3786"
            ],
            [
             0.5555555555555556,
             "#d8576b"
            ],
            [
             0.6666666666666666,
             "#ed7953"
            ],
            [
             0.7777777777777778,
             "#fb9f3a"
            ],
            [
             0.8888888888888888,
             "#fdca26"
            ],
            [
             1,
             "#f0f921"
            ]
           ]
          },
          "colorway": [
           "#636efa",
           "#EF553B",
           "#00cc96",
           "#ab63fa",
           "#FFA15A",
           "#19d3f3",
           "#FF6692",
           "#B6E880",
           "#FF97FF",
           "#FECB52"
          ],
          "font": {
           "color": "#2a3f5f"
          },
          "geo": {
           "bgcolor": "white",
           "lakecolor": "white",
           "landcolor": "#E5ECF6",
           "showlakes": true,
           "showland": true,
           "subunitcolor": "white"
          },
          "hoverlabel": {
           "align": "left"
          },
          "hovermode": "closest",
          "mapbox": {
           "style": "light"
          },
          "paper_bgcolor": "white",
          "plot_bgcolor": "#E5ECF6",
          "polar": {
           "angularaxis": {
            "gridcolor": "white",
            "linecolor": "white",
            "ticks": ""
           },
           "bgcolor": "#E5ECF6",
           "radialaxis": {
            "gridcolor": "white",
            "linecolor": "white",
            "ticks": ""
           }
          },
          "scene": {
           "xaxis": {
            "backgroundcolor": "#E5ECF6",
            "gridcolor": "white",
            "gridwidth": 2,
            "linecolor": "white",
            "showbackground": true,
            "ticks": "",
            "zerolinecolor": "white"
           },
           "yaxis": {
            "backgroundcolor": "#E5ECF6",
            "gridcolor": "white",
            "gridwidth": 2,
            "linecolor": "white",
            "showbackground": true,
            "ticks": "",
            "zerolinecolor": "white"
           },
           "zaxis": {
            "backgroundcolor": "#E5ECF6",
            "gridcolor": "white",
            "gridwidth": 2,
            "linecolor": "white",
            "showbackground": true,
            "ticks": "",
            "zerolinecolor": "white"
           }
          },
          "shapedefaults": {
           "line": {
            "color": "#2a3f5f"
           }
          },
          "ternary": {
           "aaxis": {
            "gridcolor": "white",
            "linecolor": "white",
            "ticks": ""
           },
           "baxis": {
            "gridcolor": "white",
            "linecolor": "white",
            "ticks": ""
           },
           "bgcolor": "#E5ECF6",
           "caxis": {
            "gridcolor": "white",
            "linecolor": "white",
            "ticks": ""
           }
          },
          "title": {
           "x": 0.05
          },
          "xaxis": {
           "automargin": true,
           "gridcolor": "white",
           "linecolor": "white",
           "ticks": "",
           "title": {
            "standoff": 15
           },
           "zerolinecolor": "white",
           "zerolinewidth": 2
          },
          "yaxis": {
           "automargin": true,
           "gridcolor": "white",
           "linecolor": "white",
           "ticks": "",
           "title": {
            "standoff": 15
           },
           "zerolinecolor": "white",
           "zerolinewidth": 2
          }
         }
        }
       }
      }
     },
     "metadata": {},
     "output_type": "display_data"
    },
    {
     "data": {
      "application/vnd.plotly.v1+json": {
       "config": {
        "plotlyServerURL": "https://plot.ly"
       },
       "data": [
        {
         "hovertemplate": "wc=%{x}<br>hc=%{y}<br>whr=%{z}<br>hyper=%{marker.color}<extra></extra>",
         "legendgroup": "",
         "marker": {
          "color": [
           0,
           0,
           0,
           0,
           0,
           1,
           0,
           0,
           1,
           1,
           1,
           0,
           0,
           0,
           0,
           1,
           1,
           0,
           0,
           1,
           0,
           1,
           0,
           0,
           0,
           1,
           1,
           1,
           0,
           0,
           1,
           1,
           0,
           0,
           0,
           0,
           1,
           0,
           0,
           0,
           0,
           1,
           0,
           0,
           0,
           1,
           0,
           0,
           0,
           0,
           0,
           0,
           1,
           0,
           0,
           0,
           0,
           0,
           1,
           0,
           0,
           1,
           0,
           0,
           0,
           0,
           0,
           0,
           0,
           0,
           0,
           0,
           0,
           0,
           0,
           0,
           0,
           1,
           1,
           1,
           0,
           0,
           1,
           0,
           0,
           1,
           1,
           1,
           0,
           0,
           0,
           0,
           0,
           0,
           0,
           0,
           0,
           0,
           0,
           0,
           0,
           1,
           0,
           0,
           0,
           0,
           0,
           0,
           0,
           0,
           0,
           0,
           0,
           0,
           1,
           0,
           0,
           0,
           1,
           0,
           0,
           0,
           0,
           0,
           0,
           0,
           1,
           1,
           0,
           0,
           0,
           0,
           1,
           0,
           0,
           1,
           0,
           0,
           0,
           0,
           1,
           1,
           0,
           0,
           0,
           1,
           0,
           0,
           0,
           0,
           0,
           0,
           1,
           1,
           0,
           1,
           1,
           0,
           1,
           0,
           0,
           1,
           0,
           0,
           1,
           0,
           1,
           0,
           1,
           1,
           1,
           0,
           0,
           0,
           0
          ],
          "coloraxis": "coloraxis",
          "symbol": "circle"
         },
         "mode": "markers",
         "name": "",
         "scene": "scene",
         "showlegend": false,
         "type": "scatter3d",
         "x": [
          95,
          69,
          102,
          86,
          82,
          79,
          92,
          90,
          84,
          84,
          84,
          85,
          77,
          76,
          82,
          73,
          93,
          83,
          97,
          103,
          87,
          68,
          100,
          80,
          79,
          88,
          87,
          65,
          77,
          87,
          93,
          87,
          86,
          76,
          81,
          76,
          87,
          81,
          76,
          73,
          73,
          86,
          69,
          94,
          81,
          98,
          81,
          88,
          78,
          68,
          92,
          79,
          77,
          73,
          80,
          79,
          71,
          73,
          86,
          85,
          76,
          80,
          98,
          83,
          94,
          90,
          99,
          80,
          94,
          96,
          94,
          74,
          100,
          80,
          95,
          83,
          91,
          93,
          82,
          119,
          103,
          103,
          98,
          126,
          103,
          121,
          115,
          97,
          79,
          91,
          83,
          81,
          79,
          92,
          83,
          90,
          79,
          81,
          48,
          69,
          83,
          96,
          92,
          83,
          81,
          75,
          70,
          81,
          94,
          97,
          92,
          75,
          80,
          99,
          95,
          88,
          93,
          80,
          74,
          77,
          85,
          99,
          85,
          80,
          78,
          93,
          86,
          83,
          75,
          85,
          78,
          73,
          77,
          75,
          77,
          81,
          84,
          82,
          88,
          82,
          89,
          84,
          79,
          71,
          96,
          73,
          83,
          92,
          87,
          82,
          91,
          85,
          81,
          91,
          90,
          79,
          81,
          77,
          65,
          80,
          100,
          114,
          93,
          118,
          108,
          104,
          111,
          110,
          103,
          87,
          93,
          87,
          78,
          81,
          84
         ],
         "y": [
          112,
          85,
          107,
          107,
          99,
          97,
          104,
          94,
          99,
          104,
          104,
          106,
          92,
          93,
          104,
          97,
          113,
          97,
          109,
          113,
          103,
          89,
          112,
          105,
          96,
          110,
          106,
          111,
          97,
          107,
          112,
          103,
          97,
          92,
          103,
          98,
          102,
          99,
          98,
          92,
          95,
          101,
          87,
          106,
          107,
          114,
          97,
          98,
          101,
          95,
          104,
          97,
          95,
          93,
          102,
          106,
          85,
          96,
          99,
          102,
          91,
          104,
          112,
          96,
          108,
          110,
          106,
          94,
          106,
          107,
          110,
          95,
          108,
          99,
          106,
          104,
          103,
          105,
          101,
          121,
          117,
          119,
          120,
          130,
          113,
          123,
          122,
          112,
          102,
          80,
          98,
          99,
          96,
          110,
          106,
          99,
          95,
          97,
          98,
          92,
          102,
          113,
          114,
          101,
          101,
          91,
          90,
          112,
          110,
          112,
          108,
          87,
          100,
          110,
          116,
          107,
          114,
          99,
          95,
          90,
          105,
          105,
          103,
          106,
          95,
          108,
          100,
          94,
          88,
          102,
          99,
          93,
          95,
          84,
          102,
          107,
          101,
          110,
          120,
          97,
          103,
          104,
          94,
          90,
          105,
          91,
          103,
          97,
          99,
          104,
          109,
          104,
          100,
          101,
          103,
          99,
          94,
          101,
          88,
          103,
          111,
          120,
          110,
          122,
          117,
          125,
          126,
          122,
          107,
          107,
          106,
          104,
          96,
          104,
          96
         ],
         "z": [
          85,
          81,
          95,
          80,
          83,
          81,
          88,
          96,
          85,
          81,
          81,
          80,
          84,
          82,
          79,
          75,
          82,
          86,
          89,
          91,
          84,
          76,
          89,
          76,
          82,
          80,
          82,
          59,
          79,
          81,
          83,
          84,
          89,
          83,
          79,
          78,
          85,
          82,
          78,
          79,
          77,
          85,
          79,
          89,
          76,
          86,
          84,
          90,
          77,
          72,
          88,
          81,
          81,
          78,
          78,
          75,
          84,
          76,
          87,
          83,
          84,
          77,
          88,
          86,
          87,
          82,
          93,
          85,
          89,
          90,
          85,
          78,
          93,
          81,
          90,
          80,
          88,
          89,
          81,
          98,
          88,
          87,
          82,
          97,
          91,
          98,
          94,
          87,
          77,
          114,
          85,
          82,
          82,
          84,
          78,
          91,
          83,
          84,
          49,
          75,
          81,
          85,
          81,
          82,
          80,
          82,
          78,
          72,
          85,
          87,
          85,
          86,
          80,
          90,
          82,
          82,
          82,
          81,
          78,
          86,
          81,
          94,
          83,
          75,
          82,
          86,
          86,
          88,
          85,
          83,
          79,
          78,
          81,
          89,
          75,
          76,
          83,
          75,
          73,
          85,
          86,
          81,
          84,
          79,
          91,
          80,
          81,
          95,
          88,
          79,
          83,
          82,
          81,
          90,
          87,
          80,
          86,
          76,
          74,
          78,
          90,
          95,
          85,
          97,
          92,
          83,
          88,
          90,
          96,
          81,
          88,
          84,
          81,
          78,
          88
         ]
        }
       ],
       "layout": {
        "coloraxis": {
         "colorbar": {
          "title": {
           "text": "hyper"
          }
         },
         "colorscale": [
          [
           0,
           "#0d0887"
          ],
          [
           0.1111111111111111,
           "#46039f"
          ],
          [
           0.2222222222222222,
           "#7201a8"
          ],
          [
           0.3333333333333333,
           "#9c179e"
          ],
          [
           0.4444444444444444,
           "#bd3786"
          ],
          [
           0.5555555555555556,
           "#d8576b"
          ],
          [
           0.6666666666666666,
           "#ed7953"
          ],
          [
           0.7777777777777778,
           "#fb9f3a"
          ],
          [
           0.8888888888888888,
           "#fdca26"
          ],
          [
           1,
           "#f0f921"
          ]
         ]
        },
        "legend": {
         "tracegroupgap": 0
        },
        "margin": {
         "t": 60
        },
        "scene": {
         "domain": {
          "x": [
           0,
           1
          ],
          "y": [
           0,
           1
          ]
         },
         "xaxis": {
          "title": {
           "text": "wc"
          }
         },
         "yaxis": {
          "title": {
           "text": "hc"
          }
         },
         "zaxis": {
          "title": {
           "text": "whr"
          }
         }
        },
        "template": {
         "data": {
          "bar": [
           {
            "error_x": {
             "color": "#2a3f5f"
            },
            "error_y": {
             "color": "#2a3f5f"
            },
            "marker": {
             "line": {
              "color": "#E5ECF6",
              "width": 0.5
             },
             "pattern": {
              "fillmode": "overlay",
              "size": 10,
              "solidity": 0.2
             }
            },
            "type": "bar"
           }
          ],
          "barpolar": [
           {
            "marker": {
             "line": {
              "color": "#E5ECF6",
              "width": 0.5
             },
             "pattern": {
              "fillmode": "overlay",
              "size": 10,
              "solidity": 0.2
             }
            },
            "type": "barpolar"
           }
          ],
          "carpet": [
           {
            "aaxis": {
             "endlinecolor": "#2a3f5f",
             "gridcolor": "white",
             "linecolor": "white",
             "minorgridcolor": "white",
             "startlinecolor": "#2a3f5f"
            },
            "baxis": {
             "endlinecolor": "#2a3f5f",
             "gridcolor": "white",
             "linecolor": "white",
             "minorgridcolor": "white",
             "startlinecolor": "#2a3f5f"
            },
            "type": "carpet"
           }
          ],
          "choropleth": [
           {
            "colorbar": {
             "outlinewidth": 0,
             "ticks": ""
            },
            "type": "choropleth"
           }
          ],
          "contour": [
           {
            "colorbar": {
             "outlinewidth": 0,
             "ticks": ""
            },
            "colorscale": [
             [
              0,
              "#0d0887"
             ],
             [
              0.1111111111111111,
              "#46039f"
             ],
             [
              0.2222222222222222,
              "#7201a8"
             ],
             [
              0.3333333333333333,
              "#9c179e"
             ],
             [
              0.4444444444444444,
              "#bd3786"
             ],
             [
              0.5555555555555556,
              "#d8576b"
             ],
             [
              0.6666666666666666,
              "#ed7953"
             ],
             [
              0.7777777777777778,
              "#fb9f3a"
             ],
             [
              0.8888888888888888,
              "#fdca26"
             ],
             [
              1,
              "#f0f921"
             ]
            ],
            "type": "contour"
           }
          ],
          "contourcarpet": [
           {
            "colorbar": {
             "outlinewidth": 0,
             "ticks": ""
            },
            "type": "contourcarpet"
           }
          ],
          "heatmap": [
           {
            "colorbar": {
             "outlinewidth": 0,
             "ticks": ""
            },
            "colorscale": [
             [
              0,
              "#0d0887"
             ],
             [
              0.1111111111111111,
              "#46039f"
             ],
             [
              0.2222222222222222,
              "#7201a8"
             ],
             [
              0.3333333333333333,
              "#9c179e"
             ],
             [
              0.4444444444444444,
              "#bd3786"
             ],
             [
              0.5555555555555556,
              "#d8576b"
             ],
             [
              0.6666666666666666,
              "#ed7953"
             ],
             [
              0.7777777777777778,
              "#fb9f3a"
             ],
             [
              0.8888888888888888,
              "#fdca26"
             ],
             [
              1,
              "#f0f921"
             ]
            ],
            "type": "heatmap"
           }
          ],
          "heatmapgl": [
           {
            "colorbar": {
             "outlinewidth": 0,
             "ticks": ""
            },
            "colorscale": [
             [
              0,
              "#0d0887"
             ],
             [
              0.1111111111111111,
              "#46039f"
             ],
             [
              0.2222222222222222,
              "#7201a8"
             ],
             [
              0.3333333333333333,
              "#9c179e"
             ],
             [
              0.4444444444444444,
              "#bd3786"
             ],
             [
              0.5555555555555556,
              "#d8576b"
             ],
             [
              0.6666666666666666,
              "#ed7953"
             ],
             [
              0.7777777777777778,
              "#fb9f3a"
             ],
             [
              0.8888888888888888,
              "#fdca26"
             ],
             [
              1,
              "#f0f921"
             ]
            ],
            "type": "heatmapgl"
           }
          ],
          "histogram": [
           {
            "marker": {
             "pattern": {
              "fillmode": "overlay",
              "size": 10,
              "solidity": 0.2
             }
            },
            "type": "histogram"
           }
          ],
          "histogram2d": [
           {
            "colorbar": {
             "outlinewidth": 0,
             "ticks": ""
            },
            "colorscale": [
             [
              0,
              "#0d0887"
             ],
             [
              0.1111111111111111,
              "#46039f"
             ],
             [
              0.2222222222222222,
              "#7201a8"
             ],
             [
              0.3333333333333333,
              "#9c179e"
             ],
             [
              0.4444444444444444,
              "#bd3786"
             ],
             [
              0.5555555555555556,
              "#d8576b"
             ],
             [
              0.6666666666666666,
              "#ed7953"
             ],
             [
              0.7777777777777778,
              "#fb9f3a"
             ],
             [
              0.8888888888888888,
              "#fdca26"
             ],
             [
              1,
              "#f0f921"
             ]
            ],
            "type": "histogram2d"
           }
          ],
          "histogram2dcontour": [
           {
            "colorbar": {
             "outlinewidth": 0,
             "ticks": ""
            },
            "colorscale": [
             [
              0,
              "#0d0887"
             ],
             [
              0.1111111111111111,
              "#46039f"
             ],
             [
              0.2222222222222222,
              "#7201a8"
             ],
             [
              0.3333333333333333,
              "#9c179e"
             ],
             [
              0.4444444444444444,
              "#bd3786"
             ],
             [
              0.5555555555555556,
              "#d8576b"
             ],
             [
              0.6666666666666666,
              "#ed7953"
             ],
             [
              0.7777777777777778,
              "#fb9f3a"
             ],
             [
              0.8888888888888888,
              "#fdca26"
             ],
             [
              1,
              "#f0f921"
             ]
            ],
            "type": "histogram2dcontour"
           }
          ],
          "mesh3d": [
           {
            "colorbar": {
             "outlinewidth": 0,
             "ticks": ""
            },
            "type": "mesh3d"
           }
          ],
          "parcoords": [
           {
            "line": {
             "colorbar": {
              "outlinewidth": 0,
              "ticks": ""
             }
            },
            "type": "parcoords"
           }
          ],
          "pie": [
           {
            "automargin": true,
            "type": "pie"
           }
          ],
          "scatter": [
           {
            "fillpattern": {
             "fillmode": "overlay",
             "size": 10,
             "solidity": 0.2
            },
            "type": "scatter"
           }
          ],
          "scatter3d": [
           {
            "line": {
             "colorbar": {
              "outlinewidth": 0,
              "ticks": ""
             }
            },
            "marker": {
             "colorbar": {
              "outlinewidth": 0,
              "ticks": ""
             }
            },
            "type": "scatter3d"
           }
          ],
          "scattercarpet": [
           {
            "marker": {
             "colorbar": {
              "outlinewidth": 0,
              "ticks": ""
             }
            },
            "type": "scattercarpet"
           }
          ],
          "scattergeo": [
           {
            "marker": {
             "colorbar": {
              "outlinewidth": 0,
              "ticks": ""
             }
            },
            "type": "scattergeo"
           }
          ],
          "scattergl": [
           {
            "marker": {
             "colorbar": {
              "outlinewidth": 0,
              "ticks": ""
             }
            },
            "type": "scattergl"
           }
          ],
          "scattermapbox": [
           {
            "marker": {
             "colorbar": {
              "outlinewidth": 0,
              "ticks": ""
             }
            },
            "type": "scattermapbox"
           }
          ],
          "scatterpolar": [
           {
            "marker": {
             "colorbar": {
              "outlinewidth": 0,
              "ticks": ""
             }
            },
            "type": "scatterpolar"
           }
          ],
          "scatterpolargl": [
           {
            "marker": {
             "colorbar": {
              "outlinewidth": 0,
              "ticks": ""
             }
            },
            "type": "scatterpolargl"
           }
          ],
          "scatterternary": [
           {
            "marker": {
             "colorbar": {
              "outlinewidth": 0,
              "ticks": ""
             }
            },
            "type": "scatterternary"
           }
          ],
          "surface": [
           {
            "colorbar": {
             "outlinewidth": 0,
             "ticks": ""
            },
            "colorscale": [
             [
              0,
              "#0d0887"
             ],
             [
              0.1111111111111111,
              "#46039f"
             ],
             [
              0.2222222222222222,
              "#7201a8"
             ],
             [
              0.3333333333333333,
              "#9c179e"
             ],
             [
              0.4444444444444444,
              "#bd3786"
             ],
             [
              0.5555555555555556,
              "#d8576b"
             ],
             [
              0.6666666666666666,
              "#ed7953"
             ],
             [
              0.7777777777777778,
              "#fb9f3a"
             ],
             [
              0.8888888888888888,
              "#fdca26"
             ],
             [
              1,
              "#f0f921"
             ]
            ],
            "type": "surface"
           }
          ],
          "table": [
           {
            "cells": {
             "fill": {
              "color": "#EBF0F8"
             },
             "line": {
              "color": "white"
             }
            },
            "header": {
             "fill": {
              "color": "#C8D4E3"
             },
             "line": {
              "color": "white"
             }
            },
            "type": "table"
           }
          ]
         },
         "layout": {
          "annotationdefaults": {
           "arrowcolor": "#2a3f5f",
           "arrowhead": 0,
           "arrowwidth": 1
          },
          "autotypenumbers": "strict",
          "coloraxis": {
           "colorbar": {
            "outlinewidth": 0,
            "ticks": ""
           }
          },
          "colorscale": {
           "diverging": [
            [
             0,
             "#8e0152"
            ],
            [
             0.1,
             "#c51b7d"
            ],
            [
             0.2,
             "#de77ae"
            ],
            [
             0.3,
             "#f1b6da"
            ],
            [
             0.4,
             "#fde0ef"
            ],
            [
             0.5,
             "#f7f7f7"
            ],
            [
             0.6,
             "#e6f5d0"
            ],
            [
             0.7,
             "#b8e186"
            ],
            [
             0.8,
             "#7fbc41"
            ],
            [
             0.9,
             "#4d9221"
            ],
            [
             1,
             "#276419"
            ]
           ],
           "sequential": [
            [
             0,
             "#0d0887"
            ],
            [
             0.1111111111111111,
             "#46039f"
            ],
            [
             0.2222222222222222,
             "#7201a8"
            ],
            [
             0.3333333333333333,
             "#9c179e"
            ],
            [
             0.4444444444444444,
             "#bd3786"
            ],
            [
             0.5555555555555556,
             "#d8576b"
            ],
            [
             0.6666666666666666,
             "#ed7953"
            ],
            [
             0.7777777777777778,
             "#fb9f3a"
            ],
            [
             0.8888888888888888,
             "#fdca26"
            ],
            [
             1,
             "#f0f921"
            ]
           ],
           "sequentialminus": [
            [
             0,
             "#0d0887"
            ],
            [
             0.1111111111111111,
             "#46039f"
            ],
            [
             0.2222222222222222,
             "#7201a8"
            ],
            [
             0.3333333333333333,
             "#9c179e"
            ],
            [
             0.4444444444444444,
             "#bd3786"
            ],
            [
             0.5555555555555556,
             "#d8576b"
            ],
            [
             0.6666666666666666,
             "#ed7953"
            ],
            [
             0.7777777777777778,
             "#fb9f3a"
            ],
            [
             0.8888888888888888,
             "#fdca26"
            ],
            [
             1,
             "#f0f921"
            ]
           ]
          },
          "colorway": [
           "#636efa",
           "#EF553B",
           "#00cc96",
           "#ab63fa",
           "#FFA15A",
           "#19d3f3",
           "#FF6692",
           "#B6E880",
           "#FF97FF",
           "#FECB52"
          ],
          "font": {
           "color": "#2a3f5f"
          },
          "geo": {
           "bgcolor": "white",
           "lakecolor": "white",
           "landcolor": "#E5ECF6",
           "showlakes": true,
           "showland": true,
           "subunitcolor": "white"
          },
          "hoverlabel": {
           "align": "left"
          },
          "hovermode": "closest",
          "mapbox": {
           "style": "light"
          },
          "paper_bgcolor": "white",
          "plot_bgcolor": "#E5ECF6",
          "polar": {
           "angularaxis": {
            "gridcolor": "white",
            "linecolor": "white",
            "ticks": ""
           },
           "bgcolor": "#E5ECF6",
           "radialaxis": {
            "gridcolor": "white",
            "linecolor": "white",
            "ticks": ""
           }
          },
          "scene": {
           "xaxis": {
            "backgroundcolor": "#E5ECF6",
            "gridcolor": "white",
            "gridwidth": 2,
            "linecolor": "white",
            "showbackground": true,
            "ticks": "",
            "zerolinecolor": "white"
           },
           "yaxis": {
            "backgroundcolor": "#E5ECF6",
            "gridcolor": "white",
            "gridwidth": 2,
            "linecolor": "white",
            "showbackground": true,
            "ticks": "",
            "zerolinecolor": "white"
           },
           "zaxis": {
            "backgroundcolor": "#E5ECF6",
            "gridcolor": "white",
            "gridwidth": 2,
            "linecolor": "white",
            "showbackground": true,
            "ticks": "",
            "zerolinecolor": "white"
           }
          },
          "shapedefaults": {
           "line": {
            "color": "#2a3f5f"
           }
          },
          "ternary": {
           "aaxis": {
            "gridcolor": "white",
            "linecolor": "white",
            "ticks": ""
           },
           "baxis": {
            "gridcolor": "white",
            "linecolor": "white",
            "ticks": ""
           },
           "bgcolor": "#E5ECF6",
           "caxis": {
            "gridcolor": "white",
            "linecolor": "white",
            "ticks": ""
           }
          },
          "title": {
           "x": 0.05
          },
          "xaxis": {
           "automargin": true,
           "gridcolor": "white",
           "linecolor": "white",
           "ticks": "",
           "title": {
            "standoff": 15
           },
           "zerolinecolor": "white",
           "zerolinewidth": 2
          },
          "yaxis": {
           "automargin": true,
           "gridcolor": "white",
           "linecolor": "white",
           "ticks": "",
           "title": {
            "standoff": 15
           },
           "zerolinecolor": "white",
           "zerolinewidth": 2
          }
         }
        }
       }
      }
     },
     "metadata": {},
     "output_type": "display_data"
    },
    {
     "data": {
      "application/vnd.plotly.v1+json": {
       "config": {
        "plotlyServerURL": "https://plot.ly"
       },
       "data": [
        {
         "hovertemplate": "bmi=%{x}<br>wc=%{y}<br>whr=%{z}<br>hyper=%{marker.color}<extra></extra>",
         "legendgroup": "",
         "marker": {
          "color": [
           0,
           0,
           0,
           0,
           0,
           1,
           0,
           0,
           1,
           1,
           1,
           0,
           0,
           0,
           0,
           1,
           1,
           0,
           0,
           1,
           0,
           1,
           0,
           0,
           0,
           1,
           1,
           1,
           0,
           0,
           1,
           1,
           0,
           0,
           0,
           0,
           1,
           0,
           0,
           0,
           0,
           1,
           0,
           0,
           0,
           1,
           0,
           0,
           0,
           0,
           0,
           0,
           1,
           0,
           0,
           0,
           0,
           0,
           1,
           0,
           0,
           1,
           0,
           0,
           0,
           0,
           0,
           0,
           0,
           0,
           0,
           0,
           0,
           0,
           0,
           0,
           0,
           1,
           1,
           1,
           0,
           0,
           1,
           0,
           0,
           1,
           1,
           1,
           0,
           0,
           0,
           0,
           0,
           0,
           0,
           0,
           0,
           0,
           0,
           0,
           0,
           1,
           0,
           0,
           0,
           0,
           0,
           0,
           0,
           0,
           0,
           0,
           0,
           0,
           1,
           0,
           0,
           0,
           1,
           0,
           0,
           0,
           0,
           0,
           0,
           0,
           1,
           1,
           0,
           0,
           0,
           0,
           1,
           0,
           0,
           1,
           0,
           0,
           0,
           0,
           1,
           1,
           0,
           0,
           0,
           1,
           0,
           0,
           0,
           0,
           0,
           0,
           1,
           1,
           0,
           1,
           1,
           0,
           1,
           0,
           0,
           1,
           0,
           0,
           1,
           0,
           1,
           0,
           1,
           1,
           1,
           0,
           0,
           0,
           0
          ],
          "coloraxis": "coloraxis",
          "symbol": "circle"
         },
         "mode": "markers",
         "name": "",
         "scene": "scene",
         "showlegend": false,
         "type": "scatter3d",
         "x": [
          27.94,
          18.65,
          27.62,
          24.96,
          25.15,
          22.5,
          25.31,
          25.73,
          25.16,
          25.12,
          25.56,
          27.56,
          19.69,
          17.26,
          26.78,
          19.62,
          26.45,
          21.44,
          27.46,
          29.49,
          23.1,
          19.15,
          28.58,
          24.69,
          23.99,
          25.23,
          26.37,
          25.02,
          22.38,
          27.92,
          29.63,
          26.78,
          23.67,
          21.45,
          23.14,
          22.68,
          22,
          22.62,
          22.49,
          22.28,
          21.31,
          22.86,
          17.32,
          28.28,
          21.86,
          27.84,
          22.75,
          23.93,
          23.44,
          17.09,
          26.34,
          25.36,
          20.41,
          21.9,
          25.21,
          24.87,
          20.55,
          21.73,
          23.83,
          25.44,
          20.45,
          22.76,
          27.82,
          22.6,
          26.2,
          28.23,
          26.91,
          19.82,
          26.72,
          28.28,
          28.3,
          22.3,
          28.26,
          23.02,
          25.17,
          25.1,
          25.15,
          27.04,
          23.16,
          34.42,
          32.99,
          30.71,
          31.83,
          40.4,
          30.79,
          43.6,
          32.82,
          32.11,
          25.35,
          20.73,
          24.54,
          24.66,
          20.61,
          27.17,
          25.06,
          28.52,
          20.64,
          23.32,
          23.11,
          20.51,
          21.03,
          27.48,
          29.64,
          24.82,
          20.73,
          21.43,
          21.59,
          24.57,
          28.2,
          27.13,
          29.8,
          17.67,
          22.1,
          25.62,
          28.93,
          27,
          26.23,
          21.49,
          21.45,
          18.5,
          24.21,
          25.33,
          22.97,
          28.08,
          23.49,
          26.01,
          25.49,
          23.11,
          20.85,
          23.78,
          22.23,
          20.75,
          20.13,
          19.75,
          24.88,
          23.33,
          23.63,
          24.42,
          20.2,
          22.82,
          26.19,
          27,
          19.85,
          19.61,
          28.57,
          17.64,
          22.95,
          23.56,
          24.95,
          20.36,
          26.27,
          26.78,
          21.22,
          25.6,
          27.18,
          25.3,
          19.84,
          22.43,
          17.67,
          22.35,
          32.08,
          33.29,
          30.2,
          37.97,
          32.07,
          37.35,
          35.81,
          33.97,
          30.86,
          24.97,
          25.78,
          22.78,
          22.43,
          21.92,
          23.15
         ],
         "y": [
          95,
          69,
          102,
          86,
          82,
          79,
          92,
          90,
          84,
          84,
          84,
          85,
          77,
          76,
          82,
          73,
          93,
          83,
          97,
          103,
          87,
          68,
          100,
          80,
          79,
          88,
          87,
          65,
          77,
          87,
          93,
          87,
          86,
          76,
          81,
          76,
          87,
          81,
          76,
          73,
          73,
          86,
          69,
          94,
          81,
          98,
          81,
          88,
          78,
          68,
          92,
          79,
          77,
          73,
          80,
          79,
          71,
          73,
          86,
          85,
          76,
          80,
          98,
          83,
          94,
          90,
          99,
          80,
          94,
          96,
          94,
          74,
          100,
          80,
          95,
          83,
          91,
          93,
          82,
          119,
          103,
          103,
          98,
          126,
          103,
          121,
          115,
          97,
          79,
          91,
          83,
          81,
          79,
          92,
          83,
          90,
          79,
          81,
          48,
          69,
          83,
          96,
          92,
          83,
          81,
          75,
          70,
          81,
          94,
          97,
          92,
          75,
          80,
          99,
          95,
          88,
          93,
          80,
          74,
          77,
          85,
          99,
          85,
          80,
          78,
          93,
          86,
          83,
          75,
          85,
          78,
          73,
          77,
          75,
          77,
          81,
          84,
          82,
          88,
          82,
          89,
          84,
          79,
          71,
          96,
          73,
          83,
          92,
          87,
          82,
          91,
          85,
          81,
          91,
          90,
          79,
          81,
          77,
          65,
          80,
          100,
          114,
          93,
          118,
          108,
          104,
          111,
          110,
          103,
          87,
          93,
          87,
          78,
          81,
          84
         ],
         "z": [
          85,
          81,
          95,
          80,
          83,
          81,
          88,
          96,
          85,
          81,
          81,
          80,
          84,
          82,
          79,
          75,
          82,
          86,
          89,
          91,
          84,
          76,
          89,
          76,
          82,
          80,
          82,
          59,
          79,
          81,
          83,
          84,
          89,
          83,
          79,
          78,
          85,
          82,
          78,
          79,
          77,
          85,
          79,
          89,
          76,
          86,
          84,
          90,
          77,
          72,
          88,
          81,
          81,
          78,
          78,
          75,
          84,
          76,
          87,
          83,
          84,
          77,
          88,
          86,
          87,
          82,
          93,
          85,
          89,
          90,
          85,
          78,
          93,
          81,
          90,
          80,
          88,
          89,
          81,
          98,
          88,
          87,
          82,
          97,
          91,
          98,
          94,
          87,
          77,
          114,
          85,
          82,
          82,
          84,
          78,
          91,
          83,
          84,
          49,
          75,
          81,
          85,
          81,
          82,
          80,
          82,
          78,
          72,
          85,
          87,
          85,
          86,
          80,
          90,
          82,
          82,
          82,
          81,
          78,
          86,
          81,
          94,
          83,
          75,
          82,
          86,
          86,
          88,
          85,
          83,
          79,
          78,
          81,
          89,
          75,
          76,
          83,
          75,
          73,
          85,
          86,
          81,
          84,
          79,
          91,
          80,
          81,
          95,
          88,
          79,
          83,
          82,
          81,
          90,
          87,
          80,
          86,
          76,
          74,
          78,
          90,
          95,
          85,
          97,
          92,
          83,
          88,
          90,
          96,
          81,
          88,
          84,
          81,
          78,
          88
         ]
        }
       ],
       "layout": {
        "coloraxis": {
         "colorbar": {
          "title": {
           "text": "hyper"
          }
         },
         "colorscale": [
          [
           0,
           "#0d0887"
          ],
          [
           0.1111111111111111,
           "#46039f"
          ],
          [
           0.2222222222222222,
           "#7201a8"
          ],
          [
           0.3333333333333333,
           "#9c179e"
          ],
          [
           0.4444444444444444,
           "#bd3786"
          ],
          [
           0.5555555555555556,
           "#d8576b"
          ],
          [
           0.6666666666666666,
           "#ed7953"
          ],
          [
           0.7777777777777778,
           "#fb9f3a"
          ],
          [
           0.8888888888888888,
           "#fdca26"
          ],
          [
           1,
           "#f0f921"
          ]
         ]
        },
        "legend": {
         "tracegroupgap": 0
        },
        "margin": {
         "t": 60
        },
        "scene": {
         "domain": {
          "x": [
           0,
           1
          ],
          "y": [
           0,
           1
          ]
         },
         "xaxis": {
          "title": {
           "text": "bmi"
          }
         },
         "yaxis": {
          "title": {
           "text": "wc"
          }
         },
         "zaxis": {
          "title": {
           "text": "whr"
          }
         }
        },
        "template": {
         "data": {
          "bar": [
           {
            "error_x": {
             "color": "#2a3f5f"
            },
            "error_y": {
             "color": "#2a3f5f"
            },
            "marker": {
             "line": {
              "color": "#E5ECF6",
              "width": 0.5
             },
             "pattern": {
              "fillmode": "overlay",
              "size": 10,
              "solidity": 0.2
             }
            },
            "type": "bar"
           }
          ],
          "barpolar": [
           {
            "marker": {
             "line": {
              "color": "#E5ECF6",
              "width": 0.5
             },
             "pattern": {
              "fillmode": "overlay",
              "size": 10,
              "solidity": 0.2
             }
            },
            "type": "barpolar"
           }
          ],
          "carpet": [
           {
            "aaxis": {
             "endlinecolor": "#2a3f5f",
             "gridcolor": "white",
             "linecolor": "white",
             "minorgridcolor": "white",
             "startlinecolor": "#2a3f5f"
            },
            "baxis": {
             "endlinecolor": "#2a3f5f",
             "gridcolor": "white",
             "linecolor": "white",
             "minorgridcolor": "white",
             "startlinecolor": "#2a3f5f"
            },
            "type": "carpet"
           }
          ],
          "choropleth": [
           {
            "colorbar": {
             "outlinewidth": 0,
             "ticks": ""
            },
            "type": "choropleth"
           }
          ],
          "contour": [
           {
            "colorbar": {
             "outlinewidth": 0,
             "ticks": ""
            },
            "colorscale": [
             [
              0,
              "#0d0887"
             ],
             [
              0.1111111111111111,
              "#46039f"
             ],
             [
              0.2222222222222222,
              "#7201a8"
             ],
             [
              0.3333333333333333,
              "#9c179e"
             ],
             [
              0.4444444444444444,
              "#bd3786"
             ],
             [
              0.5555555555555556,
              "#d8576b"
             ],
             [
              0.6666666666666666,
              "#ed7953"
             ],
             [
              0.7777777777777778,
              "#fb9f3a"
             ],
             [
              0.8888888888888888,
              "#fdca26"
             ],
             [
              1,
              "#f0f921"
             ]
            ],
            "type": "contour"
           }
          ],
          "contourcarpet": [
           {
            "colorbar": {
             "outlinewidth": 0,
             "ticks": ""
            },
            "type": "contourcarpet"
           }
          ],
          "heatmap": [
           {
            "colorbar": {
             "outlinewidth": 0,
             "ticks": ""
            },
            "colorscale": [
             [
              0,
              "#0d0887"
             ],
             [
              0.1111111111111111,
              "#46039f"
             ],
             [
              0.2222222222222222,
              "#7201a8"
             ],
             [
              0.3333333333333333,
              "#9c179e"
             ],
             [
              0.4444444444444444,
              "#bd3786"
             ],
             [
              0.5555555555555556,
              "#d8576b"
             ],
             [
              0.6666666666666666,
              "#ed7953"
             ],
             [
              0.7777777777777778,
              "#fb9f3a"
             ],
             [
              0.8888888888888888,
              "#fdca26"
             ],
             [
              1,
              "#f0f921"
             ]
            ],
            "type": "heatmap"
           }
          ],
          "heatmapgl": [
           {
            "colorbar": {
             "outlinewidth": 0,
             "ticks": ""
            },
            "colorscale": [
             [
              0,
              "#0d0887"
             ],
             [
              0.1111111111111111,
              "#46039f"
             ],
             [
              0.2222222222222222,
              "#7201a8"
             ],
             [
              0.3333333333333333,
              "#9c179e"
             ],
             [
              0.4444444444444444,
              "#bd3786"
             ],
             [
              0.5555555555555556,
              "#d8576b"
             ],
             [
              0.6666666666666666,
              "#ed7953"
             ],
             [
              0.7777777777777778,
              "#fb9f3a"
             ],
             [
              0.8888888888888888,
              "#fdca26"
             ],
             [
              1,
              "#f0f921"
             ]
            ],
            "type": "heatmapgl"
           }
          ],
          "histogram": [
           {
            "marker": {
             "pattern": {
              "fillmode": "overlay",
              "size": 10,
              "solidity": 0.2
             }
            },
            "type": "histogram"
           }
          ],
          "histogram2d": [
           {
            "colorbar": {
             "outlinewidth": 0,
             "ticks": ""
            },
            "colorscale": [
             [
              0,
              "#0d0887"
             ],
             [
              0.1111111111111111,
              "#46039f"
             ],
             [
              0.2222222222222222,
              "#7201a8"
             ],
             [
              0.3333333333333333,
              "#9c179e"
             ],
             [
              0.4444444444444444,
              "#bd3786"
             ],
             [
              0.5555555555555556,
              "#d8576b"
             ],
             [
              0.6666666666666666,
              "#ed7953"
             ],
             [
              0.7777777777777778,
              "#fb9f3a"
             ],
             [
              0.8888888888888888,
              "#fdca26"
             ],
             [
              1,
              "#f0f921"
             ]
            ],
            "type": "histogram2d"
           }
          ],
          "histogram2dcontour": [
           {
            "colorbar": {
             "outlinewidth": 0,
             "ticks": ""
            },
            "colorscale": [
             [
              0,
              "#0d0887"
             ],
             [
              0.1111111111111111,
              "#46039f"
             ],
             [
              0.2222222222222222,
              "#7201a8"
             ],
             [
              0.3333333333333333,
              "#9c179e"
             ],
             [
              0.4444444444444444,
              "#bd3786"
             ],
             [
              0.5555555555555556,
              "#d8576b"
             ],
             [
              0.6666666666666666,
              "#ed7953"
             ],
             [
              0.7777777777777778,
              "#fb9f3a"
             ],
             [
              0.8888888888888888,
              "#fdca26"
             ],
             [
              1,
              "#f0f921"
             ]
            ],
            "type": "histogram2dcontour"
           }
          ],
          "mesh3d": [
           {
            "colorbar": {
             "outlinewidth": 0,
             "ticks": ""
            },
            "type": "mesh3d"
           }
          ],
          "parcoords": [
           {
            "line": {
             "colorbar": {
              "outlinewidth": 0,
              "ticks": ""
             }
            },
            "type": "parcoords"
           }
          ],
          "pie": [
           {
            "automargin": true,
            "type": "pie"
           }
          ],
          "scatter": [
           {
            "fillpattern": {
             "fillmode": "overlay",
             "size": 10,
             "solidity": 0.2
            },
            "type": "scatter"
           }
          ],
          "scatter3d": [
           {
            "line": {
             "colorbar": {
              "outlinewidth": 0,
              "ticks": ""
             }
            },
            "marker": {
             "colorbar": {
              "outlinewidth": 0,
              "ticks": ""
             }
            },
            "type": "scatter3d"
           }
          ],
          "scattercarpet": [
           {
            "marker": {
             "colorbar": {
              "outlinewidth": 0,
              "ticks": ""
             }
            },
            "type": "scattercarpet"
           }
          ],
          "scattergeo": [
           {
            "marker": {
             "colorbar": {
              "outlinewidth": 0,
              "ticks": ""
             }
            },
            "type": "scattergeo"
           }
          ],
          "scattergl": [
           {
            "marker": {
             "colorbar": {
              "outlinewidth": 0,
              "ticks": ""
             }
            },
            "type": "scattergl"
           }
          ],
          "scattermapbox": [
           {
            "marker": {
             "colorbar": {
              "outlinewidth": 0,
              "ticks": ""
             }
            },
            "type": "scattermapbox"
           }
          ],
          "scatterpolar": [
           {
            "marker": {
             "colorbar": {
              "outlinewidth": 0,
              "ticks": ""
             }
            },
            "type": "scatterpolar"
           }
          ],
          "scatterpolargl": [
           {
            "marker": {
             "colorbar": {
              "outlinewidth": 0,
              "ticks": ""
             }
            },
            "type": "scatterpolargl"
           }
          ],
          "scatterternary": [
           {
            "marker": {
             "colorbar": {
              "outlinewidth": 0,
              "ticks": ""
             }
            },
            "type": "scatterternary"
           }
          ],
          "surface": [
           {
            "colorbar": {
             "outlinewidth": 0,
             "ticks": ""
            },
            "colorscale": [
             [
              0,
              "#0d0887"
             ],
             [
              0.1111111111111111,
              "#46039f"
             ],
             [
              0.2222222222222222,
              "#7201a8"
             ],
             [
              0.3333333333333333,
              "#9c179e"
             ],
             [
              0.4444444444444444,
              "#bd3786"
             ],
             [
              0.5555555555555556,
              "#d8576b"
             ],
             [
              0.6666666666666666,
              "#ed7953"
             ],
             [
              0.7777777777777778,
              "#fb9f3a"
             ],
             [
              0.8888888888888888,
              "#fdca26"
             ],
             [
              1,
              "#f0f921"
             ]
            ],
            "type": "surface"
           }
          ],
          "table": [
           {
            "cells": {
             "fill": {
              "color": "#EBF0F8"
             },
             "line": {
              "color": "white"
             }
            },
            "header": {
             "fill": {
              "color": "#C8D4E3"
             },
             "line": {
              "color": "white"
             }
            },
            "type": "table"
           }
          ]
         },
         "layout": {
          "annotationdefaults": {
           "arrowcolor": "#2a3f5f",
           "arrowhead": 0,
           "arrowwidth": 1
          },
          "autotypenumbers": "strict",
          "coloraxis": {
           "colorbar": {
            "outlinewidth": 0,
            "ticks": ""
           }
          },
          "colorscale": {
           "diverging": [
            [
             0,
             "#8e0152"
            ],
            [
             0.1,
             "#c51b7d"
            ],
            [
             0.2,
             "#de77ae"
            ],
            [
             0.3,
             "#f1b6da"
            ],
            [
             0.4,
             "#fde0ef"
            ],
            [
             0.5,
             "#f7f7f7"
            ],
            [
             0.6,
             "#e6f5d0"
            ],
            [
             0.7,
             "#b8e186"
            ],
            [
             0.8,
             "#7fbc41"
            ],
            [
             0.9,
             "#4d9221"
            ],
            [
             1,
             "#276419"
            ]
           ],
           "sequential": [
            [
             0,
             "#0d0887"
            ],
            [
             0.1111111111111111,
             "#46039f"
            ],
            [
             0.2222222222222222,
             "#7201a8"
            ],
            [
             0.3333333333333333,
             "#9c179e"
            ],
            [
             0.4444444444444444,
             "#bd3786"
            ],
            [
             0.5555555555555556,
             "#d8576b"
            ],
            [
             0.6666666666666666,
             "#ed7953"
            ],
            [
             0.7777777777777778,
             "#fb9f3a"
            ],
            [
             0.8888888888888888,
             "#fdca26"
            ],
            [
             1,
             "#f0f921"
            ]
           ],
           "sequentialminus": [
            [
             0,
             "#0d0887"
            ],
            [
             0.1111111111111111,
             "#46039f"
            ],
            [
             0.2222222222222222,
             "#7201a8"
            ],
            [
             0.3333333333333333,
             "#9c179e"
            ],
            [
             0.4444444444444444,
             "#bd3786"
            ],
            [
             0.5555555555555556,
             "#d8576b"
            ],
            [
             0.6666666666666666,
             "#ed7953"
            ],
            [
             0.7777777777777778,
             "#fb9f3a"
            ],
            [
             0.8888888888888888,
             "#fdca26"
            ],
            [
             1,
             "#f0f921"
            ]
           ]
          },
          "colorway": [
           "#636efa",
           "#EF553B",
           "#00cc96",
           "#ab63fa",
           "#FFA15A",
           "#19d3f3",
           "#FF6692",
           "#B6E880",
           "#FF97FF",
           "#FECB52"
          ],
          "font": {
           "color": "#2a3f5f"
          },
          "geo": {
           "bgcolor": "white",
           "lakecolor": "white",
           "landcolor": "#E5ECF6",
           "showlakes": true,
           "showland": true,
           "subunitcolor": "white"
          },
          "hoverlabel": {
           "align": "left"
          },
          "hovermode": "closest",
          "mapbox": {
           "style": "light"
          },
          "paper_bgcolor": "white",
          "plot_bgcolor": "#E5ECF6",
          "polar": {
           "angularaxis": {
            "gridcolor": "white",
            "linecolor": "white",
            "ticks": ""
           },
           "bgcolor": "#E5ECF6",
           "radialaxis": {
            "gridcolor": "white",
            "linecolor": "white",
            "ticks": ""
           }
          },
          "scene": {
           "xaxis": {
            "backgroundcolor": "#E5ECF6",
            "gridcolor": "white",
            "gridwidth": 2,
            "linecolor": "white",
            "showbackground": true,
            "ticks": "",
            "zerolinecolor": "white"
           },
           "yaxis": {
            "backgroundcolor": "#E5ECF6",
            "gridcolor": "white",
            "gridwidth": 2,
            "linecolor": "white",
            "showbackground": true,
            "ticks": "",
            "zerolinecolor": "white"
           },
           "zaxis": {
            "backgroundcolor": "#E5ECF6",
            "gridcolor": "white",
            "gridwidth": 2,
            "linecolor": "white",
            "showbackground": true,
            "ticks": "",
            "zerolinecolor": "white"
           }
          },
          "shapedefaults": {
           "line": {
            "color": "#2a3f5f"
           }
          },
          "ternary": {
           "aaxis": {
            "gridcolor": "white",
            "linecolor": "white",
            "ticks": ""
           },
           "baxis": {
            "gridcolor": "white",
            "linecolor": "white",
            "ticks": ""
           },
           "bgcolor": "#E5ECF6",
           "caxis": {
            "gridcolor": "white",
            "linecolor": "white",
            "ticks": ""
           }
          },
          "title": {
           "x": 0.05
          },
          "xaxis": {
           "automargin": true,
           "gridcolor": "white",
           "linecolor": "white",
           "ticks": "",
           "title": {
            "standoff": 15
           },
           "zerolinecolor": "white",
           "zerolinewidth": 2
          },
          "yaxis": {
           "automargin": true,
           "gridcolor": "white",
           "linecolor": "white",
           "ticks": "",
           "title": {
            "standoff": 15
           },
           "zerolinecolor": "white",
           "zerolinewidth": 2
          }
         }
        }
       }
      }
     },
     "metadata": {},
     "output_type": "display_data"
    },
    {
     "data": {
      "application/vnd.plotly.v1+json": {
       "config": {
        "plotlyServerURL": "https://plot.ly"
       },
       "data": [
        {
         "hovertemplate": "bmi=%{x}<br>hc=%{y}<br>whr=%{z}<br>hyper=%{marker.color}<extra></extra>",
         "legendgroup": "",
         "marker": {
          "color": [
           0,
           0,
           0,
           0,
           0,
           1,
           0,
           0,
           1,
           1,
           1,
           0,
           0,
           0,
           0,
           1,
           1,
           0,
           0,
           1,
           0,
           1,
           0,
           0,
           0,
           1,
           1,
           1,
           0,
           0,
           1,
           1,
           0,
           0,
           0,
           0,
           1,
           0,
           0,
           0,
           0,
           1,
           0,
           0,
           0,
           1,
           0,
           0,
           0,
           0,
           0,
           0,
           1,
           0,
           0,
           0,
           0,
           0,
           1,
           0,
           0,
           1,
           0,
           0,
           0,
           0,
           0,
           0,
           0,
           0,
           0,
           0,
           0,
           0,
           0,
           0,
           0,
           1,
           1,
           1,
           0,
           0,
           1,
           0,
           0,
           1,
           1,
           1,
           0,
           0,
           0,
           0,
           0,
           0,
           0,
           0,
           0,
           0,
           0,
           0,
           0,
           1,
           0,
           0,
           0,
           0,
           0,
           0,
           0,
           0,
           0,
           0,
           0,
           0,
           1,
           0,
           0,
           0,
           1,
           0,
           0,
           0,
           0,
           0,
           0,
           0,
           1,
           1,
           0,
           0,
           0,
           0,
           1,
           0,
           0,
           1,
           0,
           0,
           0,
           0,
           1,
           1,
           0,
           0,
           0,
           1,
           0,
           0,
           0,
           0,
           0,
           0,
           1,
           1,
           0,
           1,
           1,
           0,
           1,
           0,
           0,
           1,
           0,
           0,
           1,
           0,
           1,
           0,
           1,
           1,
           1,
           0,
           0,
           0,
           0
          ],
          "coloraxis": "coloraxis",
          "symbol": "circle"
         },
         "mode": "markers",
         "name": "",
         "scene": "scene",
         "showlegend": false,
         "type": "scatter3d",
         "x": [
          27.94,
          18.65,
          27.62,
          24.96,
          25.15,
          22.5,
          25.31,
          25.73,
          25.16,
          25.12,
          25.56,
          27.56,
          19.69,
          17.26,
          26.78,
          19.62,
          26.45,
          21.44,
          27.46,
          29.49,
          23.1,
          19.15,
          28.58,
          24.69,
          23.99,
          25.23,
          26.37,
          25.02,
          22.38,
          27.92,
          29.63,
          26.78,
          23.67,
          21.45,
          23.14,
          22.68,
          22,
          22.62,
          22.49,
          22.28,
          21.31,
          22.86,
          17.32,
          28.28,
          21.86,
          27.84,
          22.75,
          23.93,
          23.44,
          17.09,
          26.34,
          25.36,
          20.41,
          21.9,
          25.21,
          24.87,
          20.55,
          21.73,
          23.83,
          25.44,
          20.45,
          22.76,
          27.82,
          22.6,
          26.2,
          28.23,
          26.91,
          19.82,
          26.72,
          28.28,
          28.3,
          22.3,
          28.26,
          23.02,
          25.17,
          25.1,
          25.15,
          27.04,
          23.16,
          34.42,
          32.99,
          30.71,
          31.83,
          40.4,
          30.79,
          43.6,
          32.82,
          32.11,
          25.35,
          20.73,
          24.54,
          24.66,
          20.61,
          27.17,
          25.06,
          28.52,
          20.64,
          23.32,
          23.11,
          20.51,
          21.03,
          27.48,
          29.64,
          24.82,
          20.73,
          21.43,
          21.59,
          24.57,
          28.2,
          27.13,
          29.8,
          17.67,
          22.1,
          25.62,
          28.93,
          27,
          26.23,
          21.49,
          21.45,
          18.5,
          24.21,
          25.33,
          22.97,
          28.08,
          23.49,
          26.01,
          25.49,
          23.11,
          20.85,
          23.78,
          22.23,
          20.75,
          20.13,
          19.75,
          24.88,
          23.33,
          23.63,
          24.42,
          20.2,
          22.82,
          26.19,
          27,
          19.85,
          19.61,
          28.57,
          17.64,
          22.95,
          23.56,
          24.95,
          20.36,
          26.27,
          26.78,
          21.22,
          25.6,
          27.18,
          25.3,
          19.84,
          22.43,
          17.67,
          22.35,
          32.08,
          33.29,
          30.2,
          37.97,
          32.07,
          37.35,
          35.81,
          33.97,
          30.86,
          24.97,
          25.78,
          22.78,
          22.43,
          21.92,
          23.15
         ],
         "y": [
          112,
          85,
          107,
          107,
          99,
          97,
          104,
          94,
          99,
          104,
          104,
          106,
          92,
          93,
          104,
          97,
          113,
          97,
          109,
          113,
          103,
          89,
          112,
          105,
          96,
          110,
          106,
          111,
          97,
          107,
          112,
          103,
          97,
          92,
          103,
          98,
          102,
          99,
          98,
          92,
          95,
          101,
          87,
          106,
          107,
          114,
          97,
          98,
          101,
          95,
          104,
          97,
          95,
          93,
          102,
          106,
          85,
          96,
          99,
          102,
          91,
          104,
          112,
          96,
          108,
          110,
          106,
          94,
          106,
          107,
          110,
          95,
          108,
          99,
          106,
          104,
          103,
          105,
          101,
          121,
          117,
          119,
          120,
          130,
          113,
          123,
          122,
          112,
          102,
          80,
          98,
          99,
          96,
          110,
          106,
          99,
          95,
          97,
          98,
          92,
          102,
          113,
          114,
          101,
          101,
          91,
          90,
          112,
          110,
          112,
          108,
          87,
          100,
          110,
          116,
          107,
          114,
          99,
          95,
          90,
          105,
          105,
          103,
          106,
          95,
          108,
          100,
          94,
          88,
          102,
          99,
          93,
          95,
          84,
          102,
          107,
          101,
          110,
          120,
          97,
          103,
          104,
          94,
          90,
          105,
          91,
          103,
          97,
          99,
          104,
          109,
          104,
          100,
          101,
          103,
          99,
          94,
          101,
          88,
          103,
          111,
          120,
          110,
          122,
          117,
          125,
          126,
          122,
          107,
          107,
          106,
          104,
          96,
          104,
          96
         ],
         "z": [
          85,
          81,
          95,
          80,
          83,
          81,
          88,
          96,
          85,
          81,
          81,
          80,
          84,
          82,
          79,
          75,
          82,
          86,
          89,
          91,
          84,
          76,
          89,
          76,
          82,
          80,
          82,
          59,
          79,
          81,
          83,
          84,
          89,
          83,
          79,
          78,
          85,
          82,
          78,
          79,
          77,
          85,
          79,
          89,
          76,
          86,
          84,
          90,
          77,
          72,
          88,
          81,
          81,
          78,
          78,
          75,
          84,
          76,
          87,
          83,
          84,
          77,
          88,
          86,
          87,
          82,
          93,
          85,
          89,
          90,
          85,
          78,
          93,
          81,
          90,
          80,
          88,
          89,
          81,
          98,
          88,
          87,
          82,
          97,
          91,
          98,
          94,
          87,
          77,
          114,
          85,
          82,
          82,
          84,
          78,
          91,
          83,
          84,
          49,
          75,
          81,
          85,
          81,
          82,
          80,
          82,
          78,
          72,
          85,
          87,
          85,
          86,
          80,
          90,
          82,
          82,
          82,
          81,
          78,
          86,
          81,
          94,
          83,
          75,
          82,
          86,
          86,
          88,
          85,
          83,
          79,
          78,
          81,
          89,
          75,
          76,
          83,
          75,
          73,
          85,
          86,
          81,
          84,
          79,
          91,
          80,
          81,
          95,
          88,
          79,
          83,
          82,
          81,
          90,
          87,
          80,
          86,
          76,
          74,
          78,
          90,
          95,
          85,
          97,
          92,
          83,
          88,
          90,
          96,
          81,
          88,
          84,
          81,
          78,
          88
         ]
        }
       ],
       "layout": {
        "coloraxis": {
         "colorbar": {
          "title": {
           "text": "hyper"
          }
         },
         "colorscale": [
          [
           0,
           "#0d0887"
          ],
          [
           0.1111111111111111,
           "#46039f"
          ],
          [
           0.2222222222222222,
           "#7201a8"
          ],
          [
           0.3333333333333333,
           "#9c179e"
          ],
          [
           0.4444444444444444,
           "#bd3786"
          ],
          [
           0.5555555555555556,
           "#d8576b"
          ],
          [
           0.6666666666666666,
           "#ed7953"
          ],
          [
           0.7777777777777778,
           "#fb9f3a"
          ],
          [
           0.8888888888888888,
           "#fdca26"
          ],
          [
           1,
           "#f0f921"
          ]
         ]
        },
        "legend": {
         "tracegroupgap": 0
        },
        "margin": {
         "t": 60
        },
        "scene": {
         "domain": {
          "x": [
           0,
           1
          ],
          "y": [
           0,
           1
          ]
         },
         "xaxis": {
          "title": {
           "text": "bmi"
          }
         },
         "yaxis": {
          "title": {
           "text": "hc"
          }
         },
         "zaxis": {
          "title": {
           "text": "whr"
          }
         }
        },
        "template": {
         "data": {
          "bar": [
           {
            "error_x": {
             "color": "#2a3f5f"
            },
            "error_y": {
             "color": "#2a3f5f"
            },
            "marker": {
             "line": {
              "color": "#E5ECF6",
              "width": 0.5
             },
             "pattern": {
              "fillmode": "overlay",
              "size": 10,
              "solidity": 0.2
             }
            },
            "type": "bar"
           }
          ],
          "barpolar": [
           {
            "marker": {
             "line": {
              "color": "#E5ECF6",
              "width": 0.5
             },
             "pattern": {
              "fillmode": "overlay",
              "size": 10,
              "solidity": 0.2
             }
            },
            "type": "barpolar"
           }
          ],
          "carpet": [
           {
            "aaxis": {
             "endlinecolor": "#2a3f5f",
             "gridcolor": "white",
             "linecolor": "white",
             "minorgridcolor": "white",
             "startlinecolor": "#2a3f5f"
            },
            "baxis": {
             "endlinecolor": "#2a3f5f",
             "gridcolor": "white",
             "linecolor": "white",
             "minorgridcolor": "white",
             "startlinecolor": "#2a3f5f"
            },
            "type": "carpet"
           }
          ],
          "choropleth": [
           {
            "colorbar": {
             "outlinewidth": 0,
             "ticks": ""
            },
            "type": "choropleth"
           }
          ],
          "contour": [
           {
            "colorbar": {
             "outlinewidth": 0,
             "ticks": ""
            },
            "colorscale": [
             [
              0,
              "#0d0887"
             ],
             [
              0.1111111111111111,
              "#46039f"
             ],
             [
              0.2222222222222222,
              "#7201a8"
             ],
             [
              0.3333333333333333,
              "#9c179e"
             ],
             [
              0.4444444444444444,
              "#bd3786"
             ],
             [
              0.5555555555555556,
              "#d8576b"
             ],
             [
              0.6666666666666666,
              "#ed7953"
             ],
             [
              0.7777777777777778,
              "#fb9f3a"
             ],
             [
              0.8888888888888888,
              "#fdca26"
             ],
             [
              1,
              "#f0f921"
             ]
            ],
            "type": "contour"
           }
          ],
          "contourcarpet": [
           {
            "colorbar": {
             "outlinewidth": 0,
             "ticks": ""
            },
            "type": "contourcarpet"
           }
          ],
          "heatmap": [
           {
            "colorbar": {
             "outlinewidth": 0,
             "ticks": ""
            },
            "colorscale": [
             [
              0,
              "#0d0887"
             ],
             [
              0.1111111111111111,
              "#46039f"
             ],
             [
              0.2222222222222222,
              "#7201a8"
             ],
             [
              0.3333333333333333,
              "#9c179e"
             ],
             [
              0.4444444444444444,
              "#bd3786"
             ],
             [
              0.5555555555555556,
              "#d8576b"
             ],
             [
              0.6666666666666666,
              "#ed7953"
             ],
             [
              0.7777777777777778,
              "#fb9f3a"
             ],
             [
              0.8888888888888888,
              "#fdca26"
             ],
             [
              1,
              "#f0f921"
             ]
            ],
            "type": "heatmap"
           }
          ],
          "heatmapgl": [
           {
            "colorbar": {
             "outlinewidth": 0,
             "ticks": ""
            },
            "colorscale": [
             [
              0,
              "#0d0887"
             ],
             [
              0.1111111111111111,
              "#46039f"
             ],
             [
              0.2222222222222222,
              "#7201a8"
             ],
             [
              0.3333333333333333,
              "#9c179e"
             ],
             [
              0.4444444444444444,
              "#bd3786"
             ],
             [
              0.5555555555555556,
              "#d8576b"
             ],
             [
              0.6666666666666666,
              "#ed7953"
             ],
             [
              0.7777777777777778,
              "#fb9f3a"
             ],
             [
              0.8888888888888888,
              "#fdca26"
             ],
             [
              1,
              "#f0f921"
             ]
            ],
            "type": "heatmapgl"
           }
          ],
          "histogram": [
           {
            "marker": {
             "pattern": {
              "fillmode": "overlay",
              "size": 10,
              "solidity": 0.2
             }
            },
            "type": "histogram"
           }
          ],
          "histogram2d": [
           {
            "colorbar": {
             "outlinewidth": 0,
             "ticks": ""
            },
            "colorscale": [
             [
              0,
              "#0d0887"
             ],
             [
              0.1111111111111111,
              "#46039f"
             ],
             [
              0.2222222222222222,
              "#7201a8"
             ],
             [
              0.3333333333333333,
              "#9c179e"
             ],
             [
              0.4444444444444444,
              "#bd3786"
             ],
             [
              0.5555555555555556,
              "#d8576b"
             ],
             [
              0.6666666666666666,
              "#ed7953"
             ],
             [
              0.7777777777777778,
              "#fb9f3a"
             ],
             [
              0.8888888888888888,
              "#fdca26"
             ],
             [
              1,
              "#f0f921"
             ]
            ],
            "type": "histogram2d"
           }
          ],
          "histogram2dcontour": [
           {
            "colorbar": {
             "outlinewidth": 0,
             "ticks": ""
            },
            "colorscale": [
             [
              0,
              "#0d0887"
             ],
             [
              0.1111111111111111,
              "#46039f"
             ],
             [
              0.2222222222222222,
              "#7201a8"
             ],
             [
              0.3333333333333333,
              "#9c179e"
             ],
             [
              0.4444444444444444,
              "#bd3786"
             ],
             [
              0.5555555555555556,
              "#d8576b"
             ],
             [
              0.6666666666666666,
              "#ed7953"
             ],
             [
              0.7777777777777778,
              "#fb9f3a"
             ],
             [
              0.8888888888888888,
              "#fdca26"
             ],
             [
              1,
              "#f0f921"
             ]
            ],
            "type": "histogram2dcontour"
           }
          ],
          "mesh3d": [
           {
            "colorbar": {
             "outlinewidth": 0,
             "ticks": ""
            },
            "type": "mesh3d"
           }
          ],
          "parcoords": [
           {
            "line": {
             "colorbar": {
              "outlinewidth": 0,
              "ticks": ""
             }
            },
            "type": "parcoords"
           }
          ],
          "pie": [
           {
            "automargin": true,
            "type": "pie"
           }
          ],
          "scatter": [
           {
            "fillpattern": {
             "fillmode": "overlay",
             "size": 10,
             "solidity": 0.2
            },
            "type": "scatter"
           }
          ],
          "scatter3d": [
           {
            "line": {
             "colorbar": {
              "outlinewidth": 0,
              "ticks": ""
             }
            },
            "marker": {
             "colorbar": {
              "outlinewidth": 0,
              "ticks": ""
             }
            },
            "type": "scatter3d"
           }
          ],
          "scattercarpet": [
           {
            "marker": {
             "colorbar": {
              "outlinewidth": 0,
              "ticks": ""
             }
            },
            "type": "scattercarpet"
           }
          ],
          "scattergeo": [
           {
            "marker": {
             "colorbar": {
              "outlinewidth": 0,
              "ticks": ""
             }
            },
            "type": "scattergeo"
           }
          ],
          "scattergl": [
           {
            "marker": {
             "colorbar": {
              "outlinewidth": 0,
              "ticks": ""
             }
            },
            "type": "scattergl"
           }
          ],
          "scattermapbox": [
           {
            "marker": {
             "colorbar": {
              "outlinewidth": 0,
              "ticks": ""
             }
            },
            "type": "scattermapbox"
           }
          ],
          "scatterpolar": [
           {
            "marker": {
             "colorbar": {
              "outlinewidth": 0,
              "ticks": ""
             }
            },
            "type": "scatterpolar"
           }
          ],
          "scatterpolargl": [
           {
            "marker": {
             "colorbar": {
              "outlinewidth": 0,
              "ticks": ""
             }
            },
            "type": "scatterpolargl"
           }
          ],
          "scatterternary": [
           {
            "marker": {
             "colorbar": {
              "outlinewidth": 0,
              "ticks": ""
             }
            },
            "type": "scatterternary"
           }
          ],
          "surface": [
           {
            "colorbar": {
             "outlinewidth": 0,
             "ticks": ""
            },
            "colorscale": [
             [
              0,
              "#0d0887"
             ],
             [
              0.1111111111111111,
              "#46039f"
             ],
             [
              0.2222222222222222,
              "#7201a8"
             ],
             [
              0.3333333333333333,
              "#9c179e"
             ],
             [
              0.4444444444444444,
              "#bd3786"
             ],
             [
              0.5555555555555556,
              "#d8576b"
             ],
             [
              0.6666666666666666,
              "#ed7953"
             ],
             [
              0.7777777777777778,
              "#fb9f3a"
             ],
             [
              0.8888888888888888,
              "#fdca26"
             ],
             [
              1,
              "#f0f921"
             ]
            ],
            "type": "surface"
           }
          ],
          "table": [
           {
            "cells": {
             "fill": {
              "color": "#EBF0F8"
             },
             "line": {
              "color": "white"
             }
            },
            "header": {
             "fill": {
              "color": "#C8D4E3"
             },
             "line": {
              "color": "white"
             }
            },
            "type": "table"
           }
          ]
         },
         "layout": {
          "annotationdefaults": {
           "arrowcolor": "#2a3f5f",
           "arrowhead": 0,
           "arrowwidth": 1
          },
          "autotypenumbers": "strict",
          "coloraxis": {
           "colorbar": {
            "outlinewidth": 0,
            "ticks": ""
           }
          },
          "colorscale": {
           "diverging": [
            [
             0,
             "#8e0152"
            ],
            [
             0.1,
             "#c51b7d"
            ],
            [
             0.2,
             "#de77ae"
            ],
            [
             0.3,
             "#f1b6da"
            ],
            [
             0.4,
             "#fde0ef"
            ],
            [
             0.5,
             "#f7f7f7"
            ],
            [
             0.6,
             "#e6f5d0"
            ],
            [
             0.7,
             "#b8e186"
            ],
            [
             0.8,
             "#7fbc41"
            ],
            [
             0.9,
             "#4d9221"
            ],
            [
             1,
             "#276419"
            ]
           ],
           "sequential": [
            [
             0,
             "#0d0887"
            ],
            [
             0.1111111111111111,
             "#46039f"
            ],
            [
             0.2222222222222222,
             "#7201a8"
            ],
            [
             0.3333333333333333,
             "#9c179e"
            ],
            [
             0.4444444444444444,
             "#bd3786"
            ],
            [
             0.5555555555555556,
             "#d8576b"
            ],
            [
             0.6666666666666666,
             "#ed7953"
            ],
            [
             0.7777777777777778,
             "#fb9f3a"
            ],
            [
             0.8888888888888888,
             "#fdca26"
            ],
            [
             1,
             "#f0f921"
            ]
           ],
           "sequentialminus": [
            [
             0,
             "#0d0887"
            ],
            [
             0.1111111111111111,
             "#46039f"
            ],
            [
             0.2222222222222222,
             "#7201a8"
            ],
            [
             0.3333333333333333,
             "#9c179e"
            ],
            [
             0.4444444444444444,
             "#bd3786"
            ],
            [
             0.5555555555555556,
             "#d8576b"
            ],
            [
             0.6666666666666666,
             "#ed7953"
            ],
            [
             0.7777777777777778,
             "#fb9f3a"
            ],
            [
             0.8888888888888888,
             "#fdca26"
            ],
            [
             1,
             "#f0f921"
            ]
           ]
          },
          "colorway": [
           "#636efa",
           "#EF553B",
           "#00cc96",
           "#ab63fa",
           "#FFA15A",
           "#19d3f3",
           "#FF6692",
           "#B6E880",
           "#FF97FF",
           "#FECB52"
          ],
          "font": {
           "color": "#2a3f5f"
          },
          "geo": {
           "bgcolor": "white",
           "lakecolor": "white",
           "landcolor": "#E5ECF6",
           "showlakes": true,
           "showland": true,
           "subunitcolor": "white"
          },
          "hoverlabel": {
           "align": "left"
          },
          "hovermode": "closest",
          "mapbox": {
           "style": "light"
          },
          "paper_bgcolor": "white",
          "plot_bgcolor": "#E5ECF6",
          "polar": {
           "angularaxis": {
            "gridcolor": "white",
            "linecolor": "white",
            "ticks": ""
           },
           "bgcolor": "#E5ECF6",
           "radialaxis": {
            "gridcolor": "white",
            "linecolor": "white",
            "ticks": ""
           }
          },
          "scene": {
           "xaxis": {
            "backgroundcolor": "#E5ECF6",
            "gridcolor": "white",
            "gridwidth": 2,
            "linecolor": "white",
            "showbackground": true,
            "ticks": "",
            "zerolinecolor": "white"
           },
           "yaxis": {
            "backgroundcolor": "#E5ECF6",
            "gridcolor": "white",
            "gridwidth": 2,
            "linecolor": "white",
            "showbackground": true,
            "ticks": "",
            "zerolinecolor": "white"
           },
           "zaxis": {
            "backgroundcolor": "#E5ECF6",
            "gridcolor": "white",
            "gridwidth": 2,
            "linecolor": "white",
            "showbackground": true,
            "ticks": "",
            "zerolinecolor": "white"
           }
          },
          "shapedefaults": {
           "line": {
            "color": "#2a3f5f"
           }
          },
          "ternary": {
           "aaxis": {
            "gridcolor": "white",
            "linecolor": "white",
            "ticks": ""
           },
           "baxis": {
            "gridcolor": "white",
            "linecolor": "white",
            "ticks": ""
           },
           "bgcolor": "#E5ECF6",
           "caxis": {
            "gridcolor": "white",
            "linecolor": "white",
            "ticks": ""
           }
          },
          "title": {
           "x": 0.05
          },
          "xaxis": {
           "automargin": true,
           "gridcolor": "white",
           "linecolor": "white",
           "ticks": "",
           "title": {
            "standoff": 15
           },
           "zerolinecolor": "white",
           "zerolinewidth": 2
          },
          "yaxis": {
           "automargin": true,
           "gridcolor": "white",
           "linecolor": "white",
           "ticks": "",
           "title": {
            "standoff": 15
           },
           "zerolinecolor": "white",
           "zerolinewidth": 2
          }
         }
        }
       }
      }
     },
     "metadata": {},
     "output_type": "display_data"
    }
   ],
   "source": [
    "column_combinations = [['bmi', 'wc', 'hc'], ['wc', 'hc', 'whr'], ['bmi', 'wc', 'whr'], ['bmi', 'hc', 'whr']]\n",
    "\n",
    "for combination in column_combinations:\n",
    "    x_col, y_col, z_col = combination\n",
    "\n",
    "    fig = px.scatter_3d(data_m,x=x_col, y=y_col, z=z_col, color = data_m['hyper'])\n",
    "    fig.show()"
   ]
  },
  {
   "cell_type": "code",
   "execution_count": 48,
   "metadata": {
    "vscode": {
     "languageId": "shellscript"
    }
   },
   "outputs": [
    {
     "data": {
      "text/plain": [
       "[Text(0, 0, '129'), Text(0, 0, '95')]"
      ]
     },
     "execution_count": 48,
     "metadata": {},
     "output_type": "execute_result"
    },
    {
     "data": {
      "image/png": "[encoded data removed]",
      "text/plain": [
       "<Figure size 640x480 with 1 Axes>"
      ]
     },
     "metadata": {},
     "output_type": "display_data"
    }
   ],
   "source": [
    "cols= [\"#CD5C5C\",\"#FF0000\"]\n",
    "ax = sns.countplot(x= data_f[\"preh\"], palette= cols)\n",
    "ax.bar_label(ax.containers[0])"
   ]
  },
  {
   "cell_type": "code",
   "execution_count": 49,
   "metadata": {
    "vscode": {
     "languageId": "shellscript"
    }
   },
   "outputs": [
    {
     "data": {
      "text/plain": [
       "[Text(0, 0, '128'), Text(0, 0, '47')]"
      ]
     },
     "execution_count": 49,
     "metadata": {},
     "output_type": "execute_result"
    },
    {
     "data": {
      "image/png": "[encoded data removed]",
      "text/plain": [
       "<Figure size 640x480 with 1 Axes>"
      ]
     },
     "metadata": {},
     "output_type": "display_data"
    }
   ],
   "source": [
    "cols= [\"#a5c6e2\",\"#3776ab\"]\n",
    "ax = sns.countplot(x= data_m[\"hyper\"], palette= cols)\n",
    "ax.bar_label(ax.containers[0])"
   ]
  },
  {
   "attachments": {},
   "cell_type": "markdown",
   "metadata": {},
   "source": [
    "Prehypertension in woman is more prevalent in women that hypertansion in men."
   ]
  },
  {
   "attachments": {},
   "cell_type": "markdown",
   "metadata": {},
   "source": [
    "## Statistical parameters analysis"
   ]
  },
  {
   "cell_type": "code",
   "execution_count": 50,
   "metadata": {
    "vscode": {
     "languageId": "shellscript"
    }
   },
   "outputs": [
    {
     "data": {
      "text/html": [
       "<div>\n",
       "<style scoped>\n",
       "    .dataframe tbody tr th:only-of-type {\n",
       "        vertical-align: middle;\n",
       "    }\n",
       "\n",
       "    .dataframe tbody tr th {\n",
       "        vertical-align: top;\n",
       "    }\n",
       "\n",
       "    .dataframe thead th {\n",
       "        text-align: right;\n",
       "    }\n",
       "</style>\n",
       "<table border=\"1\" class=\"dataframe\">\n",
       "  <thead>\n",
       "    <tr style=\"text-align: right;\">\n",
       "      <th></th>\n",
       "      <th>count</th>\n",
       "      <th>mean</th>\n",
       "      <th>std</th>\n",
       "      <th>min</th>\n",
       "      <th>25%</th>\n",
       "      <th>50%</th>\n",
       "      <th>75%</th>\n",
       "      <th>max</th>\n",
       "    </tr>\n",
       "  </thead>\n",
       "  <tbody>\n",
       "    <tr>\n",
       "      <th>id</th>\n",
       "      <td>224.0</td>\n",
       "      <td>113.316964</td>\n",
       "      <td>65.067626</td>\n",
       "      <td>1.00</td>\n",
       "      <td>57.75</td>\n",
       "      <td>113.500</td>\n",
       "      <td>169.2500</td>\n",
       "      <td>225.00</td>\n",
       "    </tr>\n",
       "    <tr>\n",
       "      <th>Age</th>\n",
       "      <td>224.0</td>\n",
       "      <td>22.598214</td>\n",
       "      <td>5.399651</td>\n",
       "      <td>16.00</td>\n",
       "      <td>19.00</td>\n",
       "      <td>21.000</td>\n",
       "      <td>24.0000</td>\n",
       "      <td>53.00</td>\n",
       "    </tr>\n",
       "    <tr>\n",
       "      <th>Is.Obese</th>\n",
       "      <td>224.0</td>\n",
       "      <td>0.058036</td>\n",
       "      <td>0.234335</td>\n",
       "      <td>0.00</td>\n",
       "      <td>0.00</td>\n",
       "      <td>0.000</td>\n",
       "      <td>0.0000</td>\n",
       "      <td>1.00</td>\n",
       "    </tr>\n",
       "    <tr>\n",
       "      <th>bmi</th>\n",
       "      <td>224.0</td>\n",
       "      <td>23.261518</td>\n",
       "      <td>4.073470</td>\n",
       "      <td>16.23</td>\n",
       "      <td>20.37</td>\n",
       "      <td>22.475</td>\n",
       "      <td>25.5075</td>\n",
       "      <td>45.15</td>\n",
       "    </tr>\n",
       "    <tr>\n",
       "      <th>wc</th>\n",
       "      <td>224.0</td>\n",
       "      <td>76.883929</td>\n",
       "      <td>9.449175</td>\n",
       "      <td>61.00</td>\n",
       "      <td>70.00</td>\n",
       "      <td>76.000</td>\n",
       "      <td>81.0000</td>\n",
       "      <td>113.00</td>\n",
       "    </tr>\n",
       "    <tr>\n",
       "      <th>hc</th>\n",
       "      <td>224.0</td>\n",
       "      <td>100.848214</td>\n",
       "      <td>8.560216</td>\n",
       "      <td>79.00</td>\n",
       "      <td>94.00</td>\n",
       "      <td>100.000</td>\n",
       "      <td>106.0000</td>\n",
       "      <td>132.00</td>\n",
       "    </tr>\n",
       "    <tr>\n",
       "      <th>whr</th>\n",
       "      <td>224.0</td>\n",
       "      <td>76.174107</td>\n",
       "      <td>5.843324</td>\n",
       "      <td>64.00</td>\n",
       "      <td>73.00</td>\n",
       "      <td>76.000</td>\n",
       "      <td>79.0000</td>\n",
       "      <td>104.00</td>\n",
       "    </tr>\n",
       "    <tr>\n",
       "      <th>SBP</th>\n",
       "      <td>224.0</td>\n",
       "      <td>118.680223</td>\n",
       "      <td>15.942405</td>\n",
       "      <td>10.67</td>\n",
       "      <td>108.67</td>\n",
       "      <td>117.000</td>\n",
       "      <td>127.7525</td>\n",
       "      <td>160.67</td>\n",
       "    </tr>\n",
       "    <tr>\n",
       "      <th>DBP</th>\n",
       "      <td>224.0</td>\n",
       "      <td>76.303348</td>\n",
       "      <td>12.256357</td>\n",
       "      <td>7.00</td>\n",
       "      <td>68.67</td>\n",
       "      <td>74.665</td>\n",
       "      <td>82.4150</td>\n",
       "      <td>120.00</td>\n",
       "    </tr>\n",
       "    <tr>\n",
       "      <th>preh</th>\n",
       "      <td>224.0</td>\n",
       "      <td>0.424107</td>\n",
       "      <td>0.495314</td>\n",
       "      <td>0.00</td>\n",
       "      <td>0.00</td>\n",
       "      <td>0.000</td>\n",
       "      <td>1.0000</td>\n",
       "      <td>1.00</td>\n",
       "    </tr>\n",
       "  </tbody>\n",
       "</table>\n",
       "</div>"
      ],
      "text/plain": [
       "          count        mean        std    min     25%      50%       75%   \n",
       "id        224.0  113.316964  65.067626   1.00   57.75  113.500  169.2500  \\\n",
       "Age       224.0   22.598214   5.399651  16.00   19.00   21.000   24.0000   \n",
       "Is.Obese  224.0    0.058036   0.234335   0.00    0.00    0.000    0.0000   \n",
       "bmi       224.0   23.261518   4.073470  16.23   20.37   22.475   25.5075   \n",
       "wc        224.0   76.883929   9.449175  61.00   70.00   76.000   81.0000   \n",
       "hc        224.0  100.848214   8.560216  79.00   94.00  100.000  106.0000   \n",
       "whr       224.0   76.174107   5.843324  64.00   73.00   76.000   79.0000   \n",
       "SBP       224.0  118.680223  15.942405  10.67  108.67  117.000  127.7525   \n",
       "DBP       224.0   76.303348  12.256357   7.00   68.67   74.665   82.4150   \n",
       "preh      224.0    0.424107   0.495314   0.00    0.00    0.000    1.0000   \n",
       "\n",
       "             max  \n",
       "id        225.00  \n",
       "Age        53.00  \n",
       "Is.Obese    1.00  \n",
       "bmi        45.15  \n",
       "wc        113.00  \n",
       "hc        132.00  \n",
       "whr       104.00  \n",
       "SBP       160.67  \n",
       "DBP       120.00  \n",
       "preh        1.00  "
      ]
     },
     "execution_count": 50,
     "metadata": {},
     "output_type": "execute_result"
    }
   ],
   "source": [
    "data_f.describe().T"
   ]
  },
  {
   "cell_type": "code",
   "execution_count": 51,
   "metadata": {
    "vscode": {
     "languageId": "shellscript"
    }
   },
   "outputs": [
    {
     "data": {
      "text/html": [
       "<div>\n",
       "<style scoped>\n",
       "    .dataframe tbody tr th:only-of-type {\n",
       "        vertical-align: middle;\n",
       "    }\n",
       "\n",
       "    .dataframe tbody tr th {\n",
       "        vertical-align: top;\n",
       "    }\n",
       "\n",
       "    .dataframe thead th {\n",
       "        text-align: right;\n",
       "    }\n",
       "</style>\n",
       "<table border=\"1\" class=\"dataframe\">\n",
       "  <thead>\n",
       "    <tr style=\"text-align: right;\">\n",
       "      <th></th>\n",
       "      <th>count</th>\n",
       "      <th>mean</th>\n",
       "      <th>std</th>\n",
       "      <th>min</th>\n",
       "      <th>25%</th>\n",
       "      <th>50%</th>\n",
       "      <th>75%</th>\n",
       "      <th>max</th>\n",
       "    </tr>\n",
       "  </thead>\n",
       "  <tbody>\n",
       "    <tr>\n",
       "      <th>id</th>\n",
       "      <td>175.0</td>\n",
       "      <td>88.000000</td>\n",
       "      <td>50.662281</td>\n",
       "      <td>1.00</td>\n",
       "      <td>44.500</td>\n",
       "      <td>88.00</td>\n",
       "      <td>131.500</td>\n",
       "      <td>175.0</td>\n",
       "    </tr>\n",
       "    <tr>\n",
       "      <th>Age</th>\n",
       "      <td>175.0</td>\n",
       "      <td>23.805714</td>\n",
       "      <td>6.713083</td>\n",
       "      <td>17.00</td>\n",
       "      <td>19.500</td>\n",
       "      <td>22.00</td>\n",
       "      <td>26.000</td>\n",
       "      <td>63.0</td>\n",
       "    </tr>\n",
       "    <tr>\n",
       "      <th>Is.Obese</th>\n",
       "      <td>175.0</td>\n",
       "      <td>0.102857</td>\n",
       "      <td>0.304644</td>\n",
       "      <td>0.00</td>\n",
       "      <td>0.000</td>\n",
       "      <td>0.00</td>\n",
       "      <td>0.000</td>\n",
       "      <td>1.0</td>\n",
       "    </tr>\n",
       "    <tr>\n",
       "      <th>bmi</th>\n",
       "      <td>175.0</td>\n",
       "      <td>24.953943</td>\n",
       "      <td>4.345820</td>\n",
       "      <td>17.09</td>\n",
       "      <td>22.165</td>\n",
       "      <td>24.82</td>\n",
       "      <td>27.085</td>\n",
       "      <td>43.6</td>\n",
       "    </tr>\n",
       "    <tr>\n",
       "      <th>wc</th>\n",
       "      <td>175.0</td>\n",
       "      <td>86.062857</td>\n",
       "      <td>11.466670</td>\n",
       "      <td>48.00</td>\n",
       "      <td>79.000</td>\n",
       "      <td>84.00</td>\n",
       "      <td>93.000</td>\n",
       "      <td>126.0</td>\n",
       "    </tr>\n",
       "    <tr>\n",
       "      <th>hc</th>\n",
       "      <td>175.0</td>\n",
       "      <td>102.931429</td>\n",
       "      <td>8.930503</td>\n",
       "      <td>80.00</td>\n",
       "      <td>97.000</td>\n",
       "      <td>103.00</td>\n",
       "      <td>108.000</td>\n",
       "      <td>130.0</td>\n",
       "    </tr>\n",
       "    <tr>\n",
       "      <th>whr</th>\n",
       "      <td>175.0</td>\n",
       "      <td>83.480000</td>\n",
       "      <td>6.755024</td>\n",
       "      <td>49.00</td>\n",
       "      <td>80.000</td>\n",
       "      <td>83.00</td>\n",
       "      <td>87.000</td>\n",
       "      <td>114.0</td>\n",
       "    </tr>\n",
       "    <tr>\n",
       "      <th>SBP</th>\n",
       "      <td>175.0</td>\n",
       "      <td>132.354400</td>\n",
       "      <td>14.443087</td>\n",
       "      <td>98.00</td>\n",
       "      <td>123.165</td>\n",
       "      <td>130.00</td>\n",
       "      <td>141.000</td>\n",
       "      <td>175.0</td>\n",
       "    </tr>\n",
       "    <tr>\n",
       "      <th>DBP</th>\n",
       "      <td>175.0</td>\n",
       "      <td>82.746400</td>\n",
       "      <td>11.473131</td>\n",
       "      <td>50.00</td>\n",
       "      <td>76.330</td>\n",
       "      <td>82.67</td>\n",
       "      <td>90.000</td>\n",
       "      <td>112.0</td>\n",
       "    </tr>\n",
       "    <tr>\n",
       "      <th>hyper</th>\n",
       "      <td>175.0</td>\n",
       "      <td>0.268571</td>\n",
       "      <td>0.444488</td>\n",
       "      <td>0.00</td>\n",
       "      <td>0.000</td>\n",
       "      <td>0.00</td>\n",
       "      <td>1.000</td>\n",
       "      <td>1.0</td>\n",
       "    </tr>\n",
       "  </tbody>\n",
       "</table>\n",
       "</div>"
      ],
      "text/plain": [
       "          count        mean        std    min      25%     50%      75%    max\n",
       "id        175.0   88.000000  50.662281   1.00   44.500   88.00  131.500  175.0\n",
       "Age       175.0   23.805714   6.713083  17.00   19.500   22.00   26.000   63.0\n",
       "Is.Obese  175.0    0.102857   0.304644   0.00    0.000    0.00    0.000    1.0\n",
       "bmi       175.0   24.953943   4.345820  17.09   22.165   24.82   27.085   43.6\n",
       "wc        175.0   86.062857  11.466670  48.00   79.000   84.00   93.000  126.0\n",
       "hc        175.0  102.931429   8.930503  80.00   97.000  103.00  108.000  130.0\n",
       "whr       175.0   83.480000   6.755024  49.00   80.000   83.00   87.000  114.0\n",
       "SBP       175.0  132.354400  14.443087  98.00  123.165  130.00  141.000  175.0\n",
       "DBP       175.0   82.746400  11.473131  50.00   76.330   82.67   90.000  112.0\n",
       "hyper     175.0    0.268571   0.444488   0.00    0.000    0.00    1.000    1.0"
      ]
     },
     "execution_count": 51,
     "metadata": {},
     "output_type": "execute_result"
    }
   ],
   "source": [
    "data_m.describe().T"
   ]
  },
  {
   "cell_type": "code",
   "execution_count": 52,
   "metadata": {
    "vscode": {
     "languageId": "shellscript"
    }
   },
   "outputs": [
    {
     "name": "stdout",
     "output_type": "stream",
     "text": [
      "id: stat=0.955, p=0.000\n",
      "id is not normally distributed\n",
      "Age: stat=0.792, p=0.000\n",
      "Age is not normally distributed\n",
      "Is.Obese: stat=0.246, p=0.000\n",
      "Is.Obese is not normally distributed\n",
      "bmi: stat=0.921, p=0.000\n",
      "bmi is not normally distributed\n",
      "wc: stat=0.942, p=0.000\n",
      "wc is not normally distributed\n",
      "hc: stat=0.964, p=0.000\n",
      "hc is not normally distributed\n",
      "whr: stat=0.962, p=0.000\n",
      "whr is not normally distributed\n",
      "SBP: stat=0.916, p=0.000\n",
      "SBP is not normally distributed\n",
      "DBP: stat=0.940, p=0.000\n",
      "DBP is not normally distributed\n",
      "preh: stat=0.628, p=0.000\n",
      "preh is not normally distributed\n"
     ]
    }
   ],
   "source": [
    "for col in data_f.columns:\n",
    "    # Perform Shapiro-Wilk test on current column\n",
    "    stat, p = shapiro(data_f[col])\n",
    "    print(f\"{col}: stat={stat:.3f}, p={p:.3f}\")\n",
    "    \n",
    "    # Check whether p-value is less than 0.05 (alpha level)\n",
    "    if p < 0.05:\n",
    "        print(f\"{col} is not normally distributed\")\n",
    "    else:\n",
    "        print(f\"{col} is normally distributed\")"
   ]
  },
  {
   "cell_type": "code",
   "execution_count": 53,
   "metadata": {
    "vscode": {
     "languageId": "shellscript"
    }
   },
   "outputs": [
    {
     "name": "stdout",
     "output_type": "stream",
     "text": [
      "id: stat=0.955, p=0.000\n",
      "id is not normally distributed\n",
      "Age: stat=0.752, p=0.000\n",
      "Age is not normally distributed\n",
      "Is.Obese: stat=0.348, p=0.000\n",
      "Is.Obese is not normally distributed\n",
      "bmi: stat=0.940, p=0.000\n",
      "bmi is not normally distributed\n",
      "wc: stat=0.959, p=0.000\n",
      "wc is not normally distributed\n",
      "hc: stat=0.988, p=0.150\n",
      "hc is normally distributed\n",
      "whr: stat=0.923, p=0.000\n",
      "whr is not normally distributed\n",
      "SBP: stat=0.991, p=0.375\n",
      "SBP is normally distributed\n",
      "DBP: stat=0.993, p=0.526\n",
      "DBP is normally distributed\n",
      "hyper: stat=0.553, p=0.000\n",
      "hyper is not normally distributed\n"
     ]
    }
   ],
   "source": [
    "for col in data_m.columns:\n",
    "    # Perform Shapiro-Wilk test on current column\n",
    "    stat, p = shapiro(data_m[col])\n",
    "    print(f\"{col}: stat={stat:.3f}, p={p:.3f}\")\n",
    "    \n",
    "    # Check whether p-value is less than 0.05 (alpha level)\n",
    "    if p < 0.05:\n",
    "        print(f\"{col} is not normally distributed\")\n",
    "    else:\n",
    "        print(f\"{col} is normally distributed\")"
   ]
  },
  {
   "attachments": {},
   "cell_type": "markdown",
   "metadata": {},
   "source": [
    "- In women all variables are not normally distributed, in men only SBP and DBP have normal distribution.\n",
    "- Men presented a higher value of systolic blood pressure (median = 130 mmHg), BMI (median = 24 kg/m2), WC (median = 84 cm), HC (median = 103 cm), and WHR (median = 0.83) than women."
   ]
  },
  {
   "attachments": {},
   "cell_type": "markdown",
   "metadata": {},
   "source": [
    "The most important features (besides DBP and SBP which were the parameters directly used to assess hypertension) are: bmi, wc, hc, whr. That is because their correlation coefficients have the highest value (nearest to 1)."
   ]
  },
  {
   "attachments": {},
   "cell_type": "markdown",
   "metadata": {},
   "source": [
    "## Balancing data"
   ]
  },
  {
   "cell_type": "code",
   "execution_count": 54,
   "metadata": {
    "vscode": {
     "languageId": "shellscript"
    }
   },
   "outputs": [],
   "source": [
    "from sklearn.model_selection import train_test_split"
   ]
  },
  {
   "cell_type": "code",
   "execution_count": 55,
   "metadata": {
    "vscode": {
     "languageId": "shellscript"
    }
   },
   "outputs": [],
   "source": [
    "train_df, test_df = train_test_split(data_f, test_size=0.2, random_state=42)"
   ]
  },
  {
   "cell_type": "code",
   "execution_count": 56,
   "metadata": {
    "vscode": {
     "languageId": "shellscript"
    }
   },
   "outputs": [
    {
     "name": "stdout",
     "output_type": "stream",
     "text": [
      "preh\n",
      "0    101\n",
      "1    101\n",
      "Name: count, dtype: int64\n"
     ]
    }
   ],
   "source": [
    "class_0_count = train_df['preh'].value_counts()[0]\n",
    "class_1_count = train_df['preh'].value_counts()[1]\n",
    "\n",
    "# Calculate the number of samples to balance the data\n",
    "balanced_count = class_0_count\n",
    "\n",
    "# Create a balanced DataFrame by randomly sampling from the original DataFrame\n",
    "df_balanced = pd.concat([\n",
    "    train_df[train_df['preh'] == 0], # keep all samples with value 0\n",
    "    train_df[train_df['preh'] == 1].sample(n=balanced_count, replace=True) # randomly sample n samples with value 1\n",
    "])\n",
    "\n",
    "# Verify the new class distribution\n",
    "print(df_balanced['preh'].value_counts())"
   ]
  },
  {
   "cell_type": "code",
   "execution_count": 57,
   "metadata": {
    "vscode": {
     "languageId": "shellscript"
    }
   },
   "outputs": [],
   "source": [
    "train_dm, test_dm = train_test_split(data_m, test_size=0.2, random_state=42)"
   ]
  },
  {
   "cell_type": "code",
   "execution_count": 58,
   "metadata": {
    "vscode": {
     "languageId": "shellscript"
    }
   },
   "outputs": [
    {
     "name": "stdout",
     "output_type": "stream",
     "text": [
      "hyper\n",
      "0    109\n",
      "1    109\n",
      "Name: count, dtype: int64\n"
     ]
    }
   ],
   "source": [
    "class_0_count = train_dm['hyper'].value_counts()[0]\n",
    "class_1_count = train_dm['hyper'].value_counts()[1]\n",
    "\n",
    "# Calculate the number of samples to balance the data\n",
    "balanced_count = class_0_count\n",
    "\n",
    "# Create a balanced DataFrame by randomly sampling from the original DataFrame\n",
    "dm_balanced = pd.concat([\n",
    "    train_dm[train_dm['hyper'] == 0], # keep all samples with value 0\n",
    "    train_dm[train_dm['hyper'] == 1].sample(n=balanced_count, replace=True) # randomly sample n samples with value 1\n",
    "])\n",
    "\n",
    "# Verify the new class distribution\n",
    "print(dm_balanced['hyper'].value_counts())"
   ]
  },
  {
   "attachments": {},
   "cell_type": "markdown",
   "metadata": {},
   "source": [
    "## CART and LogRegClassifier"
   ]
  },
  {
   "cell_type": "code",
   "execution_count": 59,
   "metadata": {
    "vscode": {
     "languageId": "shellscript"
    }
   },
   "outputs": [],
   "source": [
    "from sklearn.tree import DecisionTreeClassifier\n",
    "from sklearn.metrics import accuracy_score, r2_score\n",
    "from sklearn.metrics import log_loss\n",
    "from sklearn.metrics import classification_report\n",
    "from sklearn.linear_model import LogisticRegression\n",
    "from sklearn import metrics\n",
    "import statsmodels.api as sm"
   ]
  },
  {
   "cell_type": "code",
   "execution_count": 77,
   "metadata": {
    "vscode": {
     "languageId": "shellscript"
    }
   },
   "outputs": [],
   "source": [
    "class CARTClassifier:\n",
    "    def __init__(self, train, test):\n",
    "        self.train = train\n",
    "        self.test = test\n",
    "        \n",
    "        self.predictors = [['bmi'],['wc'],['hc'],['whr'],['bmi','wc'],['bmi','hc'],['bmi','whr'],\n",
    "                           ['wc','hc'],['wc','whr'],['hc','whr'],['bmi','wc','hc'],['wc','hc','whr'],\n",
    "                           ['bmi','hc','whr'],['bmi', 'wc', 'hc', 'whr']]\n",
    "\n",
    "    \n",
    "    def fit(self):\n",
    "\n",
    "        PR2 = []\n",
    "        DEV = []\n",
    "        MER = []\n",
    "\n",
    "        for i in range(len(self.predictors)):\n",
    "            X_train = self.train[self.predictors[i]]\n",
    "            y_train = self.train.iloc[:, -1]\n",
    "            x_test = self.test[self.predictors[i]]\n",
    "            Y_test = self.test.iloc[:, -1]\n",
    "\n",
    "            model = DecisionTreeClassifier(criterion='gini', splitter='best', max_depth=None, min_samples_split=2,\n",
    "                                 min_samples_leaf=1, min_weight_fraction_leaf=0.0, max_features=None, \n",
    "                                 random_state=None, max_leaf_nodes=None, min_impurity_decrease=0.0,\n",
    "                                 class_weight=None)\n",
    "            model.fit(X_train, y_train)\n",
    "\n",
    "            Y_test_pred = model.predict(x_test)\n",
    "            y_pred_prob = model.predict_proba(x_test)\n",
    "\n",
    "            cnf_matrix = metrics.confusion_matrix(Y_test, Y_test_pred)\n",
    "            misclassification_error_rate = (cnf_matrix[0,1] + cnf_matrix[1,0])/ cnf_matrix.sum()\n",
    "\n",
    "            deviance = log_loss(Y_test, y_pred_prob)\n",
    "\n",
    "            report = classification_report(Y_test, Y_test_pred, output_dict=True)\n",
    "            precision = report['1']['precision']\n",
    "            recall = report['1']['recall']\n",
    "            f1_score = report['1']['f1-score']\n",
    "\n",
    "            pseudo_r2 = (2 * (precision * recall)) / (precision + recall + 0.00001) #the last factor is to make sure there is no division by zero\n",
    "\n",
    "            PR2.append(pseudo_r2)\n",
    "            DEV.append(deviance)\n",
    "            MER.append(misclassification_error_rate)\n",
    "\n",
    "        return pd.DataFrame(list(zip(PR2, DEV, MER, [\"/\".join(p) for p in self.predictors])), \n",
    "        columns=[\"pseudo_R2\", \"deviance\", \"missclassification_error_rate\", \"predictors\"])"
   ]
  },
  {
   "cell_type": "code",
   "execution_count": 61,
   "metadata": {
    "vscode": {
     "languageId": "shellscript"
    }
   },
   "outputs": [],
   "source": [
    "from sklearn.preprocessing import StandardScaler\n",
    "\n",
    "class LogRegClassifier:\n",
    "    def __init__(self, train, test, predictors):\n",
    "        self.train = train\n",
    "        self.test = test\n",
    "        self.predictors = predictors\n",
    "    \n",
    "    def fit(self):\n",
    "        \n",
    "        X_train = self.train[self.predictors]\n",
    "        y_train = self.train.iloc[:, -1]\n",
    "        x_test = self.test[self.predictors]\n",
    "        Y_test = self.test.iloc[:, -1]\n",
    "\n",
    "        # Standardize the data\n",
    "        scaler = StandardScaler()\n",
    "        X_train_scaled = scaler.fit_transform(X_train)\n",
    "        x_test_scaled = scaler.transform(x_test)\n",
    "\n",
    "        # instantiate the model (using the default parameters)\n",
    "        logreg = LogisticRegression(random_state=16)\n",
    "\n",
    "        # fit the model with data\n",
    "        logreg.fit(X_train_scaled, y_train)\n",
    "\n",
    "        Y_test_pred = logreg.predict(x_test_scaled) \n",
    "        y_pred_prob = logreg.predict_proba(x_test_scaled)\n",
    "\n",
    "        cnf_matrix = metrics.confusion_matrix(Y_test, Y_test_pred)\n",
    "        misclassification_error_rate = (cnf_matrix[0,1] + cnf_matrix[1,0]) / cnf_matrix.sum()\n",
    "\n",
    "        deviance = log_loss(Y_test, y_pred_prob)\n",
    "\n",
    "        report = classification_report(Y_test, Y_test_pred, output_dict=True)\n",
    "        precision = report['1']['precision']\n",
    "        recall = report['1']['recall']\n",
    "        f1_score = report['1']['f1-score']\n",
    "\n",
    "        pseudo_r2 = (2 * (precision * recall)) / (precision + recall + 0.00001) # the last factor is to make sure there is no division by zero\n",
    "\n",
    "        print(f\"Deviance: {deviance:.3f}\")\n",
    "        print(f\"Misclassification Error Rate: {misclassification_error_rate:.3f}\")\n",
    "        print(f\"Pseudo R2: {pseudo_r2:.3f}\")"
   ]
  },
  {
   "cell_type": "code",
   "execution_count": 78,
   "metadata": {
    "vscode": {
     "languageId": "shellscript"
    }
   },
   "outputs": [
    {
     "data": {
      "text/html": [
       "<div>\n",
       "<style scoped>\n",
       "    .dataframe tbody tr th:only-of-type {\n",
       "        vertical-align: middle;\n",
       "    }\n",
       "\n",
       "    .dataframe tbody tr th {\n",
       "        vertical-align: top;\n",
       "    }\n",
       "\n",
       "    .dataframe thead th {\n",
       "        text-align: right;\n",
       "    }\n",
       "</style>\n",
       "<table border=\"1\" class=\"dataframe\">\n",
       "  <thead>\n",
       "    <tr style=\"text-align: right;\">\n",
       "      <th></th>\n",
       "      <th>pseudo_R2</th>\n",
       "      <th>deviance</th>\n",
       "      <th>missclassification_error_rate</th>\n",
       "      <th>predictors</th>\n",
       "    </tr>\n",
       "  </thead>\n",
       "  <tbody>\n",
       "    <tr>\n",
       "      <th>0</th>\n",
       "      <td>0.432427</td>\n",
       "      <td>15.264641</td>\n",
       "      <td>0.466667</td>\n",
       "      <td>bmi</td>\n",
       "    </tr>\n",
       "    <tr>\n",
       "      <th>1</th>\n",
       "      <td>0.444439</td>\n",
       "      <td>3.051528</td>\n",
       "      <td>0.444444</td>\n",
       "      <td>wc</td>\n",
       "    </tr>\n",
       "    <tr>\n",
       "      <th>2</th>\n",
       "      <td>0.342852</td>\n",
       "      <td>2.286746</td>\n",
       "      <td>0.511111</td>\n",
       "      <td>hc</td>\n",
       "    </tr>\n",
       "    <tr>\n",
       "      <th>3</th>\n",
       "      <td>0.344823</td>\n",
       "      <td>2.232046</td>\n",
       "      <td>0.422222</td>\n",
       "      <td>whr</td>\n",
       "    </tr>\n",
       "    <tr>\n",
       "      <th>4</th>\n",
       "      <td>0.533328</td>\n",
       "      <td>11.213581</td>\n",
       "      <td>0.311111</td>\n",
       "      <td>bmi/wc</td>\n",
       "    </tr>\n",
       "    <tr>\n",
       "      <th>5</th>\n",
       "      <td>0.555551</td>\n",
       "      <td>12.815521</td>\n",
       "      <td>0.355556</td>\n",
       "      <td>bmi/hc</td>\n",
       "    </tr>\n",
       "    <tr>\n",
       "      <th>6</th>\n",
       "      <td>0.352936</td>\n",
       "      <td>17.621342</td>\n",
       "      <td>0.488889</td>\n",
       "      <td>bmi/whr</td>\n",
       "    </tr>\n",
       "    <tr>\n",
       "      <th>7</th>\n",
       "      <td>0.486482</td>\n",
       "      <td>15.249238</td>\n",
       "      <td>0.422222</td>\n",
       "      <td>wc/hc</td>\n",
       "    </tr>\n",
       "    <tr>\n",
       "      <th>8</th>\n",
       "      <td>0.457138</td>\n",
       "      <td>13.708911</td>\n",
       "      <td>0.422222</td>\n",
       "      <td>wc/whr</td>\n",
       "    </tr>\n",
       "    <tr>\n",
       "      <th>9</th>\n",
       "      <td>0.526311</td>\n",
       "      <td>14.497095</td>\n",
       "      <td>0.400000</td>\n",
       "      <td>hc/whr</td>\n",
       "    </tr>\n",
       "    <tr>\n",
       "      <th>10</th>\n",
       "      <td>0.499995</td>\n",
       "      <td>14.417461</td>\n",
       "      <td>0.400000</td>\n",
       "      <td>bmi/wc/hc</td>\n",
       "    </tr>\n",
       "    <tr>\n",
       "      <th>11</th>\n",
       "      <td>0.514281</td>\n",
       "      <td>13.693508</td>\n",
       "      <td>0.377778</td>\n",
       "      <td>wc/hc/whr</td>\n",
       "    </tr>\n",
       "    <tr>\n",
       "      <th>12</th>\n",
       "      <td>0.473679</td>\n",
       "      <td>16.019402</td>\n",
       "      <td>0.444444</td>\n",
       "      <td>bmi/hc/whr</td>\n",
       "    </tr>\n",
       "    <tr>\n",
       "      <th>13</th>\n",
       "      <td>0.571424</td>\n",
       "      <td>14.417461</td>\n",
       "      <td>0.400000</td>\n",
       "      <td>bmi/wc/hc/whr</td>\n",
       "    </tr>\n",
       "  </tbody>\n",
       "</table>\n",
       "</div>"
      ],
      "text/plain": [
       "    pseudo_R2   deviance  missclassification_error_rate     predictors\n",
       "0    0.432427  15.264641                       0.466667            bmi\n",
       "1    0.444439   3.051528                       0.444444             wc\n",
       "2    0.342852   2.286746                       0.511111             hc\n",
       "3    0.344823   2.232046                       0.422222            whr\n",
       "4    0.533328  11.213581                       0.311111         bmi/wc\n",
       "5    0.555551  12.815521                       0.355556         bmi/hc\n",
       "6    0.352936  17.621342                       0.488889        bmi/whr\n",
       "7    0.486482  15.249238                       0.422222          wc/hc\n",
       "8    0.457138  13.708911                       0.422222         wc/whr\n",
       "9    0.526311  14.497095                       0.400000         hc/whr\n",
       "10   0.499995  14.417461                       0.400000      bmi/wc/hc\n",
       "11   0.514281  13.693508                       0.377778      wc/hc/whr\n",
       "12   0.473679  16.019402                       0.444444     bmi/hc/whr\n",
       "13   0.571424  14.417461                       0.400000  bmi/wc/hc/whr"
      ]
     },
     "execution_count": 78,
     "metadata": {},
     "output_type": "execute_result"
    }
   ],
   "source": [
    "cartF = CARTClassifier(train_df, test_df)\n",
    "cartF.fit()"
   ]
  },
  {
   "cell_type": "code",
   "execution_count": 63,
   "metadata": {
    "vscode": {
     "languageId": "shellscript"
    }
   },
   "outputs": [
    {
     "data": {
      "text/html": [
       "<div>\n",
       "<style scoped>\n",
       "    .dataframe tbody tr th:only-of-type {\n",
       "        vertical-align: middle;\n",
       "    }\n",
       "\n",
       "    .dataframe tbody tr th {\n",
       "        vertical-align: top;\n",
       "    }\n",
       "\n",
       "    .dataframe thead th {\n",
       "        text-align: right;\n",
       "    }\n",
       "</style>\n",
       "<table border=\"1\" class=\"dataframe\">\n",
       "  <thead>\n",
       "    <tr style=\"text-align: right;\">\n",
       "      <th></th>\n",
       "      <th>pseudo_R2</th>\n",
       "      <th>deviance</th>\n",
       "      <th>missclassification_error_rate</th>\n",
       "    </tr>\n",
       "  </thead>\n",
       "  <tbody>\n",
       "    <tr>\n",
       "      <th>0</th>\n",
       "      <td>0.411760</td>\n",
       "      <td>14.448268</td>\n",
       "      <td>0.444444</td>\n",
       "    </tr>\n",
       "    <tr>\n",
       "      <th>1</th>\n",
       "      <td>0.294113</td>\n",
       "      <td>3.093117</td>\n",
       "      <td>0.533333</td>\n",
       "    </tr>\n",
       "    <tr>\n",
       "      <th>2</th>\n",
       "      <td>0.487800</td>\n",
       "      <td>5.352426</td>\n",
       "      <td>0.466667</td>\n",
       "    </tr>\n",
       "    <tr>\n",
       "      <th>3</th>\n",
       "      <td>0.333328</td>\n",
       "      <td>2.264664</td>\n",
       "      <td>0.444444</td>\n",
       "    </tr>\n",
       "    <tr>\n",
       "      <th>4</th>\n",
       "      <td>0.444440</td>\n",
       "      <td>12.014551</td>\n",
       "      <td>0.333333</td>\n",
       "    </tr>\n",
       "    <tr>\n",
       "      <th>5</th>\n",
       "      <td>0.437495</td>\n",
       "      <td>14.417461</td>\n",
       "      <td>0.400000</td>\n",
       "    </tr>\n",
       "    <tr>\n",
       "      <th>6</th>\n",
       "      <td>0.555551</td>\n",
       "      <td>12.815521</td>\n",
       "      <td>0.355556</td>\n",
       "    </tr>\n",
       "    <tr>\n",
       "      <th>7</th>\n",
       "      <td>0.470583</td>\n",
       "      <td>14.439258</td>\n",
       "      <td>0.400000</td>\n",
       "    </tr>\n",
       "    <tr>\n",
       "      <th>8</th>\n",
       "      <td>0.529407</td>\n",
       "      <td>11.314385</td>\n",
       "      <td>0.355556</td>\n",
       "    </tr>\n",
       "    <tr>\n",
       "      <th>9</th>\n",
       "      <td>0.529407</td>\n",
       "      <td>12.846328</td>\n",
       "      <td>0.355556</td>\n",
       "    </tr>\n",
       "    <tr>\n",
       "      <th>10</th>\n",
       "      <td>0.545450</td>\n",
       "      <td>12.014551</td>\n",
       "      <td>0.333333</td>\n",
       "    </tr>\n",
       "    <tr>\n",
       "      <th>11</th>\n",
       "      <td>0.470583</td>\n",
       "      <td>14.448268</td>\n",
       "      <td>0.400000</td>\n",
       "    </tr>\n",
       "    <tr>\n",
       "      <th>12</th>\n",
       "      <td>0.499995</td>\n",
       "      <td>16.019402</td>\n",
       "      <td>0.444444</td>\n",
       "    </tr>\n",
       "    <tr>\n",
       "      <th>13</th>\n",
       "      <td>0.461534</td>\n",
       "      <td>16.820372</td>\n",
       "      <td>0.466667</td>\n",
       "    </tr>\n",
       "  </tbody>\n",
       "</table>\n",
       "</div>"
      ],
      "text/plain": [
       "    pseudo_R2   deviance  missclassification_error_rate\n",
       "0    0.411760  14.448268                       0.444444\n",
       "1    0.294113   3.093117                       0.533333\n",
       "2    0.487800   5.352426                       0.466667\n",
       "3    0.333328   2.264664                       0.444444\n",
       "4    0.444440  12.014551                       0.333333\n",
       "5    0.437495  14.417461                       0.400000\n",
       "6    0.555551  12.815521                       0.355556\n",
       "7    0.470583  14.439258                       0.400000\n",
       "8    0.529407  11.314385                       0.355556\n",
       "9    0.529407  12.846328                       0.355556\n",
       "10   0.545450  12.014551                       0.333333\n",
       "11   0.470583  14.448268                       0.400000\n",
       "12   0.499995  16.019402                       0.444444\n",
       "13   0.461534  16.820372                       0.466667"
      ]
     },
     "execution_count": 63,
     "metadata": {},
     "output_type": "execute_result"
    }
   ],
   "source": [
    "cartF_b = CARTClassifier(df_balanced, test_df)\n",
    "cartF_b.fit()"
   ]
  },
  {
   "cell_type": "code",
   "execution_count": 64,
   "metadata": {
    "vscode": {
     "languageId": "shellscript"
    }
   },
   "outputs": [
    {
     "name": "stdout",
     "output_type": "stream",
     "text": [
      "Deviance: 0.679\n",
      "Misclassification Error Rate: 0.378\n",
      "Pseudo R2: 0.414\n"
     ]
    }
   ],
   "source": [
    "logreg_classifierF = LogRegClassifier(train_df, test_df, ['bmi', 'wc', 'hc', 'whr'])\n",
    "logreg_classifierF.fit()"
   ]
  },
  {
   "cell_type": "code",
   "execution_count": 65,
   "metadata": {
    "vscode": {
     "languageId": "shellscript"
    }
   },
   "outputs": [
    {
     "name": "stdout",
     "output_type": "stream",
     "text": [
      "Deviance: 0.711\n",
      "Misclassification Error Rate: 0.378\n",
      "Pseudo R2: 0.514\n"
     ]
    }
   ],
   "source": [
    "logreg_classifierF_b = LogRegClassifier(df_balanced, test_df, ['bmi', 'wc', 'hc', 'whr'])\n",
    "logreg_classifierF_b.fit()"
   ]
  },
  {
   "cell_type": "code",
   "execution_count": 66,
   "metadata": {
    "vscode": {
     "languageId": "shellscript"
    }
   },
   "outputs": [
    {
     "name": "stderr",
     "output_type": "stream",
     "text": [
      "/home/konsternacja/anaconda3/envs/myenv/lib/python3.11/site-packages/sklearn/metrics/_classification.py:1344: UndefinedMetricWarning:\n",
      "\n",
      "Precision and F-score are ill-defined and being set to 0.0 in labels with no predicted samples. Use `zero_division` parameter to control this behavior.\n",
      "\n",
      "/home/konsternacja/anaconda3/envs/myenv/lib/python3.11/site-packages/sklearn/metrics/_classification.py:1344: UndefinedMetricWarning:\n",
      "\n",
      "Precision and F-score are ill-defined and being set to 0.0 in labels with no predicted samples. Use `zero_division` parameter to control this behavior.\n",
      "\n",
      "/home/konsternacja/anaconda3/envs/myenv/lib/python3.11/site-packages/sklearn/metrics/_classification.py:1344: UndefinedMetricWarning:\n",
      "\n",
      "Precision and F-score are ill-defined and being set to 0.0 in labels with no predicted samples. Use `zero_division` parameter to control this behavior.\n",
      "\n"
     ]
    },
    {
     "data": {
      "text/html": [
       "<div>\n",
       "<style scoped>\n",
       "    .dataframe tbody tr th:only-of-type {\n",
       "        vertical-align: middle;\n",
       "    }\n",
       "\n",
       "    .dataframe tbody tr th {\n",
       "        vertical-align: top;\n",
       "    }\n",
       "\n",
       "    .dataframe thead th {\n",
       "        text-align: right;\n",
       "    }\n",
       "</style>\n",
       "<table border=\"1\" class=\"dataframe\">\n",
       "  <thead>\n",
       "    <tr style=\"text-align: right;\">\n",
       "      <th></th>\n",
       "      <th>pseudo_R2</th>\n",
       "      <th>deviance</th>\n",
       "      <th>missclassification_error_rate</th>\n",
       "    </tr>\n",
       "  </thead>\n",
       "  <tbody>\n",
       "    <tr>\n",
       "      <th>0</th>\n",
       "      <td>0.090905</td>\n",
       "      <td>19.606163</td>\n",
       "      <td>0.571429</td>\n",
       "    </tr>\n",
       "    <tr>\n",
       "      <th>1</th>\n",
       "      <td>0.000000</td>\n",
       "      <td>8.638112</td>\n",
       "      <td>0.542857</td>\n",
       "    </tr>\n",
       "    <tr>\n",
       "      <th>2</th>\n",
       "      <td>0.099997</td>\n",
       "      <td>10.778963</td>\n",
       "      <td>0.514286</td>\n",
       "    </tr>\n",
       "    <tr>\n",
       "      <th>3</th>\n",
       "      <td>0.000000</td>\n",
       "      <td>4.723256</td>\n",
       "      <td>0.457143</td>\n",
       "    </tr>\n",
       "    <tr>\n",
       "      <th>4</th>\n",
       "      <td>0.173909</td>\n",
       "      <td>19.566555</td>\n",
       "      <td>0.542857</td>\n",
       "    </tr>\n",
       "    <tr>\n",
       "      <th>5</th>\n",
       "      <td>0.173909</td>\n",
       "      <td>19.566555</td>\n",
       "      <td>0.542857</td>\n",
       "    </tr>\n",
       "    <tr>\n",
       "      <th>6</th>\n",
       "      <td>0.399995</td>\n",
       "      <td>15.447280</td>\n",
       "      <td>0.428571</td>\n",
       "    </tr>\n",
       "    <tr>\n",
       "      <th>7</th>\n",
       "      <td>0.357138</td>\n",
       "      <td>18.536736</td>\n",
       "      <td>0.514286</td>\n",
       "    </tr>\n",
       "    <tr>\n",
       "      <th>8</th>\n",
       "      <td>0.384611</td>\n",
       "      <td>16.477099</td>\n",
       "      <td>0.457143</td>\n",
       "    </tr>\n",
       "    <tr>\n",
       "      <th>9</th>\n",
       "      <td>0.384611</td>\n",
       "      <td>16.477099</td>\n",
       "      <td>0.457143</td>\n",
       "    </tr>\n",
       "    <tr>\n",
       "      <th>10</th>\n",
       "      <td>0.333329</td>\n",
       "      <td>16.477099</td>\n",
       "      <td>0.457143</td>\n",
       "    </tr>\n",
       "    <tr>\n",
       "      <th>11</th>\n",
       "      <td>0.370366</td>\n",
       "      <td>17.506917</td>\n",
       "      <td>0.485714</td>\n",
       "    </tr>\n",
       "    <tr>\n",
       "      <th>12</th>\n",
       "      <td>0.333329</td>\n",
       "      <td>16.477099</td>\n",
       "      <td>0.457143</td>\n",
       "    </tr>\n",
       "    <tr>\n",
       "      <th>13</th>\n",
       "      <td>0.347822</td>\n",
       "      <td>15.447280</td>\n",
       "      <td>0.428571</td>\n",
       "    </tr>\n",
       "  </tbody>\n",
       "</table>\n",
       "</div>"
      ],
      "text/plain": [
       "    pseudo_R2   deviance  missclassification_error_rate\n",
       "0    0.090905  19.606163                       0.571429\n",
       "1    0.000000   8.638112                       0.542857\n",
       "2    0.099997  10.778963                       0.514286\n",
       "3    0.000000   4.723256                       0.457143\n",
       "4    0.173909  19.566555                       0.542857\n",
       "5    0.173909  19.566555                       0.542857\n",
       "6    0.399995  15.447280                       0.428571\n",
       "7    0.357138  18.536736                       0.514286\n",
       "8    0.384611  16.477099                       0.457143\n",
       "9    0.384611  16.477099                       0.457143\n",
       "10   0.333329  16.477099                       0.457143\n",
       "11   0.370366  17.506917                       0.485714\n",
       "12   0.333329  16.477099                       0.457143\n",
       "13   0.347822  15.447280                       0.428571"
      ]
     },
     "execution_count": 66,
     "metadata": {},
     "output_type": "execute_result"
    }
   ],
   "source": [
    "cartM = CARTClassifier(train_dm, test_dm)\n",
    "cartM.fit()"
   ]
  },
  {
   "cell_type": "code",
   "execution_count": 67,
   "metadata": {
    "vscode": {
     "languageId": "shellscript"
    }
   },
   "outputs": [
    {
     "data": {
      "text/html": [
       "<div>\n",
       "<style scoped>\n",
       "    .dataframe tbody tr th:only-of-type {\n",
       "        vertical-align: middle;\n",
       "    }\n",
       "\n",
       "    .dataframe tbody tr th {\n",
       "        vertical-align: top;\n",
       "    }\n",
       "\n",
       "    .dataframe thead th {\n",
       "        text-align: right;\n",
       "    }\n",
       "</style>\n",
       "<table border=\"1\" class=\"dataframe\">\n",
       "  <thead>\n",
       "    <tr style=\"text-align: right;\">\n",
       "      <th></th>\n",
       "      <th>pseudo_R2</th>\n",
       "      <th>deviance</th>\n",
       "      <th>missclassification_error_rate</th>\n",
       "    </tr>\n",
       "  </thead>\n",
       "  <tbody>\n",
       "    <tr>\n",
       "      <th>0</th>\n",
       "      <td>0.086952</td>\n",
       "      <td>20.647566</td>\n",
       "      <td>0.600000</td>\n",
       "    </tr>\n",
       "    <tr>\n",
       "      <th>1</th>\n",
       "      <td>0.499995</td>\n",
       "      <td>8.604095</td>\n",
       "      <td>0.457143</td>\n",
       "    </tr>\n",
       "    <tr>\n",
       "      <th>2</th>\n",
       "      <td>0.307688</td>\n",
       "      <td>10.722589</td>\n",
       "      <td>0.514286</td>\n",
       "    </tr>\n",
       "    <tr>\n",
       "      <th>3</th>\n",
       "      <td>0.384611</td>\n",
       "      <td>4.611137</td>\n",
       "      <td>0.457143</td>\n",
       "    </tr>\n",
       "    <tr>\n",
       "      <th>4</th>\n",
       "      <td>0.105260</td>\n",
       "      <td>17.506917</td>\n",
       "      <td>0.485714</td>\n",
       "    </tr>\n",
       "    <tr>\n",
       "      <th>5</th>\n",
       "      <td>0.173909</td>\n",
       "      <td>19.566555</td>\n",
       "      <td>0.542857</td>\n",
       "    </tr>\n",
       "    <tr>\n",
       "      <th>6</th>\n",
       "      <td>0.249996</td>\n",
       "      <td>18.536736</td>\n",
       "      <td>0.514286</td>\n",
       "    </tr>\n",
       "    <tr>\n",
       "      <th>7</th>\n",
       "      <td>0.296291</td>\n",
       "      <td>19.566555</td>\n",
       "      <td>0.542857</td>\n",
       "    </tr>\n",
       "    <tr>\n",
       "      <th>8</th>\n",
       "      <td>0.307688</td>\n",
       "      <td>18.536736</td>\n",
       "      <td>0.514286</td>\n",
       "    </tr>\n",
       "    <tr>\n",
       "      <th>9</th>\n",
       "      <td>0.384611</td>\n",
       "      <td>16.477099</td>\n",
       "      <td>0.457143</td>\n",
       "    </tr>\n",
       "    <tr>\n",
       "      <th>10</th>\n",
       "      <td>0.095234</td>\n",
       "      <td>19.566555</td>\n",
       "      <td>0.542857</td>\n",
       "    </tr>\n",
       "    <tr>\n",
       "      <th>11</th>\n",
       "      <td>0.357138</td>\n",
       "      <td>18.536736</td>\n",
       "      <td>0.514286</td>\n",
       "    </tr>\n",
       "    <tr>\n",
       "      <th>12</th>\n",
       "      <td>0.333329</td>\n",
       "      <td>16.477099</td>\n",
       "      <td>0.457143</td>\n",
       "    </tr>\n",
       "    <tr>\n",
       "      <th>13</th>\n",
       "      <td>0.347822</td>\n",
       "      <td>15.447280</td>\n",
       "      <td>0.428571</td>\n",
       "    </tr>\n",
       "  </tbody>\n",
       "</table>\n",
       "</div>"
      ],
      "text/plain": [
       "    pseudo_R2   deviance  missclassification_error_rate\n",
       "0    0.086952  20.647566                       0.600000\n",
       "1    0.499995   8.604095                       0.457143\n",
       "2    0.307688  10.722589                       0.514286\n",
       "3    0.384611   4.611137                       0.457143\n",
       "4    0.105260  17.506917                       0.485714\n",
       "5    0.173909  19.566555                       0.542857\n",
       "6    0.249996  18.536736                       0.514286\n",
       "7    0.296291  19.566555                       0.542857\n",
       "8    0.307688  18.536736                       0.514286\n",
       "9    0.384611  16.477099                       0.457143\n",
       "10   0.095234  19.566555                       0.542857\n",
       "11   0.357138  18.536736                       0.514286\n",
       "12   0.333329  16.477099                       0.457143\n",
       "13   0.347822  15.447280                       0.428571"
      ]
     },
     "execution_count": 67,
     "metadata": {},
     "output_type": "execute_result"
    }
   ],
   "source": [
    "cartF = CARTClassifier(dm_balanced, test_dm)\n",
    "cartF.fit()"
   ]
  },
  {
   "cell_type": "code",
   "execution_count": 68,
   "metadata": {
    "vscode": {
     "languageId": "shellscript"
    }
   },
   "outputs": [
    {
     "name": "stdout",
     "output_type": "stream",
     "text": [
      "Deviance: 0.851\n",
      "Misclassification Error Rate: 0.457\n",
      "Pseudo R2: 0.000\n"
     ]
    },
    {
     "name": "stderr",
     "output_type": "stream",
     "text": [
      "/home/konsternacja/anaconda3/envs/myenv/lib/python3.11/site-packages/sklearn/metrics/_classification.py:1344: UndefinedMetricWarning:\n",
      "\n",
      "Precision and F-score are ill-defined and being set to 0.0 in labels with no predicted samples. Use `zero_division` parameter to control this behavior.\n",
      "\n",
      "/home/konsternacja/anaconda3/envs/myenv/lib/python3.11/site-packages/sklearn/metrics/_classification.py:1344: UndefinedMetricWarning:\n",
      "\n",
      "Precision and F-score are ill-defined and being set to 0.0 in labels with no predicted samples. Use `zero_division` parameter to control this behavior.\n",
      "\n",
      "/home/konsternacja/anaconda3/envs/myenv/lib/python3.11/site-packages/sklearn/metrics/_classification.py:1344: UndefinedMetricWarning:\n",
      "\n",
      "Precision and F-score are ill-defined and being set to 0.0 in labels with no predicted samples. Use `zero_division` parameter to control this behavior.\n",
      "\n"
     ]
    }
   ],
   "source": [
    "logreg_classifierM = LogRegClassifier(train_dm, test_dm, ['bmi', 'wc', 'hc', 'whr'])\n",
    "logreg_classifierM.fit()"
   ]
  },
  {
   "cell_type": "code",
   "execution_count": 69,
   "metadata": {
    "vscode": {
     "languageId": "shellscript"
    }
   },
   "outputs": [
    {
     "name": "stdout",
     "output_type": "stream",
     "text": [
      "Deviance: 0.724\n",
      "Misclassification Error Rate: 0.571\n",
      "Pseudo R2: 0.333\n"
     ]
    }
   ],
   "source": [
    "logreg_classifierM_b = LogRegClassifier(dm_balanced, test_dm, ['bmi', 'wc', 'hc', 'whr'])\n",
    "logreg_classifierM_b.fit()"
   ]
  },
  {
   "attachments": {},
   "cell_type": "markdown",
   "metadata": {},
   "source": [
    "## CART and SVM"
   ]
  },
  {
   "cell_type": "code",
   "execution_count": 81,
   "metadata": {
    "vscode": {
     "languageId": "shellscript"
    }
   },
   "outputs": [],
   "source": [
    "from sklearn import svm\n",
    "from sklearn.tree import DecisionTreeClassifier\n",
    "\n",
    "class CSClassifier:\n",
    "    def __init__(self, train, test):\n",
    "        self.train = train\n",
    "        self.test = test\n",
    "        \n",
    "        self.predictors = [['bmi'],['wc'],['hc'],['whr'],['bmi','wc'],['bmi','hc'],['bmi','whr'],\n",
    "                           ['wc','hc'],['wc','whr'],['hc','whr'],['bmi','wc','hc'],['wc','hc','whr'],\n",
    "                           ['bmi','wc','whr'],['bmi','hc','whr'],['bmi', 'wc', 'hc', 'whr']]\n",
    "    \n",
    "    def fit(self):\n",
    "        PR2 = []\n",
    "        DEV = []\n",
    "        MER = []\n",
    "        \n",
    "        for i in range(len(self.predictors)):\n",
    "            X_train = self.train[self.predictors[i]]\n",
    "            y_train = self.train.iloc[:, -1]\n",
    "            x_test = self.test[self.predictors[i]]\n",
    "            Y_test = self.test.iloc[:, -1]\n",
    "\n",
    "            # SVM\n",
    "            svm_model = svm.SVC(probability=True, random_state=16)\n",
    "            svm_model.fit(X_train, y_train)\n",
    "            X_train_svm = svm_model.predict_proba(X_train)[:, 1]  # Use SVM predictions as features\n",
    "            \n",
    "            # Decision Tree Classifier\n",
    "            dt_model = DecisionTreeClassifier(criterion='gini', splitter='best', max_depth=None, min_samples_split=2,\n",
    "                                 min_samples_leaf=1, min_weight_fraction_leaf=0.0, max_features=None, \n",
    "                                 random_state=None, max_leaf_nodes=None, min_impurity_decrease=0.0,\n",
    "                                 class_weight=None)\n",
    "            dt_model.fit(X_train_svm.reshape(-1, 1), y_train)  # Reshape SVM predictions for Decision Tree\n",
    "\n",
    "            X_test_svm = svm_model.predict_proba(x_test)[:, 1]  # Use SVM predictions as features for test data\n",
    "            Y_test_pred_dt = dt_model.predict(X_test_svm.reshape(-1, 1))\n",
    "            y_pred_prob_dt = dt_model.predict_proba(X_test_svm.reshape(-1, 1))\n",
    "\n",
    "            # Metrics for Decision Tree\n",
    "            cnf_matrix_dt = metrics.confusion_matrix(Y_test, Y_test_pred_dt)\n",
    "            misclassification_error_rate_dt = (cnf_matrix_dt[0, 1] + cnf_matrix_dt[1, 0]) / cnf_matrix_dt.sum()\n",
    "            deviance_dt = log_loss(Y_test, y_pred_prob_dt)\n",
    "            report_dt = classification_report(Y_test, Y_test_pred_dt, output_dict=True)\n",
    "            precision_dt = report_dt['1']['precision']\n",
    "            recall_dt = report_dt['1']['recall']\n",
    "            f1_score_dt = report_dt['1']['f1-score']\n",
    "            pseudo_r2_dt = (2 * (precision_dt * recall_dt)) / (precision_dt + recall_dt + 0.00001)\n",
    "\n",
    "            PR2.append(pseudo_r2_dt)\n",
    "            DEV.append(deviance_dt)\n",
    "            MER.append(misclassification_error_rate_dt)\n",
    "\n",
    "        return pd.DataFrame(list(zip(PR2, DEV, MER, [\"/\".join(p) for p in self.predictors])), \n",
    "        columns=[\"pseudo_R2\", \"deviance\", \"missclassification_error_rate\", \"predictors\"])"
   ]
  },
  {
   "cell_type": "code",
   "execution_count": 82,
   "metadata": {
    "vscode": {
     "languageId": "shellscript"
    }
   },
   "outputs": [
    {
     "data": {
      "text/html": [
       "<div>\n",
       "<style scoped>\n",
       "    .dataframe tbody tr th:only-of-type {\n",
       "        vertical-align: middle;\n",
       "    }\n",
       "\n",
       "    .dataframe tbody tr th {\n",
       "        vertical-align: top;\n",
       "    }\n",
       "\n",
       "    .dataframe thead th {\n",
       "        text-align: right;\n",
       "    }\n",
       "</style>\n",
       "<table border=\"1\" class=\"dataframe\">\n",
       "  <thead>\n",
       "    <tr style=\"text-align: right;\">\n",
       "      <th></th>\n",
       "      <th>pseudo_R2</th>\n",
       "      <th>deviance</th>\n",
       "      <th>missclassification_error_rate</th>\n",
       "      <th>predictors</th>\n",
       "    </tr>\n",
       "  </thead>\n",
       "  <tbody>\n",
       "    <tr>\n",
       "      <th>0</th>\n",
       "      <td>0.333328</td>\n",
       "      <td>16.912791</td>\n",
       "      <td>0.533333</td>\n",
       "      <td>bmi</td>\n",
       "    </tr>\n",
       "    <tr>\n",
       "      <th>1</th>\n",
       "      <td>0.363631</td>\n",
       "      <td>3.850684</td>\n",
       "      <td>0.466667</td>\n",
       "      <td>wc</td>\n",
       "    </tr>\n",
       "    <tr>\n",
       "      <th>2</th>\n",
       "      <td>0.342852</td>\n",
       "      <td>2.277112</td>\n",
       "      <td>0.511111</td>\n",
       "      <td>hc</td>\n",
       "    </tr>\n",
       "    <tr>\n",
       "      <th>3</th>\n",
       "      <td>0.285710</td>\n",
       "      <td>2.256460</td>\n",
       "      <td>0.444444</td>\n",
       "      <td>whr</td>\n",
       "    </tr>\n",
       "    <tr>\n",
       "      <th>4</th>\n",
       "      <td>0.424237</td>\n",
       "      <td>14.432865</td>\n",
       "      <td>0.422222</td>\n",
       "      <td>bmi/wc</td>\n",
       "    </tr>\n",
       "    <tr>\n",
       "      <th>5</th>\n",
       "      <td>0.470583</td>\n",
       "      <td>14.417461</td>\n",
       "      <td>0.400000</td>\n",
       "      <td>bmi/hc</td>\n",
       "    </tr>\n",
       "    <tr>\n",
       "      <th>6</th>\n",
       "      <td>0.428567</td>\n",
       "      <td>19.223282</td>\n",
       "      <td>0.533333</td>\n",
       "      <td>bmi/whr</td>\n",
       "    </tr>\n",
       "    <tr>\n",
       "      <th>7</th>\n",
       "      <td>0.399995</td>\n",
       "      <td>16.105428</td>\n",
       "      <td>0.466667</td>\n",
       "      <td>wc/hc</td>\n",
       "    </tr>\n",
       "    <tr>\n",
       "      <th>8</th>\n",
       "      <td>0.444439</td>\n",
       "      <td>13.733325</td>\n",
       "      <td>0.444444</td>\n",
       "      <td>wc/whr</td>\n",
       "    </tr>\n",
       "    <tr>\n",
       "      <th>9</th>\n",
       "      <td>0.432427</td>\n",
       "      <td>15.332647</td>\n",
       "      <td>0.466667</td>\n",
       "      <td>hc/whr</td>\n",
       "    </tr>\n",
       "    <tr>\n",
       "      <th>10</th>\n",
       "      <td>0.421048</td>\n",
       "      <td>17.621342</td>\n",
       "      <td>0.488889</td>\n",
       "      <td>bmi/wc/hc</td>\n",
       "    </tr>\n",
       "    <tr>\n",
       "      <th>11</th>\n",
       "      <td>0.499995</td>\n",
       "      <td>14.479074</td>\n",
       "      <td>0.400000</td>\n",
       "      <td>wc/hc/whr</td>\n",
       "    </tr>\n",
       "    <tr>\n",
       "      <th>12</th>\n",
       "      <td>0.444439</td>\n",
       "      <td>16.019402</td>\n",
       "      <td>0.444444</td>\n",
       "      <td>bmi/wc/whr</td>\n",
       "    </tr>\n",
       "    <tr>\n",
       "      <th>13</th>\n",
       "      <td>0.388884</td>\n",
       "      <td>17.621342</td>\n",
       "      <td>0.488889</td>\n",
       "      <td>bmi/hc/whr</td>\n",
       "    </tr>\n",
       "    <tr>\n",
       "      <th>14</th>\n",
       "      <td>0.357138</td>\n",
       "      <td>13.647298</td>\n",
       "      <td>0.400000</td>\n",
       "      <td>bmi/wc/hc/whr</td>\n",
       "    </tr>\n",
       "  </tbody>\n",
       "</table>\n",
       "</div>"
      ],
      "text/plain": [
       "    pseudo_R2   deviance  missclassification_error_rate     predictors\n",
       "0    0.333328  16.912791                       0.533333            bmi\n",
       "1    0.363631   3.850684                       0.466667             wc\n",
       "2    0.342852   2.277112                       0.511111             hc\n",
       "3    0.285710   2.256460                       0.444444            whr\n",
       "4    0.424237  14.432865                       0.422222         bmi/wc\n",
       "5    0.470583  14.417461                       0.400000         bmi/hc\n",
       "6    0.428567  19.223282                       0.533333        bmi/whr\n",
       "7    0.399995  16.105428                       0.466667          wc/hc\n",
       "8    0.444439  13.733325                       0.444444         wc/whr\n",
       "9    0.432427  15.332647                       0.466667         hc/whr\n",
       "10   0.421048  17.621342                       0.488889      bmi/wc/hc\n",
       "11   0.499995  14.479074                       0.400000      wc/hc/whr\n",
       "12   0.444439  16.019402                       0.444444     bmi/wc/whr\n",
       "13   0.388884  17.621342                       0.488889     bmi/hc/whr\n",
       "14   0.357138  13.647298                       0.400000  bmi/wc/hc/whr"
      ]
     },
     "execution_count": 82,
     "metadata": {},
     "output_type": "execute_result"
    }
   ],
   "source": [
    "csF = CSClassifier(train_df, test_df)\n",
    "csF.fit()"
   ]
  },
  {
   "cell_type": "code",
   "execution_count": 83,
   "metadata": {
    "vscode": {
     "languageId": "shellscript"
    }
   },
   "outputs": [
    {
     "data": {
      "text/html": [
       "<div>\n",
       "<style scoped>\n",
       "    .dataframe tbody tr th:only-of-type {\n",
       "        vertical-align: middle;\n",
       "    }\n",
       "\n",
       "    .dataframe tbody tr th {\n",
       "        vertical-align: top;\n",
       "    }\n",
       "\n",
       "    .dataframe thead th {\n",
       "        text-align: right;\n",
       "    }\n",
       "</style>\n",
       "<table border=\"1\" class=\"dataframe\">\n",
       "  <thead>\n",
       "    <tr style=\"text-align: right;\">\n",
       "      <th></th>\n",
       "      <th>pseudo_R2</th>\n",
       "      <th>deviance</th>\n",
       "      <th>missclassification_error_rate</th>\n",
       "      <th>predictors</th>\n",
       "    </tr>\n",
       "  </thead>\n",
       "  <tbody>\n",
       "    <tr>\n",
       "      <th>0</th>\n",
       "      <td>0.333328</td>\n",
       "      <td>16.912791</td>\n",
       "      <td>0.533333</td>\n",
       "      <td>bmi</td>\n",
       "    </tr>\n",
       "    <tr>\n",
       "      <th>1</th>\n",
       "      <td>0.363631</td>\n",
       "      <td>3.850684</td>\n",
       "      <td>0.466667</td>\n",
       "      <td>wc</td>\n",
       "    </tr>\n",
       "    <tr>\n",
       "      <th>2</th>\n",
       "      <td>0.342852</td>\n",
       "      <td>2.277112</td>\n",
       "      <td>0.511111</td>\n",
       "      <td>hc</td>\n",
       "    </tr>\n",
       "    <tr>\n",
       "      <th>3</th>\n",
       "      <td>0.285710</td>\n",
       "      <td>2.256460</td>\n",
       "      <td>0.444444</td>\n",
       "      <td>whr</td>\n",
       "    </tr>\n",
       "    <tr>\n",
       "      <th>4</th>\n",
       "      <td>0.424237</td>\n",
       "      <td>14.432865</td>\n",
       "      <td>0.422222</td>\n",
       "      <td>bmi/wc</td>\n",
       "    </tr>\n",
       "    <tr>\n",
       "      <th>5</th>\n",
       "      <td>0.470583</td>\n",
       "      <td>14.417461</td>\n",
       "      <td>0.400000</td>\n",
       "      <td>bmi/hc</td>\n",
       "    </tr>\n",
       "    <tr>\n",
       "      <th>6</th>\n",
       "      <td>0.428567</td>\n",
       "      <td>19.223282</td>\n",
       "      <td>0.533333</td>\n",
       "      <td>bmi/whr</td>\n",
       "    </tr>\n",
       "    <tr>\n",
       "      <th>7</th>\n",
       "      <td>0.399995</td>\n",
       "      <td>16.105428</td>\n",
       "      <td>0.466667</td>\n",
       "      <td>wc/hc</td>\n",
       "    </tr>\n",
       "    <tr>\n",
       "      <th>8</th>\n",
       "      <td>0.444439</td>\n",
       "      <td>13.733325</td>\n",
       "      <td>0.444444</td>\n",
       "      <td>wc/whr</td>\n",
       "    </tr>\n",
       "    <tr>\n",
       "      <th>9</th>\n",
       "      <td>0.432427</td>\n",
       "      <td>15.332647</td>\n",
       "      <td>0.466667</td>\n",
       "      <td>hc/whr</td>\n",
       "    </tr>\n",
       "    <tr>\n",
       "      <th>10</th>\n",
       "      <td>0.421048</td>\n",
       "      <td>17.621342</td>\n",
       "      <td>0.488889</td>\n",
       "      <td>bmi/wc/hc</td>\n",
       "    </tr>\n",
       "    <tr>\n",
       "      <th>11</th>\n",
       "      <td>0.499995</td>\n",
       "      <td>14.479074</td>\n",
       "      <td>0.400000</td>\n",
       "      <td>wc/hc/whr</td>\n",
       "    </tr>\n",
       "    <tr>\n",
       "      <th>12</th>\n",
       "      <td>0.444439</td>\n",
       "      <td>16.019402</td>\n",
       "      <td>0.444444</td>\n",
       "      <td>bmi/wc/whr</td>\n",
       "    </tr>\n",
       "    <tr>\n",
       "      <th>13</th>\n",
       "      <td>0.388884</td>\n",
       "      <td>17.621342</td>\n",
       "      <td>0.488889</td>\n",
       "      <td>bmi/hc/whr</td>\n",
       "    </tr>\n",
       "    <tr>\n",
       "      <th>14</th>\n",
       "      <td>0.357138</td>\n",
       "      <td>13.647298</td>\n",
       "      <td>0.400000</td>\n",
       "      <td>bmi/wc/hc/whr</td>\n",
       "    </tr>\n",
       "  </tbody>\n",
       "</table>\n",
       "</div>"
      ],
      "text/plain": [
       "    pseudo_R2   deviance  missclassification_error_rate     predictors\n",
       "0    0.333328  16.912791                       0.533333            bmi\n",
       "1    0.363631   3.850684                       0.466667             wc\n",
       "2    0.342852   2.277112                       0.511111             hc\n",
       "3    0.285710   2.256460                       0.444444            whr\n",
       "4    0.424237  14.432865                       0.422222         bmi/wc\n",
       "5    0.470583  14.417461                       0.400000         bmi/hc\n",
       "6    0.428567  19.223282                       0.533333        bmi/whr\n",
       "7    0.399995  16.105428                       0.466667          wc/hc\n",
       "8    0.444439  13.733325                       0.444444         wc/whr\n",
       "9    0.432427  15.332647                       0.466667         hc/whr\n",
       "10   0.421048  17.621342                       0.488889      bmi/wc/hc\n",
       "11   0.499995  14.479074                       0.400000      wc/hc/whr\n",
       "12   0.444439  16.019402                       0.444444     bmi/wc/whr\n",
       "13   0.388884  17.621342                       0.488889     bmi/hc/whr\n",
       "14   0.357138  13.647298                       0.400000  bmi/wc/hc/whr"
      ]
     },
     "execution_count": 83,
     "metadata": {},
     "output_type": "execute_result"
    }
   ],
   "source": [
    "csF_b = CSClassifier(df_balanced, test_df)\n",
    "csF.fit()"
   ]
  },
  {
   "cell_type": "code",
   "execution_count": 84,
   "metadata": {
    "vscode": {
     "languageId": "shellscript"
    }
   },
   "outputs": [
    {
     "name": "stderr",
     "output_type": "stream",
     "text": [
      "/home/konsternacja/anaconda3/envs/myenv/lib/python3.11/site-packages/sklearn/metrics/_classification.py:1344: UndefinedMetricWarning:\n",
      "\n",
      "Precision and F-score are ill-defined and being set to 0.0 in labels with no predicted samples. Use `zero_division` parameter to control this behavior.\n",
      "\n",
      "/home/konsternacja/anaconda3/envs/myenv/lib/python3.11/site-packages/sklearn/metrics/_classification.py:1344: UndefinedMetricWarning:\n",
      "\n",
      "Precision and F-score are ill-defined and being set to 0.0 in labels with no predicted samples. Use `zero_division` parameter to control this behavior.\n",
      "\n",
      "/home/konsternacja/anaconda3/envs/myenv/lib/python3.11/site-packages/sklearn/metrics/_classification.py:1344: UndefinedMetricWarning:\n",
      "\n",
      "Precision and F-score are ill-defined and being set to 0.0 in labels with no predicted samples. Use `zero_division` parameter to control this behavior.\n",
      "\n"
     ]
    },
    {
     "data": {
      "text/html": [
       "<div>\n",
       "<style scoped>\n",
       "    .dataframe tbody tr th:only-of-type {\n",
       "        vertical-align: middle;\n",
       "    }\n",
       "\n",
       "    .dataframe tbody tr th {\n",
       "        vertical-align: top;\n",
       "    }\n",
       "\n",
       "    .dataframe thead th {\n",
       "        text-align: right;\n",
       "    }\n",
       "</style>\n",
       "<table border=\"1\" class=\"dataframe\">\n",
       "  <thead>\n",
       "    <tr style=\"text-align: right;\">\n",
       "      <th></th>\n",
       "      <th>pseudo_R2</th>\n",
       "      <th>deviance</th>\n",
       "      <th>missclassification_error_rate</th>\n",
       "      <th>predictors</th>\n",
       "    </tr>\n",
       "  </thead>\n",
       "  <tbody>\n",
       "    <tr>\n",
       "      <th>0</th>\n",
       "      <td>0.199997</td>\n",
       "      <td>16.477099</td>\n",
       "      <td>0.457143</td>\n",
       "      <td>bmi</td>\n",
       "    </tr>\n",
       "    <tr>\n",
       "      <th>1</th>\n",
       "      <td>0.000000</td>\n",
       "      <td>8.638112</td>\n",
       "      <td>0.542857</td>\n",
       "      <td>wc</td>\n",
       "    </tr>\n",
       "    <tr>\n",
       "      <th>2</th>\n",
       "      <td>0.099997</td>\n",
       "      <td>10.781600</td>\n",
       "      <td>0.514286</td>\n",
       "      <td>hc</td>\n",
       "    </tr>\n",
       "    <tr>\n",
       "      <th>3</th>\n",
       "      <td>0.000000</td>\n",
       "      <td>4.723256</td>\n",
       "      <td>0.457143</td>\n",
       "      <td>whr</td>\n",
       "    </tr>\n",
       "    <tr>\n",
       "      <th>4</th>\n",
       "      <td>0.099997</td>\n",
       "      <td>18.536736</td>\n",
       "      <td>0.514286</td>\n",
       "      <td>bmi/wc</td>\n",
       "    </tr>\n",
       "    <tr>\n",
       "      <th>5</th>\n",
       "      <td>0.095234</td>\n",
       "      <td>19.566555</td>\n",
       "      <td>0.542857</td>\n",
       "      <td>bmi/hc</td>\n",
       "    </tr>\n",
       "    <tr>\n",
       "      <th>6</th>\n",
       "      <td>0.312495</td>\n",
       "      <td>22.656011</td>\n",
       "      <td>0.628571</td>\n",
       "      <td>bmi/whr</td>\n",
       "    </tr>\n",
       "    <tr>\n",
       "      <th>7</th>\n",
       "      <td>0.285709</td>\n",
       "      <td>20.596373</td>\n",
       "      <td>0.571429</td>\n",
       "      <td>wc/hc</td>\n",
       "    </tr>\n",
       "    <tr>\n",
       "      <th>8</th>\n",
       "      <td>0.307688</td>\n",
       "      <td>18.576344</td>\n",
       "      <td>0.514286</td>\n",
       "      <td>wc/whr</td>\n",
       "    </tr>\n",
       "    <tr>\n",
       "      <th>9</th>\n",
       "      <td>0.370366</td>\n",
       "      <td>17.506917</td>\n",
       "      <td>0.485714</td>\n",
       "      <td>hc/whr</td>\n",
       "    </tr>\n",
       "    <tr>\n",
       "      <th>10</th>\n",
       "      <td>0.272723</td>\n",
       "      <td>16.477099</td>\n",
       "      <td>0.457143</td>\n",
       "      <td>bmi/wc/hc</td>\n",
       "    </tr>\n",
       "    <tr>\n",
       "      <th>11</th>\n",
       "      <td>0.444440</td>\n",
       "      <td>14.457070</td>\n",
       "      <td>0.428571</td>\n",
       "      <td>wc/hc/whr</td>\n",
       "    </tr>\n",
       "    <tr>\n",
       "      <th>12</th>\n",
       "      <td>0.206892</td>\n",
       "      <td>23.685829</td>\n",
       "      <td>0.657143</td>\n",
       "      <td>bmi/wc/whr</td>\n",
       "    </tr>\n",
       "    <tr>\n",
       "      <th>13</th>\n",
       "      <td>0.296291</td>\n",
       "      <td>19.566555</td>\n",
       "      <td>0.542857</td>\n",
       "      <td>bmi/hc/whr</td>\n",
       "    </tr>\n",
       "    <tr>\n",
       "      <th>14</th>\n",
       "      <td>0.099997</td>\n",
       "      <td>18.536736</td>\n",
       "      <td>0.514286</td>\n",
       "      <td>bmi/wc/hc/whr</td>\n",
       "    </tr>\n",
       "  </tbody>\n",
       "</table>\n",
       "</div>"
      ],
      "text/plain": [
       "    pseudo_R2   deviance  missclassification_error_rate     predictors\n",
       "0    0.199997  16.477099                       0.457143            bmi\n",
       "1    0.000000   8.638112                       0.542857             wc\n",
       "2    0.099997  10.781600                       0.514286             hc\n",
       "3    0.000000   4.723256                       0.457143            whr\n",
       "4    0.099997  18.536736                       0.514286         bmi/wc\n",
       "5    0.095234  19.566555                       0.542857         bmi/hc\n",
       "6    0.312495  22.656011                       0.628571        bmi/whr\n",
       "7    0.285709  20.596373                       0.571429          wc/hc\n",
       "8    0.307688  18.576344                       0.514286         wc/whr\n",
       "9    0.370366  17.506917                       0.485714         hc/whr\n",
       "10   0.272723  16.477099                       0.457143      bmi/wc/hc\n",
       "11   0.444440  14.457070                       0.428571      wc/hc/whr\n",
       "12   0.206892  23.685829                       0.657143     bmi/wc/whr\n",
       "13   0.296291  19.566555                       0.542857     bmi/hc/whr\n",
       "14   0.099997  18.536736                       0.514286  bmi/wc/hc/whr"
      ]
     },
     "execution_count": 84,
     "metadata": {},
     "output_type": "execute_result"
    }
   ],
   "source": [
    "csM = CSClassifier(train_dm, test_dm)\n",
    "csM.fit()"
   ]
  },
  {
   "cell_type": "code",
   "execution_count": 85,
   "metadata": {
    "vscode": {
     "languageId": "shellscript"
    }
   },
   "outputs": [
    {
     "data": {
      "text/html": [
       "<div>\n",
       "<style scoped>\n",
       "    .dataframe tbody tr th:only-of-type {\n",
       "        vertical-align: middle;\n",
       "    }\n",
       "\n",
       "    .dataframe tbody tr th {\n",
       "        vertical-align: top;\n",
       "    }\n",
       "\n",
       "    .dataframe thead th {\n",
       "        text-align: right;\n",
       "    }\n",
       "</style>\n",
       "<table border=\"1\" class=\"dataframe\">\n",
       "  <thead>\n",
       "    <tr style=\"text-align: right;\">\n",
       "      <th></th>\n",
       "      <th>pseudo_R2</th>\n",
       "      <th>deviance</th>\n",
       "      <th>missclassification_error_rate</th>\n",
       "      <th>predictors</th>\n",
       "    </tr>\n",
       "  </thead>\n",
       "  <tbody>\n",
       "    <tr>\n",
       "      <th>0</th>\n",
       "      <td>0.083329</td>\n",
       "      <td>21.677385</td>\n",
       "      <td>0.628571</td>\n",
       "      <td>bmi</td>\n",
       "    </tr>\n",
       "    <tr>\n",
       "      <th>1</th>\n",
       "      <td>0.499995</td>\n",
       "      <td>8.611462</td>\n",
       "      <td>0.457143</td>\n",
       "      <td>wc</td>\n",
       "    </tr>\n",
       "    <tr>\n",
       "      <th>2</th>\n",
       "      <td>0.307688</td>\n",
       "      <td>10.722589</td>\n",
       "      <td>0.514286</td>\n",
       "      <td>hc</td>\n",
       "    </tr>\n",
       "    <tr>\n",
       "      <th>3</th>\n",
       "      <td>0.384611</td>\n",
       "      <td>4.618633</td>\n",
       "      <td>0.457143</td>\n",
       "      <td>whr</td>\n",
       "    </tr>\n",
       "    <tr>\n",
       "      <th>4</th>\n",
       "      <td>0.239995</td>\n",
       "      <td>19.566555</td>\n",
       "      <td>0.542857</td>\n",
       "      <td>bmi/wc</td>\n",
       "    </tr>\n",
       "    <tr>\n",
       "      <th>5</th>\n",
       "      <td>0.190473</td>\n",
       "      <td>17.536107</td>\n",
       "      <td>0.485714</td>\n",
       "      <td>bmi/hc</td>\n",
       "    </tr>\n",
       "    <tr>\n",
       "      <th>6</th>\n",
       "      <td>0.260865</td>\n",
       "      <td>16.531743</td>\n",
       "      <td>0.485714</td>\n",
       "      <td>bmi/whr</td>\n",
       "    </tr>\n",
       "    <tr>\n",
       "      <th>7</th>\n",
       "      <td>0.239995</td>\n",
       "      <td>18.587929</td>\n",
       "      <td>0.542857</td>\n",
       "      <td>wc/hc</td>\n",
       "    </tr>\n",
       "    <tr>\n",
       "      <th>8</th>\n",
       "      <td>0.173909</td>\n",
       "      <td>19.566555</td>\n",
       "      <td>0.542857</td>\n",
       "      <td>wc/whr</td>\n",
       "    </tr>\n",
       "    <tr>\n",
       "      <th>9</th>\n",
       "      <td>0.173909</td>\n",
       "      <td>18.587929</td>\n",
       "      <td>0.542857</td>\n",
       "      <td>hc/whr</td>\n",
       "    </tr>\n",
       "    <tr>\n",
       "      <th>10</th>\n",
       "      <td>0.416662</td>\n",
       "      <td>14.417461</td>\n",
       "      <td>0.400000</td>\n",
       "      <td>bmi/wc/hc</td>\n",
       "    </tr>\n",
       "    <tr>\n",
       "      <th>11</th>\n",
       "      <td>0.249996</td>\n",
       "      <td>17.535820</td>\n",
       "      <td>0.514286</td>\n",
       "      <td>wc/hc/whr</td>\n",
       "    </tr>\n",
       "    <tr>\n",
       "      <th>12</th>\n",
       "      <td>0.333329</td>\n",
       "      <td>16.477099</td>\n",
       "      <td>0.457143</td>\n",
       "      <td>bmi/wc/whr</td>\n",
       "    </tr>\n",
       "    <tr>\n",
       "      <th>13</th>\n",
       "      <td>0.538457</td>\n",
       "      <td>12.357824</td>\n",
       "      <td>0.342857</td>\n",
       "      <td>bmi/hc/whr</td>\n",
       "    </tr>\n",
       "    <tr>\n",
       "      <th>14</th>\n",
       "      <td>0.479995</td>\n",
       "      <td>13.387643</td>\n",
       "      <td>0.371429</td>\n",
       "      <td>bmi/wc/hc/whr</td>\n",
       "    </tr>\n",
       "  </tbody>\n",
       "</table>\n",
       "</div>"
      ],
      "text/plain": [
       "    pseudo_R2   deviance  missclassification_error_rate     predictors\n",
       "0    0.083329  21.677385                       0.628571            bmi\n",
       "1    0.499995   8.611462                       0.457143             wc\n",
       "2    0.307688  10.722589                       0.514286             hc\n",
       "3    0.384611   4.618633                       0.457143            whr\n",
       "4    0.239995  19.566555                       0.542857         bmi/wc\n",
       "5    0.190473  17.536107                       0.485714         bmi/hc\n",
       "6    0.260865  16.531743                       0.485714        bmi/whr\n",
       "7    0.239995  18.587929                       0.542857          wc/hc\n",
       "8    0.173909  19.566555                       0.542857         wc/whr\n",
       "9    0.173909  18.587929                       0.542857         hc/whr\n",
       "10   0.416662  14.417461                       0.400000      bmi/wc/hc\n",
       "11   0.249996  17.535820                       0.514286      wc/hc/whr\n",
       "12   0.333329  16.477099                       0.457143     bmi/wc/whr\n",
       "13   0.538457  12.357824                       0.342857     bmi/hc/whr\n",
       "14   0.479995  13.387643                       0.371429  bmi/wc/hc/whr"
      ]
     },
     "execution_count": 85,
     "metadata": {},
     "output_type": "execute_result"
    }
   ],
   "source": [
    "csM_b = CSClassifier(dm_balanced, test_dm)\n",
    "csM_b.fit()"
   ]
  }
 ],
 "metadata": {
  "kernelspec": {
   "display_name": "myenv",
   "language": "python",
   "name": "python3"
  },
  "language_info": {
   "codemirror_mode": {
    "name": "ipython",
    "version": 3
   },
   "file_extension": ".py",
   "mimetype": "text/x-python",
   "name": "python",
   "nbconvert_exporter": "python",
   "pygments_lexer": "ipython3",
   "version": "3.11.0"
  },
  "orig_nbformat": 4
 },
 "nbformat": 4,
 "nbformat_minor": 2
}
